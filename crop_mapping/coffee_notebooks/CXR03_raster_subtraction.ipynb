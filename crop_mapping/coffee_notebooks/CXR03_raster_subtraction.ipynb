{
 "cells": [
  {
   "cell_type": "code",
   "execution_count": 5,
   "metadata": {},
   "outputs": [
    {
     "name": "stdout",
     "output_type": "stream",
     "text": [
      "The autoreload extension is already loaded. To reload it, use:\n",
      "  %reload_ext autoreload\n"
     ]
    },
    {
     "name": "stderr",
     "output_type": "stream",
     "text": [
      "/tmp/ipykernel_9319/3688194975.py:22: UserWarning: Geometry is in a geographic CRS. Results from 'buffer' are likely incorrect. Use 'GeoSeries.to_crs()' to re-project geometries to a projected CRS before this operation.\n",
      "\n",
      "  geometry=[v2_det_5.buffer(0.0001).union_all()], crs=v2_det_5.crs).explode(index_parts=True)\n"
     ]
    }
   ],
   "source": [
    "%load_ext autoreload\n",
    "%autoreload 2\n",
    "\n",
    "import sys\n",
    "sys.path.insert(0, '../src')\n",
    "import geopandas as gpd\n",
    "from ipyleaflet import Map, GeoData, LayersControl, WidgetControl\n",
    "from ipywidgets import IntSlider, VBox, HTML, Button, HBox\n",
    "import ipyleaflet as ipyl\n",
    "import shapely\n",
    "import ee\n",
    "\n",
    "from gee import initialize_ee_with_credentials, get_s2_hsv_median, get_ee_image_url, get_planet_rgb_median, get_planet_ndvi_median, get_planet_hsv_median\n",
    "from ui import BASEMAP_TILES\n",
    "\n",
    "initialize_ee_with_credentials()\n",
    "\n",
    "\n",
    "v2_det_5 = gpd.GeoDataFrame(\n",
    "    geometry=gpd.read_parquet(\"gs://demeter-labs/coffee/detections/tile_classifier_predictions_v0_costa-rica_posw1.0_prob_0.5_postprocess.parquet\").geometry)\n",
    "v2_det_5 = gpd.GeoDataFrame(\n",
    "    geometry=[v2_det_5.buffer(0.0001).union_all()], crs=v2_det_5.crs).explode(index_parts=True)\n",
    "\n",
    "\n",
    "BOUNDARY_PATH = \"/home/christopher.x.ren/earth-index-ml/places/costa_rica.geojson\"\n",
    "BOUNDARY = gpd.read_file(BOUNDARY_PATH)\n",
    "boundary_geom = ee.Geometry(shapely.geometry.mapping(BOUNDARY.geometry.iloc[0]))\n",
    "\n",
    "hsv_median = get_s2_hsv_median(boundary_geom, '2023-01-01', '2024-12-31')\n",
    "planet_rgb = get_planet_rgb_median(boundary_geom, '2023-01-01', '2024-12-31')\n",
    "planet_ndvi = get_planet_ndvi_median(boundary_geom, '2023-01-01', '2024-12-31')\n",
    "planet_hsv = get_planet_hsv_median(boundary_geom, '2023-01-01', '2024-12-31')\n",
    "\n",
    "# Get tile URLs\n",
    "hsv_url = get_ee_image_url(hsv_median, {\n",
    "    'min': [0, 0, 0],\n",
    "    'max': [1, 1, 1],\n",
    "    'bands': ['hue', 'saturation', 'value']\n",
    "})\n",
    "rgb_url = get_ee_image_url(planet_rgb, {\n",
    "    'min': [0, 0, 0],\n",
    "    'max': [2000, 2000, 2000],\n",
    "    'bands': ['R', 'G', 'B']\n",
    "})\n",
    "ndvi_url = get_ee_image_url(planet_ndvi, {\n",
    "    'min': -1,\n",
    "    'max': 1,\n",
    "    'palette': ['red', 'yellow', 'green']\n",
    "})\n",
    "planet_hsv_url = get_ee_image_url(planet_hsv, {\n",
    "    'min': [0, 0, 0],\n",
    "    'max': [1, 1, 1],\n",
    "    'bands': ['hue', 'saturation', 'value']\n",
    "})\n",
    "\n",
    "BASEMAP_TILES['HSV_MEDIAN'] = hsv_url\n",
    "BASEMAP_TILES['PLANET_RGB'] = rgb_url\n",
    "BASEMAP_TILES['PLANET_NDVI'] = ndvi_url\n",
    "BASEMAP_TILES['PLANET_HSV'] = planet_hsv_url\n",
    "\n",
    "current_basemap = 'GOOGLE_HYBRID'\n",
    "basemap_layer = ipyl.TileLayer(url=BASEMAP_TILES[current_basemap], no_wrap=True, name='basemap')\n",
    "m = Map(basemap=basemap_layer, center=(-2, 120), zoom=5, layout={'height':'600px'}, scroll_wheel_zoom=True)\n",
    "\n",
    "v2_det_layer = GeoData(\n",
    "    geo_dataframe=v2_det_5,\n",
    "    style={'color': '#377eb8', 'fillOpacity': 0.1},\n",
    "    name='V2 Detections'\n",
    ")\n",
    "m.add_layer(v2_det_layer)"
   ]
  },
  {
   "cell_type": "code",
   "execution_count": 6,
   "metadata": {},
   "outputs": [
    {
     "data": {
      "application/vnd.jupyter.widget-view+json": {
       "model_id": "4c32d849c90046b8a47f55654165a0b2",
       "version_major": 2,
       "version_minor": 0
      },
      "text/plain": [
       "Map(center=[-2, 120], controls=(ZoomControl(options=['position', 'zoom_in_text', 'zoom_in_title', 'zoom_out_te…"
      ]
     },
     "execution_count": 6,
     "metadata": {},
     "output_type": "execute_result"
    }
   ],
   "source": [
    "m"
   ]
  },
  {
   "cell_type": "code",
   "execution_count": 8,
   "metadata": {},
   "outputs": [
    {
     "name": "stderr",
     "output_type": "stream",
     "text": [
      "/home/christopher.x.ren/miniforge3/envs/ei-nb-v2/lib/python3.12/site-packages/pyogrio/raw.py:723: RuntimeWarning: Value 180385182.204809487 of field area of feature 3459 not successfully written. Possibly due to too larger number with respect to field width\n",
      "  ogr_write(\n",
      "/home/christopher.x.ren/miniforge3/envs/ei-nb-v2/lib/python3.12/site-packages/pyogrio/raw.py:723: RuntimeWarning: Value 101854172.729521349 of field area of feature 3677 not successfully written. Possibly due to too larger number with respect to field width\n",
      "  ogr_write(\n"
     ]
    }
   ],
   "source": [
    "detections = gpd.read_parquet(\"gs://demeter-labs/coffee/detections/tile_classifier_predictions_v0_costa-rica_posw1.0_prob_0.5_postprocess.parquet\")\n",
    "detections.to_file(\"coffee_costa_rica_detections_0.5.shp\")"
   ]
  },
  {
   "cell_type": "code",
   "execution_count": 12,
   "metadata": {},
   "outputs": [
    {
     "data": {
      "text/html": [
       "\n",
       "            <style>\n",
       "                .geemap-dark {\n",
       "                    --jp-widgets-color: white;\n",
       "                    --jp-widgets-label-color: white;\n",
       "                    --jp-ui-font-color1: white;\n",
       "                    --jp-layout-color2: #454545;\n",
       "                    background-color: #383838;\n",
       "                }\n",
       "\n",
       "                .geemap-dark .jupyter-button {\n",
       "                    --jp-layout-color3: #383838;\n",
       "                }\n",
       "\n",
       "                .geemap-colab {\n",
       "                    background-color: var(--colab-primary-surface-color, white);\n",
       "                }\n",
       "\n",
       "                .geemap-colab .jupyter-button {\n",
       "                    --jp-layout-color3: var(--colab-primary-surface-color, white);\n",
       "                }\n",
       "            </style>\n",
       "            "
      ],
      "text/plain": [
       "<IPython.core.display.HTML object>"
      ]
     },
     "metadata": {},
     "output_type": "display_data"
    },
    {
     "data": {
      "application/vnd.jupyter.widget-view+json": {
       "model_id": "73f37b8823cf4bfd9e05c65dd0851991",
       "version_major": 2,
       "version_minor": 0
      },
      "text/plain": [
       "Map(center=[9.5, -84.0], controls=(WidgetControl(options=['position', 'transparent_bg'], widget=SearchDataGUI(…"
      ]
     },
     "execution_count": 12,
     "metadata": {},
     "output_type": "execute_result"
    }
   ],
   "source": [
    "import geemap\n",
    "import ee\n",
    "\n",
    "import sys\n",
    "sys.path.insert(0, '../src')\n",
    "from gee import initialize_ee_with_credentials\n",
    "initialize_ee_with_credentials()\n",
    "\n",
    "fc = ee.FeatureCollection(\"projects/earthindex/assets/demeter/coffee_costarica_05_v0\")\n",
    "\n",
    "dw = ee.ImageCollection(\"GOOGLE/DYNAMICWORLD/V1\").filterDate('2023-01-01', '2023-12-31')\n",
    "most_common = dw.select('label').reduce(ee.Reducer.mode())\n",
    "\n",
    "canopy_height = ee.ImageCollection(\n",
    "    \"projects/meta-forest-monitoring-okw37/assets/CanopyHeight\").mosaic()\n",
    "\n",
    "\n",
    "\n",
    "\n",
    "eth_canopy_height = ee.Image(\"users/nlang/ETH_GlobalCanopyHeight_2020_10m_v1\")\n",
    "\n",
    "rasterized = fc.reduceToImage(\n",
    "    properties=['area'],\n",
    "    reducer=ee.Reducer.first()\n",
    ")\n",
    "\n",
    "most_common = most_common.updateMask(rasterized.gt(0))\n",
    "canopy_height = canopy_height.updateMask(rasterized.gt(0))\n",
    "eth_canopy_height = eth_canopy_height.updateMask(rasterized.gt(0))\n",
    "\n",
    "m = geemap.Map(center=[9.5, -84.0], zoom=9)\n",
    "\n",
    "m.addLayer(rasterized, {\n",
    "    'min': 0,\n",
    "    'max': 1,\n",
    "    'palette': ['white', 'blue']\n",
    "}, 'Coffee Detections')\n",
    "\n",
    "m.addLayer(most_common, {\n",
    "    'min': 0,\n",
    "    'max': 8,\n",
    "    'palette': ['#419bdf', '#397d49', '#88b053', '#7a87c6', '#e49635', '#dfc35a', '#c4281b', '#a59b8f', '#b39fe1']\n",
    "}, 'Most Common')\n",
    "\n",
    "m.addLayer(canopy_height, {\n",
    "    'min': 0,\n",
    "    'max': 50,\n",
    "    'palette': \"viridis\"\n",
    "}, 'Canopy Height [meters]')\n",
    "\n",
    "m.addLayer(eth_canopy_height, {\n",
    "    'min': 0,\n",
    "    'max': 50,\n",
    "    'palette': \"viridis\"\n",
    "}, 'ETH Canopy Height [meters]')\n",
    "\n",
    "m\n",
    "\n",
    "\n"
   ]
  },
  {
   "cell_type": "code",
   "execution_count": null,
   "metadata": {},
   "outputs": [],
   "source": []
  }
 ],
 "metadata": {
  "kernelspec": {
   "display_name": "ei-nb-v2",
   "language": "python",
   "name": "python3"
  },
  "language_info": {
   "codemirror_mode": {
    "name": "ipython",
    "version": 3
   },
   "file_extension": ".py",
   "mimetype": "text/x-python",
   "name": "python",
   "nbconvert_exporter": "python",
   "pygments_lexer": "ipython3",
   "version": "3.12.7"
  }
 },
 "nbformat": 4,
 "nbformat_minor": 2
}
