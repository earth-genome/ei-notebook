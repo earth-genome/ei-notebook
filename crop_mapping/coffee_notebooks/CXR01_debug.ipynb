{
 "cells": [
  {
   "cell_type": "code",
   "execution_count": 2,
   "metadata": {},
   "outputs": [
    {
     "data": {
      "text/plain": [
       "np.int64(1)"
      ]
     },
     "execution_count": 2,
     "metadata": {},
     "output_type": "execute_result"
    }
   ],
   "source": [
    "import geopandas as gpd\n",
    "\n",
    "gdf = gpd.read_parquet(\"gs://demeter-labs/coffee/datasets/tile_classifier_dataset_v0_costa-rica.parquet\")\n",
    "gdf['tile_id'].isna().sum()"
   ]
  },
  {
   "cell_type": "code",
   "execution_count": 7,
   "metadata": {},
   "outputs": [
    {
     "data": {
      "text/html": [
       "<div>\n",
       "<style scoped>\n",
       "    .dataframe tbody tr th:only-of-type {\n",
       "        vertical-align: middle;\n",
       "    }\n",
       "\n",
       "    .dataframe tbody tr th {\n",
       "        vertical-align: top;\n",
       "    }\n",
       "\n",
       "    .dataframe thead th {\n",
       "        text-align: right;\n",
       "    }\n",
       "</style>\n",
       "<table border=\"1\" class=\"dataframe\">\n",
       "  <thead>\n",
       "    <tr style=\"text-align: right;\">\n",
       "      <th></th>\n",
       "      <th>geometry</th>\n",
       "      <th>remapped</th>\n",
       "      <th>class</th>\n",
       "    </tr>\n",
       "  </thead>\n",
       "  <tbody>\n",
       "    <tr>\n",
       "      <th>0</th>\n",
       "      <td>POINT (-84.8863 10.51658)</td>\n",
       "      <td>1</td>\n",
       "      <td>NaN</td>\n",
       "    </tr>\n",
       "    <tr>\n",
       "      <th>1</th>\n",
       "      <td>POINT (-83.48852 8.95351)</td>\n",
       "      <td>1</td>\n",
       "      <td>NaN</td>\n",
       "    </tr>\n",
       "    <tr>\n",
       "      <th>2</th>\n",
       "      <td>POINT (-84.75695 10.44651)</td>\n",
       "      <td>1</td>\n",
       "      <td>NaN</td>\n",
       "    </tr>\n",
       "    <tr>\n",
       "      <th>3</th>\n",
       "      <td>POINT (-83.32683 10.20396)</td>\n",
       "      <td>1</td>\n",
       "      <td>NaN</td>\n",
       "    </tr>\n",
       "    <tr>\n",
       "      <th>4</th>\n",
       "      <td>POINT (-83.05554 8.5295)</td>\n",
       "      <td>1</td>\n",
       "      <td>NaN</td>\n",
       "    </tr>\n",
       "    <tr>\n",
       "      <th>...</th>\n",
       "      <td>...</td>\n",
       "      <td>...</td>\n",
       "      <td>...</td>\n",
       "    </tr>\n",
       "    <tr>\n",
       "      <th>14695</th>\n",
       "      <td>POINT (-85.30492 10.21115)</td>\n",
       "      <td>9</td>\n",
       "      <td>Rangeland</td>\n",
       "    </tr>\n",
       "    <tr>\n",
       "      <th>14696</th>\n",
       "      <td>POINT (-85.56723 10.94777)</td>\n",
       "      <td>9</td>\n",
       "      <td>Rangeland</td>\n",
       "    </tr>\n",
       "    <tr>\n",
       "      <th>14697</th>\n",
       "      <td>POINT (-85.44505 9.97399)</td>\n",
       "      <td>9</td>\n",
       "      <td>Rangeland</td>\n",
       "    </tr>\n",
       "    <tr>\n",
       "      <th>14698</th>\n",
       "      <td>POINT (-84.39582 10.60641)</td>\n",
       "      <td>9</td>\n",
       "      <td>Rangeland</td>\n",
       "    </tr>\n",
       "    <tr>\n",
       "      <th>14699</th>\n",
       "      <td>POINT (-85.33007 10.23091)</td>\n",
       "      <td>9</td>\n",
       "      <td>Rangeland</td>\n",
       "    </tr>\n",
       "  </tbody>\n",
       "</table>\n",
       "<p>14700 rows × 3 columns</p>\n",
       "</div>"
      ],
      "text/plain": [
       "                         geometry  remapped      class\n",
       "0       POINT (-84.8863 10.51658)         1        NaN\n",
       "1       POINT (-83.48852 8.95351)         1        NaN\n",
       "2      POINT (-84.75695 10.44651)         1        NaN\n",
       "3      POINT (-83.32683 10.20396)         1        NaN\n",
       "4        POINT (-83.05554 8.5295)         1        NaN\n",
       "...                           ...       ...        ...\n",
       "14695  POINT (-85.30492 10.21115)         9  Rangeland\n",
       "14696  POINT (-85.56723 10.94777)         9  Rangeland\n",
       "14697   POINT (-85.44505 9.97399)         9  Rangeland\n",
       "14698  POINT (-84.39582 10.60641)         9  Rangeland\n",
       "14699  POINT (-85.33007 10.23091)         9  Rangeland\n",
       "\n",
       "[14700 rows x 3 columns]"
      ]
     },
     "execution_count": 7,
     "metadata": {},
     "output_type": "execute_result"
    }
   ],
   "source": [
    "class_names = {\n",
    "        \"1\": \"Water\",\n",
    "        \"2\": \"Trees\",\n",
    "        \"3\": \"Flooded Vegetation\",\n",
    "        \"4\": \"Crops\",\n",
    "        \"5\": \"Built Area\",\n",
    "        \"6\": \"Bare Ground\",\n",
    "        \"7\": \"Snow/Ice\",\n",
    "        \"8\": \"Clouds\",\n",
    "        9: \"Rangeland\"\n",
    "      }\n",
    "\n",
    "\n",
    "neg_lc['class'] = neg_lc['remapped'].map(class_names)\n",
    "neg_lc"
   ]
  },
  {
   "cell_type": "code",
   "execution_count": null,
   "metadata": {},
   "outputs": [],
   "source": []
  }
 ],
 "metadata": {
  "kernelspec": {
   "display_name": "ei-nb-v2",
   "language": "python",
   "name": "ei-nb-v2"
  },
  "language_info": {
   "codemirror_mode": {
    "name": "ipython",
    "version": 3
   },
   "file_extension": ".py",
   "mimetype": "text/x-python",
   "name": "python",
   "nbconvert_exporter": "python",
   "pygments_lexer": "ipython3",
   "version": "3.12.7"
  }
 },
 "nbformat": 4,
 "nbformat_minor": 2
}
