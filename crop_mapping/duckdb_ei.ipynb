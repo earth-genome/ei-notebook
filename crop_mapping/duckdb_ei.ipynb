{
 "cells": [
  {
   "cell_type": "markdown",
   "metadata": {},
   "source": [
    "## Local embeddings modeling notebook"
   ]
  },
  {
   "cell_type": "code",
   "execution_count": 1,
   "metadata": {},
   "outputs": [
    {
     "name": "stdout",
     "output_type": "stream",
     "text": [
      "Error initializing Earth Engine: None could not be converted to bytes, defaulting to \n"
     ]
    }
   ],
   "source": [
    "%load_ext autoreload\n",
    "%autoreload 2\n",
    "\n",
    "import geopandas as gpd\n",
    "import duckdb\n",
    "import os\n",
    "from tqdm import tqdm\n",
    "\n",
    "\n",
    "from datetime import datetime\n",
    "import json\n",
    "import os\n",
    "\n",
    "import annoy\n",
    "import geopandas as gpd\n",
    "import ipyleaflet as ipyl\n",
    "from IPython.display import display\n",
    "import ipywidgets as ipyw\n",
    "import joblib\n",
    "import numpy as np\n",
    "import pandas as pd\n",
    "\n",
    "import sys\n",
    "sys.path.insert(0, 'src')\n",
    "\n",
    "from ui import GeoLabeler\n"
   ]
  },
  {
   "cell_type": "code",
   "execution_count": 2,
   "metadata": {},
   "outputs": [],
   "source": [
    "with open('config/coffee/coffee_ui_config.json', 'r') as f:\n",
    "    config = json.load(f)\n",
    "\n",
    "local_dir = config['local_dir']\n",
    "annoy_index_path = os.path.join(local_dir, 'embeddings.ann')\n",
    "annoy_index = annoy.AnnoyIndex(config['index_dim'], 'angular')  # 384 dimensions for ViT-DINO embeddings\n",
    "annoy_index.load(annoy_index_path)\n",
    "tile_centroid_path = os.path.join(local_dir, 'centroid_gdf.parquet')\n",
    "tile_centroid_gdf = gpd.read_parquet(tile_centroid_path)\n",
    "duckdb_path = os.path.join(local_dir, 'embeddings.db')\n",
    "embeddings_con = duckdb.connect(duckdb_path)\n",
    "valid_tile_dir = os.path.join(local_dir, 'tiles')\n",
    "\n",
    "mgrs_ids = config['mgrs_ids']\n",
    "start_date = config['start_date']\n",
    "end_date = config['end_date']\n",
    "imagery = config['imagery']\n",
    "\n",
    "gdf = gpd.read_parquet(tile_centroid_path)"
   ]
  },
  {
   "cell_type": "code",
   "execution_count": 3,
   "metadata": {},
   "outputs": [
    {
     "name": "stdout",
     "output_type": "stream",
     "text": [
      "Initializing GeoLabeler...\n",
      "Adding controls...\n"
     ]
    },
    {
     "data": {
      "application/vnd.jupyter.widget-view+json": {
       "model_id": "0e28ce85694145ebb519f9aba58f3045",
       "version_major": 2,
       "version_minor": 0
      },
      "text/plain": [
       "VBox(children=(Map(center=[9.997282071690657, -84.065583580083], controls=(ZoomControl(options=['position', 'z…"
      ]
     },
     "metadata": {},
     "output_type": "display_data"
    },
    {
     "data": {
      "application/vnd.jupyter.widget-view+json": {
       "model_id": "b659c9bf0f60403db6ceda0b81395d7c",
       "version_major": 2,
       "version_minor": 0
      },
      "text/plain": [
       "Label(value='')"
      ]
     },
     "metadata": {},
     "output_type": "display_data"
    }
   ],
   "source": [
    "\n",
    "from ui import GeoLabeler\n",
    "\n",
    "BOUNDARY_PATH = os.path.join(os.path.dirname(os.path.dirname(os.getcwd())), \"places/costa_rica.geojson\")\n",
    "BOUNDARY = gpd.read_file(BOUNDARY_PATH)\n",
    "maptiler_attribution = '<a href=\"https://www.maptiler.com/copyright/\" target=\"_blank\">&copy; MapTiler</a> <a href=\"https://www.openstreetmap.org/copyright\" target=\"_blank\">&copy; OpenStreetMap contributors</a>'\n",
    "\n",
    "labeler = GeoLabeler(gdf=tile_centroid_gdf,\n",
    "                    geojson_path=BOUNDARY_PATH,\n",
    "                    mgrs_ids=mgrs_ids,\n",
    "                    start_date=start_date,\n",
    "                    end_date=end_date,\n",
    "                    imagery=imagery,\n",
    "                    annoy_index=annoy_index,\n",
    "                    duckdb_connection=embeddings_con,\n",
    "                    attribution=maptiler_attribution)\n",
    "\n",
    "\n",
    "label = ipyw.Label(); display(label)  \n",
    "\n",
    "def handle_mouse_move(**kwargs):\n",
    "    lat, lon = kwargs.get('coordinates')\n",
    "    label_type = \"Erase\" if labeler.select_val == -100 else \"Negative\" if labeler.select_val == 0 else \"Positive\"\n",
    "    label.value = f'Lat/lon: {lat:.4f}, {lon:.4f}. Mode: {\"lasso\" if labeler.lasso_mode else \"single\"}. Labeling: {label_type}'\n",
    "\n",
    "labeler.map.on_interaction(handle_mouse_move)"
   ]
  },
  {
   "cell_type": "markdown",
   "metadata": {},
   "source": [
    "## Search\n",
    "First search make take a while as the table is loaded into memory"
   ]
  },
  {
   "cell_type": "code",
   "execution_count": null,
   "metadata": {},
   "outputs": [],
   "source": [
    "pos = labeler.gdf.loc[labeler.pos_ids]\n",
    "neg = labeler.gdf.loc[labeler.neg_ids]\n",
    "\n",
    "pos_embeddings = labeler.get_embeddings_by_tile_ids(pos['tile_id'].values)\n",
    "if len(neg) > 0:\n",
    "    neg_embeddings = labeler.get_embeddings_by_tile_ids(neg['tile_id'].values)\n",
    "    neg_vec = neg_embeddings.drop(columns=['tile_id', 'row_number']).mean(axis=0).values\n",
    "else:\n",
    "    neg_vec = np.zeros(pos_embeddings.shape[1] - 2)\n",
    "pos_vec = pos_embeddings.drop(columns=['tile_id', 'row_number']).mean(axis=0).values\n",
    "query_vector = 2 * pos_vec - neg_vec\n"
   ]
  },
  {
   "cell_type": "code",
   "execution_count": 5,
   "metadata": {},
   "outputs": [],
   "source": [
    "\n",
    "n_nbors = 13000\n",
    "nbors = labeler.annoy_index.get_nns_by_vector(query_vector, n_nbors, include_distances=True)\n",
    "# Filter out any IDs that are already in positive labels\n",
    "nbors_filtered = [n for n in nbors[0] if n not in labeler.pos_ids]\n",
    "\n",
    "detections = labeler.gdf.loc[nbors_filtered]\n",
    "labeler.detection_gdf = detections[['geometry']]\n",
    "labeler.update_layer(\n",
    "    labeler.points, json.loads(detections.geometry.to_json()))"
   ]
  },
  {
   "cell_type": "markdown",
   "metadata": {},
   "source": [
    "## Export"
   ]
  },
  {
   "cell_type": "code",
   "execution_count": 14,
   "metadata": {},
   "outputs": [],
   "source": [
    "# Export the positives and negatives\n",
    "pos_export = labeler.gdf.loc[labeler.pos_ids]\n",
    "neg_export = labeler.gdf.loc[labeler.neg_ids]\n",
    "\n",
    "# Add label columns\n",
    "pos_export['label'] = 1\n",
    "neg_export['label'] = 0\n",
    "\n",
    "# Combine into one gdf\n",
    "export_gdf = pd.concat([pos_export, neg_export], ignore_index=True)\n",
    "\n",
    "# Export to a parquet file\n",
    "export_path = os.path.join(local_dir, 'labels.parquet')\n",
    "export_gdf.to_parquet(export_path, index=False)\n"
   ]
  },
  {
   "cell_type": "markdown",
   "metadata": {},
   "source": [
    "# Load"
   ]
  },
  {
   "cell_type": "code",
   "execution_count": null,
   "metadata": {},
   "outputs": [],
   "source": [
    "# Helper function\n",
    "\n",
    "def display_labels_on_labeler(labeler, labels_gdf):\n",
    "    \"\"\"\n",
    "    Display positive and negative labels on the GeoLabeler instance.\n",
    "\n",
    "    Args:\n",
    "        labeler (GeoLabeler): The GeoLabeler instance.\n",
    "        labels_gdf (GeoDataFrame): The GeoDataFrame containing labels.\n",
    "    \"\"\"\n",
    "    if labels_gdf is not None:\n",
    "        pos_tile_ids = labels_gdf.loc[labels_gdf['label'] == 1, 'tile_id'].tolist()\n",
    "        neg_tile_ids = labels_gdf.loc[labels_gdf['label'] == 0, 'tile_id'].tolist()\n",
    "\n",
    "        # Get index values from labeler's GeoDataFrame where tile_id is in pos_tile_ids and neg_tile_ids\n",
    "        pos_indices = labeler.gdf[labeler.gdf['tile_id'].isin(pos_tile_ids)].index.tolist()\n",
    "        neg_indices = labeler.gdf[labeler.gdf['tile_id'].isin(neg_tile_ids)].index.tolist()\n",
    "\n",
    "        # Update labeler with positive and negative IDs\n",
    "        labeler.pos_ids = pos_indices\n",
    "        labeler.neg_ids = neg_indices\n",
    "\n",
    "        # Update the map layers to reflect loaded labels\n",
    "        labeler.update_layers()\n",
    "        print(\"Labels displayed on labeler.\")\n",
    "    else:\n",
    "        print(\"No labels to display.\")\n",
    "\n"
   ]
  },
  {
   "cell_type": "code",
   "execution_count": null,
   "metadata": {},
   "outputs": [],
   "source": [
    "# Load previously exported labels\n",
    "\n",
    "labels_file_path = os.path.join(local_dir, 'labels.parquet')\n",
    "if os.path.exists(labels_file_path):\n",
    "    labels_gdf = gpd.read_parquet(labels_file_path)\n",
    "    display_labels_on_labeler(labeler, labels_gdf)"
   ]
  },
  {
   "cell_type": "code",
   "execution_count": null,
   "metadata": {},
   "outputs": [],
   "source": [
    "# Add polygons from postprocess_detections.py\n",
    "\n",
    "dissolved = gpd.read_parquet(\"/Users/ben/EarthGenome/data/ra_coffee/output/tile_classifier_predictions_0_costa_rica_posw1.0_prob_0.99_postprocess.parquet\")\n",
    "\n",
    "labeler.dissolve_layer = ipyl.GeoJSON(\n",
    "    data=json.loads(dissolved.geometry.to_json()),\n",
    "    style={'color': 'blue', 'opacity': 0.5, 'weight': 2, 'fillOpacity': 0.1},\n",
    "    name='Dissolved Polygons'\n",
    ")\n",
    "\n",
    "labeler.map.add_layer(labeler.dissolve_layer)"
   ]
  }
 ],
 "metadata": {
  "kernelspec": {
   "display_name": "ei-crop-mapping",
   "language": "python",
   "name": "python3"
  },
  "language_info": {
   "codemirror_mode": {
    "name": "ipython",
    "version": 3
   },
   "file_extension": ".py",
   "mimetype": "text/x-python",
   "name": "python",
   "nbconvert_exporter": "python",
   "pygments_lexer": "ipython3",
   "version": "3.12.9"
  }
 },
 "nbformat": 4,
 "nbformat_minor": 4
}
