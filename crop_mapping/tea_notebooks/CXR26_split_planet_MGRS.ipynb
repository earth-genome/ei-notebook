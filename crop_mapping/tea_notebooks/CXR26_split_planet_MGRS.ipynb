{
 "cells": [
  {
   "cell_type": "markdown",
   "metadata": {},
   "source": [
    "## Download files to local dir"
   ]
  },
  {
   "cell_type": "code",
   "execution_count": null,
   "metadata": {},
   "outputs": [],
   "source": [
    "from concurrent.futures import ThreadPoolExecutor\n",
    "import subprocess\n",
    "from tqdm import tqdm\n",
    "import time\n",
    "import os\n",
    "\n",
    "def download_file(s3_path):\n",
    "    local_dir = \"/home/christopher.x.ren/embeddings/ra_tea/planet_embeddings_v2\"\n",
    "    filename = s3_path.split('/')[-1]\n",
    "    local_path = os.path.join(local_dir, filename)\n",
    "    \n",
    "    # Create directory if it doesn't exist\n",
    "    os.makedirs(local_dir, exist_ok=True)\n",
    "    \n",
    "    start_time = time.time()\n",
    "    cmd = f\"aws s3 cp {s3_path} {local_path}\"\n",
    "    try:\n",
    "        result = subprocess.run(cmd, shell=True, check=True, capture_output=True, text=True)\n",
    "        duration = time.time() - start_time\n",
    "        print(f\"Downloaded {filename} in {duration:.1f}s\")\n",
    "        if result.stderr:\n",
    "            print(f\"Warnings for {filename}:\\n{result.stderr}\")\n",
    "        return local_path\n",
    "    except subprocess.CalledProcessError as e:\n",
    "        print(f\"Error downloading {filename}:\\n{e.stderr}\")\n",
    "        return None\n",
    "paths = []\n",
    "for year in [2023, 2024]:\n",
    "    start_month = 9 if year == 2023 else 1\n",
    "    end_month = 12 if year == 2023 else 8\n",
    "    \n",
    "    for month in range(start_month, end_month + 1):\n",
    "        path = f\"s3://ra-ei-public/v2/ps_monthly_sen2_normalized_analytic_8b_sr_subscription_{year}_{month:02d}_mosaic.parquet\"\n",
    "        paths.append(path)\n",
    "print(f\"Starting download of {len(paths)} files...\")\n",
    "with ThreadPoolExecutor() as executor:\n",
    "    local_paths = list(tqdm(\n",
    "        executor.map(download_file, paths),\n",
    "        total=len(paths),\n",
    "        desc=\"Downloading files\"\n",
    "    ))\n",
    "\n",
    "local_paths = [p for p in local_paths if p is not None]\n",
    "print(f\"\\nDownload complete. {len(local_paths)}/{len(paths)} files downloaded successfully\")"
   ]
  },
  {
   "cell_type": "code",
   "execution_count": 2,
   "metadata": {},
   "outputs": [],
   "source": [
    "import geopandas as gpd\n",
    "from joblib import Parallel, delayed\n",
    "import pandas as pd\n",
    "from pathlib import Path\n",
    "\n",
    "def process_parquet(file_path):\n",
    "    tile = gpd.read_parquet(file_path).to_crs(4326)\n",
    "    mgrs_id = str(file_path).split('/')[-1].split('.')[0][:5]\n",
    "    return gpd.GeoDataFrame({'mgrs_id': [mgrs_id], 'geometry': [tile.union_all()]})\n",
    "\n",
    "parquet_dir = Path(\"/home/christopher.x.ren/embeddings/ra_tea/valid_tiles\")\n",
    "parquet_files = list(parquet_dir.glob(\"*.parquet\"))\n",
    "\n",
    "mgrs_tiles = Parallel(n_jobs=-1)(\n",
    "    delayed(process_parquet)(f) for f in parquet_files\n",
    ")\n",
    "\n",
    "mgrs_tile_union = gpd.GeoDataFrame(pd.concat(mgrs_tiles, ignore_index=True))\n",
    "\n"
   ]
  },
  {
   "cell_type": "code",
   "execution_count": 32,
   "metadata": {},
   "outputs": [
    {
     "data": {
      "text/html": [
       "<div>\n",
       "<style scoped>\n",
       "    .dataframe tbody tr th:only-of-type {\n",
       "        vertical-align: middle;\n",
       "    }\n",
       "\n",
       "    .dataframe tbody tr th {\n",
       "        vertical-align: top;\n",
       "    }\n",
       "\n",
       "    .dataframe thead th {\n",
       "        text-align: right;\n",
       "    }\n",
       "</style>\n",
       "<table border=\"1\" class=\"dataframe\">\n",
       "  <thead>\n",
       "    <tr style=\"text-align: right;\">\n",
       "      <th></th>\n",
       "      <th>mgrs_id</th>\n",
       "      <th>geometry</th>\n",
       "    </tr>\n",
       "  </thead>\n",
       "  <tbody>\n",
       "    <tr>\n",
       "      <th>0</th>\n",
       "      <td>48MVU</td>\n",
       "      <td>POLYGON ((104.11012 -5.56685, 104.11012 -5.565...</td>\n",
       "    </tr>\n",
       "    <tr>\n",
       "      <th>1</th>\n",
       "      <td>47NPC</td>\n",
       "      <td>POLYGON ((99.89765 1.81792, 99.89765 1.81864, ...</td>\n",
       "    </tr>\n",
       "    <tr>\n",
       "      <th>2</th>\n",
       "      <td>47MRS</td>\n",
       "      <td>POLYGON ((101.69836 -3.4182, 101.69836 -3.4174...</td>\n",
       "    </tr>\n",
       "    <tr>\n",
       "      <th>3</th>\n",
       "      <td>47MQV</td>\n",
       "      <td>POLYGON ((100.79583 -0.89633, 100.79583 -0.895...</td>\n",
       "    </tr>\n",
       "    <tr>\n",
       "      <th>4</th>\n",
       "      <td>47NLC</td>\n",
       "      <td>MULTIPOLYGON (((97.20042 1.95958, 97.20041 1.9...</td>\n",
       "    </tr>\n",
       "    <tr>\n",
       "      <th>...</th>\n",
       "      <td>...</td>\n",
       "      <td>...</td>\n",
       "    </tr>\n",
       "    <tr>\n",
       "      <th>58</th>\n",
       "      <td>48MUC</td>\n",
       "      <td>POLYGON ((103.19952 -2.70342, 103.19952 -2.701...</td>\n",
       "    </tr>\n",
       "    <tr>\n",
       "      <th>59</th>\n",
       "      <td>49MCN</td>\n",
       "      <td>POLYGON ((109.18713 -7.22879, 109.18714 -7.227...</td>\n",
       "    </tr>\n",
       "    <tr>\n",
       "      <th>60</th>\n",
       "      <td>47MPU</td>\n",
       "      <td>POLYGON ((100.09191 -1.10285, 100.09047 -1.102...</td>\n",
       "    </tr>\n",
       "    <tr>\n",
       "      <th>61</th>\n",
       "      <td>48MSB</td>\n",
       "      <td>POLYGON ((101.99745 -3.60016, 101.99745 -3.598...</td>\n",
       "    </tr>\n",
       "    <tr>\n",
       "      <th>62</th>\n",
       "      <td>47NQA</td>\n",
       "      <td>POLYGON ((100.79562 0.00362, 100.79562 0.00434...</td>\n",
       "    </tr>\n",
       "  </tbody>\n",
       "</table>\n",
       "<p>63 rows × 2 columns</p>\n",
       "</div>"
      ],
      "text/plain": [
       "   mgrs_id                                           geometry\n",
       "0    48MVU  POLYGON ((104.11012 -5.56685, 104.11012 -5.565...\n",
       "1    47NPC  POLYGON ((99.89765 1.81792, 99.89765 1.81864, ...\n",
       "2    47MRS  POLYGON ((101.69836 -3.4182, 101.69836 -3.4174...\n",
       "3    47MQV  POLYGON ((100.79583 -0.89633, 100.79583 -0.895...\n",
       "4    47NLC  MULTIPOLYGON (((97.20042 1.95958, 97.20041 1.9...\n",
       "..     ...                                                ...\n",
       "58   48MUC  POLYGON ((103.19952 -2.70342, 103.19952 -2.701...\n",
       "59   49MCN  POLYGON ((109.18713 -7.22879, 109.18714 -7.227...\n",
       "60   47MPU  POLYGON ((100.09191 -1.10285, 100.09047 -1.102...\n",
       "61   48MSB  POLYGON ((101.99745 -3.60016, 101.99745 -3.598...\n",
       "62   47NQA  POLYGON ((100.79562 0.00362, 100.79562 0.00434...\n",
       "\n",
       "[63 rows x 2 columns]"
      ]
     },
     "execution_count": 32,
     "metadata": {},
     "output_type": "execute_result"
    }
   ],
   "source": [
    "reference_embedding_gdf = gpd.read_parquet(local_paths[0], columns=['geometry', 'id'])"
   ]
  },
  {
   "cell_type": "code",
   "execution_count": 33,
   "metadata": {},
   "outputs": [
    {
     "name": "stderr",
     "output_type": "stream",
     "text": [
      "/tmp/ipykernel_2664/3467277296.py:2: UserWarning: CRS mismatch between the CRS of left geometries and the CRS of right geometries.\n",
      "Use `to_crs()` to reproject one of the input geometries to match the CRS of the other.\n",
      "\n",
      "Left CRS: EPSG:4326\n",
      "Right CRS: None\n",
      "\n",
      "  intersecting_tiles = gpd.sjoin(reference_embedding_gdf, mgrs_tile_union, how='inner', predicate='intersects')\n"
     ]
    }
   ],
   "source": [
    "# Spatial join to find intersecting tiles\n",
    "intersecting_tiles = gpd.sjoin(reference_embedding_gdf, mgrs_tile_union, how='inner', predicate='intersects')\n",
    "\n",
    "# Create new dataframe with mgrs_id and id columns\n",
    "mgrs_id_mapping = intersecting_tiles[['id', 'mgrs_id']].copy()"
   ]
  },
  {
   "cell_type": "code",
   "execution_count": 36,
   "metadata": {},
   "outputs": [],
   "source": [
    "mgrs_id_mapping.to_parquet(\"gs://demeter-labs/tea/mgrs_id_mapping_tom_tiles.parquet\")"
   ]
  },
  {
   "cell_type": "code",
   "execution_count": 39,
   "metadata": {},
   "outputs": [
    {
     "name": "stdout",
     "output_type": "stream",
     "text": [
      "Length before deduplication: 9119038\n",
      "Length after deduplication: 9119038\n"
     ]
    }
   ],
   "source": [
    "print(f\"Length before deduplication: {len(mgrs_id_mapping)}\")\n",
    "mgrs_id_mapping = mgrs_id_mapping.drop_duplicates(subset=['id'], keep='first')\n",
    "print(f\"Length after deduplication: {len(mgrs_id_mapping)}\")\n",
    "mgrs_id_mapping.to_parquet(\"gs://demeter-labs/tea/mgrs_id_mapping_tom_tiles_deduplicated.parquet\")\n"
   ]
  },
  {
   "cell_type": "code",
   "execution_count": 41,
   "metadata": {},
   "outputs": [
    {
     "name": "stdout",
     "output_type": "stream",
     "text": [
      "\n",
      "Processing tile 48MVU...\n",
      "Connecting to DuckDB...\n"
     ]
    },
    {
     "name": "stderr",
     "output_type": "stream",
     "text": [
      "  0%|          | 0/12 [00:00<?, ?it/s]"
     ]
    },
    {
     "data": {
      "application/vnd.jupyter.widget-view+json": {
       "model_id": "def076d8325f4fa8b817affd3539e359",
       "version_major": 2,
       "version_minor": 0
      },
      "text/plain": [
       "FloatProgress(value=0.0, layout=Layout(width='auto'), style=ProgressStyle(bar_color='black'))"
      ]
     },
     "metadata": {},
     "output_type": "display_data"
    },
    {
     "name": "stderr",
     "output_type": "stream",
     "text": [
      "  8%|▊         | 1/12 [00:28<05:09, 28.10s/it]"
     ]
    },
    {
     "data": {
      "application/vnd.jupyter.widget-view+json": {
       "model_id": "0313e479d80b400d85a1e648e8f46e48",
       "version_major": 2,
       "version_minor": 0
      },
      "text/plain": [
       "FloatProgress(value=0.0, layout=Layout(width='auto'), style=ProgressStyle(bar_color='black'))"
      ]
     },
     "metadata": {},
     "output_type": "display_data"
    },
    {
     "name": "stderr",
     "output_type": "stream",
     "text": [
      " 17%|█▋        | 2/12 [00:54<04:31, 27.11s/it]"
     ]
    },
    {
     "data": {
      "application/vnd.jupyter.widget-view+json": {
       "model_id": "3b8ed4ca1f1144e592ee8c7e972b73d8",
       "version_major": 2,
       "version_minor": 0
      },
      "text/plain": [
       "FloatProgress(value=0.0, layout=Layout(width='auto'), style=ProgressStyle(bar_color='black'))"
      ]
     },
     "metadata": {},
     "output_type": "display_data"
    },
    {
     "name": "stderr",
     "output_type": "stream",
     "text": [
      " 25%|██▌       | 3/12 [01:24<04:13, 28.21s/it]"
     ]
    },
    {
     "data": {
      "application/vnd.jupyter.widget-view+json": {
       "model_id": "05288e16d5444fe3866a3d5fc398f86e",
       "version_major": 2,
       "version_minor": 0
      },
      "text/plain": [
       "FloatProgress(value=0.0, layout=Layout(width='auto'), style=ProgressStyle(bar_color='black'))"
      ]
     },
     "metadata": {},
     "output_type": "display_data"
    },
    {
     "name": "stderr",
     "output_type": "stream",
     "text": [
      " 33%|███▎      | 4/12 [01:50<03:40, 27.52s/it]"
     ]
    },
    {
     "data": {
      "application/vnd.jupyter.widget-view+json": {
       "model_id": "fe886119955143f297a196eed8963de2",
       "version_major": 2,
       "version_minor": 0
      },
      "text/plain": [
       "FloatProgress(value=0.0, layout=Layout(width='auto'), style=ProgressStyle(bar_color='black'))"
      ]
     },
     "metadata": {},
     "output_type": "display_data"
    },
    {
     "name": "stderr",
     "output_type": "stream",
     "text": [
      " 42%|████▏     | 5/12 [02:17<03:10, 27.22s/it]"
     ]
    },
    {
     "data": {
      "application/vnd.jupyter.widget-view+json": {
       "model_id": "7e18fe94d936475c90216e9391dc6cda",
       "version_major": 2,
       "version_minor": 0
      },
      "text/plain": [
       "FloatProgress(value=0.0, layout=Layout(width='auto'), style=ProgressStyle(bar_color='black'))"
      ]
     },
     "metadata": {},
     "output_type": "display_data"
    },
    {
     "name": "stderr",
     "output_type": "stream",
     "text": [
      " 50%|█████     | 6/12 [02:45<02:45, 27.54s/it]"
     ]
    },
    {
     "data": {
      "application/vnd.jupyter.widget-view+json": {
       "model_id": "070c7f679daf48dd8a08cba83bb64fd0",
       "version_major": 2,
       "version_minor": 0
      },
      "text/plain": [
       "FloatProgress(value=0.0, layout=Layout(width='auto'), style=ProgressStyle(bar_color='black'))"
      ]
     },
     "metadata": {},
     "output_type": "display_data"
    },
    {
     "name": "stderr",
     "output_type": "stream",
     "text": [
      " 58%|█████▊    | 7/12 [03:18<02:26, 29.34s/it]"
     ]
    },
    {
     "data": {
      "application/vnd.jupyter.widget-view+json": {
       "model_id": "1901aa7d456a4b29b557b63e6cbba12f",
       "version_major": 2,
       "version_minor": 0
      },
      "text/plain": [
       "FloatProgress(value=0.0, layout=Layout(width='auto'), style=ProgressStyle(bar_color='black'))"
      ]
     },
     "metadata": {},
     "output_type": "display_data"
    },
    {
     "name": "stderr",
     "output_type": "stream",
     "text": [
      " 67%|██████▋   | 8/12 [03:45<01:54, 28.53s/it]"
     ]
    },
    {
     "data": {
      "application/vnd.jupyter.widget-view+json": {
       "model_id": "8a9235df7562471397563ea35b5d81ec",
       "version_major": 2,
       "version_minor": 0
      },
      "text/plain": [
       "FloatProgress(value=0.0, layout=Layout(width='auto'), style=ProgressStyle(bar_color='black'))"
      ]
     },
     "metadata": {},
     "output_type": "display_data"
    },
    {
     "name": "stderr",
     "output_type": "stream",
     "text": [
      " 75%|███████▌  | 9/12 [04:11<01:23, 27.87s/it]"
     ]
    },
    {
     "data": {
      "application/vnd.jupyter.widget-view+json": {
       "model_id": "27ec0ac0a16749808242574996c91a94",
       "version_major": 2,
       "version_minor": 0
      },
      "text/plain": [
       "FloatProgress(value=0.0, layout=Layout(width='auto'), style=ProgressStyle(bar_color='black'))"
      ]
     },
     "metadata": {},
     "output_type": "display_data"
    },
    {
     "name": "stderr",
     "output_type": "stream",
     "text": [
      " 83%|████████▎ | 10/12 [04:44<00:58, 29.30s/it]"
     ]
    },
    {
     "data": {
      "application/vnd.jupyter.widget-view+json": {
       "model_id": "062af7470c904f9f89c69b6c07a588f9",
       "version_major": 2,
       "version_minor": 0
      },
      "text/plain": [
       "FloatProgress(value=0.0, layout=Layout(width='auto'), style=ProgressStyle(bar_color='black'))"
      ]
     },
     "metadata": {},
     "output_type": "display_data"
    },
    {
     "name": "stderr",
     "output_type": "stream",
     "text": [
      " 92%|█████████▏| 11/12 [05:12<00:28, 29.00s/it]"
     ]
    },
    {
     "data": {
      "application/vnd.jupyter.widget-view+json": {
       "model_id": "31305312741b48518678ef7926b637e7",
       "version_major": 2,
       "version_minor": 0
      },
      "text/plain": [
       "FloatProgress(value=0.0, layout=Layout(width='auto'), style=ProgressStyle(bar_color='black'))"
      ]
     },
     "metadata": {},
     "output_type": "display_data"
    },
    {
     "name": "stderr",
     "output_type": "stream",
     "text": [
      "100%|██████████| 12/12 [05:43<00:00, 28.64s/it]\n"
     ]
    },
    {
     "ename": "",
     "evalue": "",
     "output_type": "error",
     "traceback": [
      "\u001b[1;31mThe Kernel crashed while executing code in the current cell or a previous cell. \n",
      "\u001b[1;31mPlease review the code in the cell(s) to identify a possible cause of the failure. \n",
      "\u001b[1;31mClick <a href='https://aka.ms/vscodeJupyterKernelCrash'>here</a> for more info. \n",
      "\u001b[1;31mView Jupyter <a href='command:jupyter.viewOutput'>log</a> for further details."
     ]
    }
   ],
   "source": [
    "import duckdb\n",
    "from tqdm import tqdm\n",
    "def process_tile(mgrs_id, local_dir, id_mapping):\n",
    "    print(f\"\\nProcessing tile {mgrs_id}...\")\n",
    "    start_time = time.time()\n",
    "    \n",
    "    print(\"Connecting to DuckDB...\")\n",
    "    con = duckdb.connect()\n",
    "    con.sql(\"INSTALL spatial; LOAD spatial;\")\n",
    "    \n",
    "    # Get relevant IDs for this MGRS tile\n",
    "    tile_ids = id_mapping[id_mapping['mgrs_id'] == mgrs_id]['id'].tolist()\n",
    "    ids_string = \", \".join([f\"'{id}'\" for id in tile_ids])\n",
    "    \n",
    "    results = []\n",
    "    for file_path in tqdm(os.listdir(local_dir)):\n",
    "        if not file_path.endswith('.parquet'):\n",
    "            continue\n",
    "            \n",
    "        full_path = os.path.join(local_dir, file_path)\n",
    "        # Extract year and month from filename\n",
    "        parts = file_path.split('_')\n",
    "        year_month = f\"{parts[-3]}_{parts[-2]}\"\n",
    "        \n",
    "        sql_query = f\"\"\"\n",
    "            SELECT id, embedding, '{year_month}' as time_period\n",
    "            FROM read_parquet('{full_path}')\n",
    "            WHERE id IN ({ids_string})\n",
    "        \"\"\"\n",
    "        \n",
    "        try:\n",
    "            df = con.execute(sql_query).df()\n",
    "            if not df.empty:\n",
    "                # Rename embedding column to include year_month\n",
    "                df = df.rename(columns={'embedding': f'embedding_{year_month}'})\n",
    "                results.append(df)\n",
    "        except Exception as e:\n",
    "            print(f\"Error processing {file_path}: {e}\")\n",
    "            continue\n",
    "    \n",
    "    con.close()\n",
    "    \n",
    "    if results:\n",
    "        # Merge all results on ID\n",
    "        final_df = results[0]\n",
    "        for df in results[1:]:\n",
    "            final_df = final_df.merge(df[['id', df.columns[-2]]], on='id', how='outer')\n",
    "        \n",
    "        print(f\"Total processing time for tile {mgrs_id}: {time.time() - start_time:.2f}s\")\n",
    "        return final_df\n",
    "    else:\n",
    "        print(f\"No data found for tile {mgrs_id}\")\n",
    "        return None\n",
    "\n",
    "# Example usage:\n",
    "result = process_tile(\n",
    "    \"48MVU\", \n",
    "    \"/home/christopher.x.ren/embeddings/ra_tea/planet_embeddings_v2\",\n",
    "    mgrs_id_mapping\n",
    ")"
   ]
  },
  {
   "cell_type": "code",
   "execution_count": 1,
   "metadata": {},
   "outputs": [
    {
     "ename": "NameError",
     "evalue": "name 'mgrs_id_mapping' is not defined",
     "output_type": "error",
     "traceback": [
      "\u001b[0;31m---------------------------------------------------------------------------\u001b[0m",
      "\u001b[0;31mNameError\u001b[0m                                 Traceback (most recent call last)",
      "Cell \u001b[0;32mIn[1], line 2\u001b[0m\n\u001b[1;32m      1\u001b[0m mgrs_id \u001b[38;5;241m=\u001b[39m \u001b[38;5;124m\"\u001b[39m\u001b[38;5;124m48MVU\u001b[39m\u001b[38;5;124m\"\u001b[39m\n\u001b[0;32m----> 2\u001b[0m id_mapping \u001b[38;5;241m=\u001b[39m \u001b[43mmgrs_id_mapping\u001b[49m\n\u001b[1;32m      3\u001b[0m local_dir \u001b[38;5;241m=\u001b[39m \u001b[38;5;124m\"\u001b[39m\u001b[38;5;124m/home/christopher.x.ren/embeddings/ra_tea/planet_embeddings_v2\u001b[39m\u001b[38;5;124m\"\u001b[39m\n\u001b[1;32m      5\u001b[0m \u001b[38;5;28mprint\u001b[39m(\u001b[38;5;124m\"\u001b[39m\u001b[38;5;124mConnecting to DuckDB...\u001b[39m\u001b[38;5;124m\"\u001b[39m)\n",
      "\u001b[0;31mNameError\u001b[0m: name 'mgrs_id_mapping' is not defined"
     ]
    }
   ],
   "source": [
    "mgrs_id = \"48MVU\"\n",
    "id_mapping = mgrs_id_mapping\n",
    "local_dir = \"/home/christopher.x.ren/embeddings/ra_tea/planet_embeddings_v2\"\n",
    "\n",
    "print(\"Connecting to DuckDB...\")\n",
    "con = duckdb.connect()\n",
    "con.sql(\"INSTALL spatial; LOAD spatial;\")\n",
    "\n",
    "# Get relevant IDs for this MGRS tile\n",
    "tile_ids = id_mapping[id_mapping['mgrs_id'] == mgrs_id]['id'].tolist()\n",
    "ids_string = \", \".join([f\"'{id}'\" for id in tile_ids])\n",
    "file_path = os.path.join(local_dir, \"ps_monthly_sen2_normalized_analytic_8b_sr_subscription_2023_09_mosaic.parquet\")\n",
    "# Extract year and month from filename\n",
    "parts = os.path.basename(file_path).split('_')\n",
    "year_month = f\"{parts[-3]}_{parts[-2]}\"\n",
    "\n",
    "sql_query = f\"\"\"\n",
    "    SELECT id, embedding, '{year_month}' as time_period\n",
    "    FROM read_parquet('{file_path}')\n",
    "    WHERE id IN ({ids_string})\n",
    "\"\"\"\n",
    "\n",
    "try:\n",
    "    df = con.execute(sql_query).df()\n",
    "    if not df.empty:\n",
    "        # Rename embedding column to include year_month\n",
    "        df = df.rename(columns={'embedding': f'embedding_{year_month}'})\n",
    "        results = [df]\n",
    "except Exception as e:\n",
    "    print(f\"Error processing {file_path}: {e}\")\n",
    "    results = []\n",
    "\n",
    "con.close()\n"
   ]
  },
  {
   "cell_type": "code",
   "execution_count": null,
   "metadata": {},
   "outputs": [],
   "source": []
  }
 ],
 "metadata": {
  "kernelspec": {
   "display_name": "ei-nb-v2",
   "language": "python",
   "name": "python3"
  },
  "language_info": {
   "codemirror_mode": {
    "name": "ipython",
    "version": 3
   },
   "file_extension": ".py",
   "mimetype": "text/x-python",
   "name": "python",
   "nbconvert_exporter": "python",
   "pygments_lexer": "ipython3",
   "version": "3.12.7"
  }
 },
 "nbformat": 4,
 "nbformat_minor": 2
}
