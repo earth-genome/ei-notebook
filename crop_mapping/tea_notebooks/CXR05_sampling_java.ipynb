{
 "cells": [
  {
   "cell_type": "markdown",
   "metadata": {},
   "source": [
    "## Java is a little complicated as there are many more potential tea areas that are not captured by the RA polygons and it is more difficult to survey manually\n",
    "\n",
    "### Instead we manually drew some polygons where we were certain there was no tea, an easier task than drawing polygons around all the tea plantations\n",
    "\n"
   ]
  },
  {
   "cell_type": "code",
   "execution_count": 5,
   "metadata": {},
   "outputs": [
    {
     "data": {
      "text/html": [
       "\n",
       "            <style>\n",
       "                .geemap-dark {\n",
       "                    --jp-widgets-color: white;\n",
       "                    --jp-widgets-label-color: white;\n",
       "                    --jp-ui-font-color1: white;\n",
       "                    --jp-layout-color2: #454545;\n",
       "                    background-color: #383838;\n",
       "                }\n",
       "\n",
       "                .geemap-dark .jupyter-button {\n",
       "                    --jp-layout-color3: #383838;\n",
       "                }\n",
       "\n",
       "                .geemap-colab {\n",
       "                    background-color: var(--colab-primary-surface-color, white);\n",
       "                }\n",
       "\n",
       "                .geemap-colab .jupyter-button {\n",
       "                    --jp-layout-color3: var(--colab-primary-surface-color, white);\n",
       "                }\n",
       "            </style>\n",
       "            "
      ],
      "text/plain": [
       "<IPython.core.display.HTML object>"
      ]
     },
     "metadata": {},
     "output_type": "display_data"
    }
   ],
   "source": [
    "import geopandas as gpd\n",
    "java_negative = gpd.read_file(\"../java_negative_sampling.shp\")\n",
    "java_negative_union = gpd.GeoDataFrame(geometry=gpd.GeoSeries([java_negative.unary_union]))\n",
    "java_negative_union.to_file('gs://demeter-labs/tea/geometries/java_manual_negative_aoi.geojson')"
   ]
  },
  {
   "cell_type": "code",
   "execution_count": 2,
   "metadata": {},
   "outputs": [
    {
     "data": {
      "text/html": [
       "\n",
       "            <style>\n",
       "                .geemap-dark {\n",
       "                    --jp-widgets-color: white;\n",
       "                    --jp-widgets-label-color: white;\n",
       "                    --jp-ui-font-color1: white;\n",
       "                    --jp-layout-color2: #454545;\n",
       "                    background-color: #383838;\n",
       "                }\n",
       "\n",
       "                .geemap-dark .jupyter-button {\n",
       "                    --jp-layout-color3: #383838;\n",
       "                }\n",
       "\n",
       "                .geemap-colab {\n",
       "                    background-color: var(--colab-primary-surface-color, white);\n",
       "                }\n",
       "\n",
       "                .geemap-colab .jupyter-button {\n",
       "                    --jp-layout-color3: var(--colab-primary-surface-color, white);\n",
       "                }\n",
       "            </style>\n",
       "            "
      ],
      "text/plain": [
       "<IPython.core.display.HTML object>"
      ]
     },
     "metadata": {},
     "output_type": "display_data"
    },
    {
     "data": {
      "application/vnd.jupyter.widget-view+json": {
       "model_id": "e3abf9bfbc734207aca5f2eb8724dd12",
       "version_major": 2,
       "version_minor": 0
      },
      "text/plain": [
       "Map(center=[-0.7893, 113.9213], controls=(WidgetControl(options=['position', 'transparent_bg'], widget=SearchD…"
      ]
     },
     "execution_count": 2,
     "metadata": {},
     "output_type": "execute_result"
    }
   ],
   "source": [
    "import ee\n",
    "credentials = ee.ServiceAccountCredentials(\n",
    "    '242968905260-compute@developer.gserviceaccount.com',\n",
    "    '/home/christopher.x.ren/.config/earthengine/earthindex-7d2c9b94c507.json'\n",
    ")\n",
    "ee.Initialize(project='earthindex', credentials=credentials)\n",
    "import geemap\n",
    "import geopandas as gpd\n",
    "\n",
    "pos_gdf = gpd.read_parquet(\"/home/christopher.x.ren/datasets/ra_tea/pos_gdf_v1_java_2024-11-08.parquet\")\n",
    "\n",
    "m = geemap.Map(center=[-0.7893, 113.9213], zoom=5)\n",
    "\n",
    "# Add Google Maps hybrid layer\n",
    "url = 'https://mt1.google.com/vt/lyrs=y&x={x}&y={y}&z={z}'\n",
    "m.add_tile_layer(url, name='Google Hybrid', attribution='Google')\n",
    "\n",
    "lulc_viz = {\n",
    "    'names': ['Water', 'Trees', 'Flooded Vegetation', 'Crops', 'Built Area', \n",
    "              'Bare Ground', 'Snow/Ice', 'Clouds', 'Rangeland'],\n",
    "    'colors': ['#1A5BAB', '#358221', '#87D19E', '#FFDB5C', '#ED022A',\n",
    "               '#EDE9E4', '#F2FAFF', '#C8C8C8', '#800080']\n",
    "}\n",
    "\n",
    "def remap_lulc(image):\n",
    "    return image.remap([1,2,4,5,7,8,9,10,11], [1,2,3,4,5,6,7,8,9])\n",
    "\n",
    "esri_lulc = ee.ImageCollection(\"projects/sat-io/open-datasets/landcover/ESRI_Global-LULC_10m_TS\")\n",
    "lulc2023 = esri_lulc.filterDate('2023-01-01', '2023-12-31').mosaic()\n",
    "lulc2023_remapped = remap_lulc(lulc2023)\n",
    "m.addLayer(lulc2023_remapped, {'min': 1, 'max': 9, 'palette': lulc_viz['colors']}, 'ESRI LULC 2023')\n",
    "m.addLayer(geemap.gdf_to_ee(pos_gdf), {}, 'Positive Points')\n",
    "\n",
    "# Add legend\n",
    "legend_dict = dict(zip(lulc_viz['names'], lulc_viz['colors']))\n",
    "m.add_legend(title=\"Land Use/Land Cover\", legend_dict=legend_dict)\n",
    "\n",
    "m"
   ]
  },
  {
   "cell_type": "code",
   "execution_count": 7,
   "metadata": {},
   "outputs": [
    {
     "data": {
      "text/html": [
       "\n",
       "            <style>\n",
       "                .geemap-dark {\n",
       "                    --jp-widgets-color: white;\n",
       "                    --jp-widgets-label-color: white;\n",
       "                    --jp-ui-font-color1: white;\n",
       "                    --jp-layout-color2: #454545;\n",
       "                    background-color: #383838;\n",
       "                }\n",
       "\n",
       "                .geemap-dark .jupyter-button {\n",
       "                    --jp-layout-color3: #383838;\n",
       "                }\n",
       "\n",
       "                .geemap-colab {\n",
       "                    background-color: var(--colab-primary-surface-color, white);\n",
       "                }\n",
       "\n",
       "                .geemap-colab .jupyter-button {\n",
       "                    --jp-layout-color3: var(--colab-primary-surface-color, white);\n",
       "                }\n",
       "            </style>\n",
       "            "
      ],
      "text/plain": [
       "<IPython.core.display.HTML object>"
      ]
     },
     "metadata": {},
     "output_type": "display_data"
    }
   ],
   "source": [
    "import geopandas as gpd\n",
    "import shapely\n",
    "import os\n",
    "os.environ['GOOGLE_APPLICATION_CREDENTIALS'] = '/home/christopher.x.ren/.config/earthengine/earthindex-7d2c9b94c507.json'\n",
    "java_geometry = gpd.GeoDataFrame(geometry=[shapely.geometry.shape(m.draw_last_feature.geometry().getInfo())], crs=\"EPSG:4326\")\n",
    "java_geometry.to_file('gs://demeter-labs/tea/geometries/java_manual_negative_aoi.geojson')\n"
   ]
  },
  {
   "cell_type": "code",
   "execution_count": 2,
   "metadata": {},
   "outputs": [
    {
     "data": {
      "text/html": [
       "\n",
       "            <style>\n",
       "                .geemap-dark {\n",
       "                    --jp-widgets-color: white;\n",
       "                    --jp-widgets-label-color: white;\n",
       "                    --jp-ui-font-color1: white;\n",
       "                    --jp-layout-color2: #454545;\n",
       "                    background-color: #383838;\n",
       "                }\n",
       "\n",
       "                .geemap-dark .jupyter-button {\n",
       "                    --jp-layout-color3: #383838;\n",
       "                }\n",
       "\n",
       "                .geemap-colab {\n",
       "                    background-color: var(--colab-primary-surface-color, white);\n",
       "                }\n",
       "\n",
       "                .geemap-colab .jupyter-button {\n",
       "                    --jp-layout-color3: var(--colab-primary-surface-color, white);\n",
       "                }\n",
       "            </style>\n",
       "            "
      ],
      "text/plain": [
       "<IPython.core.display.HTML object>"
      ]
     },
     "metadata": {},
     "output_type": "display_data"
    }
   ],
   "source": [
    "import shapely\n",
    "ee_java_aoi = ee.Geometry(m.draw_last_feature.geometry())\n",
    "num_samples_per_class = 100\n",
    "lulc_samples = lulc2023_remapped.stratifiedSample(\n",
    "    region=ee_java_aoi,\n",
    "    scale=320,\n",
    "    numPoints=0,\n",
    "    classValues=[1, 2, 4, 5, 9], \n",
    "    classPoints=[200, 3000, 3000, 3000, 1000],\n",
    "    seed=0,\n",
    "    geometries=True\n",
    ")\n",
    "\n",
    "m.addLayer(lulc_samples, {}, 'LULC Sampled Points')"
   ]
  },
  {
   "cell_type": "code",
   "execution_count": 15,
   "metadata": {},
   "outputs": [
    {
     "data": {
      "text/html": [
       "\n",
       "            <style>\n",
       "                .geemap-dark {\n",
       "                    --jp-widgets-color: white;\n",
       "                    --jp-widgets-label-color: white;\n",
       "                    --jp-ui-font-color1: white;\n",
       "                    --jp-layout-color2: #454545;\n",
       "                    background-color: #383838;\n",
       "                }\n",
       "\n",
       "                .geemap-dark .jupyter-button {\n",
       "                    --jp-layout-color3: #383838;\n",
       "                }\n",
       "\n",
       "                .geemap-colab {\n",
       "                    background-color: var(--colab-primary-surface-color, white);\n",
       "                }\n",
       "\n",
       "                .geemap-colab .jupyter-button {\n",
       "                    --jp-layout-color3: var(--colab-primary-surface-color, white);\n",
       "                }\n",
       "            </style>\n",
       "            "
      ],
      "text/plain": [
       "<IPython.core.display.HTML object>"
      ]
     },
     "metadata": {},
     "output_type": "display_data"
    }
   ],
   "source": [
    "lulc_samples_gdf = geemap.ee_to_gdf(lulc_samples)\n"
   ]
  },
  {
   "cell_type": "code",
   "execution_count": 19,
   "metadata": {},
   "outputs": [
    {
     "data": {
      "text/html": [
       "\n",
       "            <style>\n",
       "                .geemap-dark {\n",
       "                    --jp-widgets-color: white;\n",
       "                    --jp-widgets-label-color: white;\n",
       "                    --jp-ui-font-color1: white;\n",
       "                    --jp-layout-color2: #454545;\n",
       "                    background-color: #383838;\n",
       "                }\n",
       "\n",
       "                .geemap-dark .jupyter-button {\n",
       "                    --jp-layout-color3: #383838;\n",
       "                }\n",
       "\n",
       "                .geemap-colab {\n",
       "                    background-color: var(--colab-primary-surface-color, white);\n",
       "                }\n",
       "\n",
       "                .geemap-colab .jupyter-button {\n",
       "                    --jp-layout-color3: var(--colab-primary-surface-color, white);\n",
       "                }\n",
       "            </style>\n",
       "            "
      ],
      "text/plain": [
       "<IPython.core.display.HTML object>"
      ]
     },
     "metadata": {},
     "output_type": "display_data"
    },
    {
     "name": "stdout",
     "output_type": "stream",
     "text": [
      "Original number of samples: 10200\n"
     ]
    }
   ],
   "source": [
    "print(f\"Original number of samples: {len(lulc_samples_gdf)}\")\n",
    "\n",
    "# Create buffer around positive points and remove samples within buffer\n",
    "# First convert to a projected CRS (UTM) for accurate distances in meters\n",
    "utm_zone = int(((pos_gdf.geometry.iloc[0].x + 180) / 6) + 1)\n",
    "utm_crs = f'EPSG:326{utm_zone:02d}' # Northern hemisphere\n",
    "\n",
    "# Project both dataframes to UTM\n",
    "pos_gdf_utm = pos_gdf.to_crs(utm_crs)\n",
    "lulc_samples_utm = lulc_samples_gdf.to_crs(utm_crs)\n",
    "\n",
    "# Create buffer in UTM coordinates (meters)\n",
    "pos_gdf_buffered = pos_gdf_utm.copy()\n",
    "pos_gdf_buffered.geometry = pos_gdf_utm.geometry.buffer(320)\n",
    "pos_union = pos_gdf_buffered.geometry.unary_union\n",
    "\n",
    "# Remove samples that intersect with buffered positive points\n",
    "lulc_samples_utm = lulc_samples_utm[~lulc_samples_utm.geometry.intersects(pos_union)]\n",
    "\n",
    "# Convert back to EPSG:4326\n",
    "lulc_samples_gdf_filtered = lulc_samples_utm.to_crs('EPSG:4326')\n",
    "\n",
    "# Create mapping dictionary\n",
    "class_mapping = {\n",
    "    1: 'Water',\n",
    "    2: 'Trees', \n",
    "    4: 'Crops',\n",
    "    5: 'Crops',\n",
    "    9: 'Rangeland'\n",
    "}\n",
    "\n",
    "# Add class column\n",
    "lulc_samples_gdf_filtered['class'] = lulc_samples_gdf_filtered['remapped'].map(class_mapping)\n",
    "\n",
    "\n",
    "\n"
   ]
  },
  {
   "cell_type": "code",
   "execution_count": 20,
   "metadata": {},
   "outputs": [
    {
     "data": {
      "text/html": [
       "\n",
       "            <style>\n",
       "                .geemap-dark {\n",
       "                    --jp-widgets-color: white;\n",
       "                    --jp-widgets-label-color: white;\n",
       "                    --jp-ui-font-color1: white;\n",
       "                    --jp-layout-color2: #454545;\n",
       "                    background-color: #383838;\n",
       "                }\n",
       "\n",
       "                .geemap-dark .jupyter-button {\n",
       "                    --jp-layout-color3: #383838;\n",
       "                }\n",
       "\n",
       "                .geemap-colab {\n",
       "                    background-color: var(--colab-primary-surface-color, white);\n",
       "                }\n",
       "\n",
       "                .geemap-colab .jupyter-button {\n",
       "                    --jp-layout-color3: var(--colab-primary-surface-color, white);\n",
       "                }\n",
       "            </style>\n",
       "            "
      ],
      "text/plain": [
       "<IPython.core.display.HTML object>"
      ]
     },
     "metadata": {},
     "output_type": "display_data"
    }
   ],
   "source": [
    "lulc_samples_gdf_filtered.to_parquet(\n",
    "    '/home/christopher.x.ren/datasets/ra_tea/java_neg_water_built_tree_rangeland_samples_10090.parquet')"
   ]
  },
  {
   "cell_type": "code",
   "execution_count": 21,
   "metadata": {},
   "outputs": [
    {
     "data": {
      "text/html": [
       "\n",
       "            <style>\n",
       "                .geemap-dark {\n",
       "                    --jp-widgets-color: white;\n",
       "                    --jp-widgets-label-color: white;\n",
       "                    --jp-ui-font-color1: white;\n",
       "                    --jp-layout-color2: #454545;\n",
       "                    background-color: #383838;\n",
       "                }\n",
       "\n",
       "                .geemap-dark .jupyter-button {\n",
       "                    --jp-layout-color3: #383838;\n",
       "                }\n",
       "\n",
       "                .geemap-colab {\n",
       "                    background-color: var(--colab-primary-surface-color, white);\n",
       "                }\n",
       "\n",
       "                .geemap-colab .jupyter-button {\n",
       "                    --jp-layout-color3: var(--colab-primary-surface-color, white);\n",
       "                }\n",
       "            </style>\n",
       "            "
      ],
      "text/plain": [
       "<IPython.core.display.HTML object>"
      ]
     },
     "metadata": {},
     "output_type": "display_data"
    },
    {
     "data": {
      "text/html": [
       "<div>\n",
       "<style scoped>\n",
       "    .dataframe tbody tr th:only-of-type {\n",
       "        vertical-align: middle;\n",
       "    }\n",
       "\n",
       "    .dataframe tbody tr th {\n",
       "        vertical-align: top;\n",
       "    }\n",
       "\n",
       "    .dataframe thead th {\n",
       "        text-align: right;\n",
       "    }\n",
       "</style>\n",
       "<table border=\"1\" class=\"dataframe\">\n",
       "  <thead>\n",
       "    <tr style=\"text-align: right;\">\n",
       "      <th></th>\n",
       "      <th>geometry</th>\n",
       "      <th>remapped</th>\n",
       "      <th>class</th>\n",
       "    </tr>\n",
       "  </thead>\n",
       "  <tbody>\n",
       "    <tr>\n",
       "      <th>0</th>\n",
       "      <td>POINT (108.12985 -6.29971)</td>\n",
       "      <td>1</td>\n",
       "      <td>Water</td>\n",
       "    </tr>\n",
       "    <tr>\n",
       "      <th>1</th>\n",
       "      <td>POINT (106.4942 -5.85702)</td>\n",
       "      <td>1</td>\n",
       "      <td>Water</td>\n",
       "    </tr>\n",
       "    <tr>\n",
       "      <th>2</th>\n",
       "      <td>POINT (105.9624 -6.87463)</td>\n",
       "      <td>1</td>\n",
       "      <td>Water</td>\n",
       "    </tr>\n",
       "    <tr>\n",
       "      <th>3</th>\n",
       "      <td>POINT (109.40905 -7.85774)</td>\n",
       "      <td>1</td>\n",
       "      <td>Water</td>\n",
       "    </tr>\n",
       "    <tr>\n",
       "      <th>4</th>\n",
       "      <td>POINT (106.35334 -5.83689)</td>\n",
       "      <td>1</td>\n",
       "      <td>Water</td>\n",
       "    </tr>\n",
       "    <tr>\n",
       "      <th>...</th>\n",
       "      <td>...</td>\n",
       "      <td>...</td>\n",
       "      <td>...</td>\n",
       "    </tr>\n",
       "    <tr>\n",
       "      <th>10194</th>\n",
       "      <td>POINT (105.34436 -6.66191)</td>\n",
       "      <td>9</td>\n",
       "      <td>Rangeland</td>\n",
       "    </tr>\n",
       "    <tr>\n",
       "      <th>10195</th>\n",
       "      <td>POINT (109.32281 -7.00111)</td>\n",
       "      <td>9</td>\n",
       "      <td>Rangeland</td>\n",
       "    </tr>\n",
       "    <tr>\n",
       "      <th>10197</th>\n",
       "      <td>POINT (110.23981 -6.99824)</td>\n",
       "      <td>9</td>\n",
       "      <td>Rangeland</td>\n",
       "    </tr>\n",
       "    <tr>\n",
       "      <th>10198</th>\n",
       "      <td>POINT (107.42845 -6.45206)</td>\n",
       "      <td>9</td>\n",
       "      <td>Rangeland</td>\n",
       "    </tr>\n",
       "    <tr>\n",
       "      <th>10199</th>\n",
       "      <td>POINT (108.45181 -7.42368)</td>\n",
       "      <td>9</td>\n",
       "      <td>Rangeland</td>\n",
       "    </tr>\n",
       "  </tbody>\n",
       "</table>\n",
       "<p>10090 rows × 3 columns</p>\n",
       "</div>"
      ],
      "text/plain": [
       "                         geometry  remapped      class\n",
       "0      POINT (108.12985 -6.29971)         1      Water\n",
       "1       POINT (106.4942 -5.85702)         1      Water\n",
       "2       POINT (105.9624 -6.87463)         1      Water\n",
       "3      POINT (109.40905 -7.85774)         1      Water\n",
       "4      POINT (106.35334 -5.83689)         1      Water\n",
       "...                           ...       ...        ...\n",
       "10194  POINT (105.34436 -6.66191)         9  Rangeland\n",
       "10195  POINT (109.32281 -7.00111)         9  Rangeland\n",
       "10197  POINT (110.23981 -6.99824)         9  Rangeland\n",
       "10198  POINT (107.42845 -6.45206)         9  Rangeland\n",
       "10199  POINT (108.45181 -7.42368)         9  Rangeland\n",
       "\n",
       "[10090 rows x 3 columns]"
      ]
     },
     "execution_count": 21,
     "metadata": {},
     "output_type": "execute_result"
    }
   ],
   "source": [
    "lulc_samples_gdf_filtered"
   ]
  },
  {
   "cell_type": "code",
   "execution_count": null,
   "metadata": {},
   "outputs": [],
   "source": []
  }
 ],
 "metadata": {
  "kernelspec": {
   "display_name": "ei-nb-v2",
   "language": "python",
   "name": "ei-nb-v2"
  },
  "language_info": {
   "codemirror_mode": {
    "name": "ipython",
    "version": 3
   },
   "file_extension": ".py",
   "mimetype": "text/x-python",
   "name": "python",
   "nbconvert_exporter": "python",
   "pygments_lexer": "ipython3",
   "version": "3.12.7"
  }
 },
 "nbformat": 4,
 "nbformat_minor": 2
}
