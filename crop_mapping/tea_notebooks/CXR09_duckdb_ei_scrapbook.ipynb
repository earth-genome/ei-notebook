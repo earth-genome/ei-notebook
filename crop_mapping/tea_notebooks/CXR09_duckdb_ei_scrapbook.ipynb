{
 "cells": [
  {
   "cell_type": "markdown",
   "metadata": {},
   "source": [
    "## Load all tiles as gdf, this is easier than a duckdb spatial table but less scalable"
   ]
  },
  {
   "cell_type": "code",
   "execution_count": 5,
   "metadata": {},
   "outputs": [
    {
     "name": "stdout",
     "output_type": "stream",
     "text": [
      "The autoreload extension is already loaded. To reload it, use:\n",
      "  %reload_ext autoreload\n"
     ]
    }
   ],
   "source": [
    "%load_ext autoreload\n",
    "%autoreload 2\n",
    "\n",
    "import geopandas as gpd\n",
    "import duckdb\n",
    "import os\n",
    "from tqdm import tqdm\n",
    "\n",
    "valid_tile_dir = \"/home/christopher.x.ren/embeddings/ra_tea/valid_tiles\"\n",
    "\n",
    "from datetime import datetime\n",
    "import json\n",
    "import os\n",
    "\n",
    "import annoy\n",
    "import geopandas as gpd\n",
    "import ipyleaflet as ipyl\n",
    "from IPython.display import display\n",
    "import ipywidgets as ipyw\n",
    "import joblib\n",
    "import numpy as np\n",
    "import pandas as pd\n",
    "\n",
    "import sys\n",
    "sys.path.insert(0, '/home/christopher.x.ren/earth-index-ml/demeter/tea/src')\n",
    "\n",
    "from ui import GeoLabeler\n",
    "\n",
    "\n",
    "# TODO: all this should go into init function of GeoLabeler\n",
    "with open('../config/ra_tea_aoi.json', 'r') as f:\n",
    "    config = json.load(f)\n",
    "\n",
    "local_dir = config['local_dir']\n",
    "annoy_index_path = os.path.join(local_dir, 'embeddings.ann')\n",
    "annoy_index = annoy.AnnoyIndex(config['index_dim'], 'angular')  # 384 dimensions for ViT-DINO embeddings\n",
    "annoy_index.load(annoy_index_path)\n",
    "tile_centroid_path = os.path.join(local_dir, 'centroid_gdf.parquet')\n",
    "tile_centroid_gdf = gpd.read_parquet(tile_centroid_path)\n",
    "duckdb_path = os.path.join(local_dir, 'embeddings.db')\n",
    "embeddings_con = duckdb.connect(duckdb_path)\n",
    "\n",
    "mgrs_ids = config['mgrs_ids']\n",
    "start_date = config['start_date']\n",
    "end_date = config['end_date']\n",
    "imagery = config['imagery']\n",
    "\n",
    "gdf = gpd.read_parquet(tile_centroid_path)\n",
    "\n"
   ]
  },
  {
   "cell_type": "code",
   "execution_count": 8,
   "metadata": {},
   "outputs": [
    {
     "name": "stdout",
     "output_type": "stream",
     "text": [
      "Initializing GeoLabeler...\n",
      "Adding controls...\n"
     ]
    },
    {
     "data": {
      "application/vnd.jupyter.widget-view+json": {
       "model_id": "ad6b0c34c1574200ac8a5f52d44f9170",
       "version_major": 2,
       "version_minor": 0
      },
      "text/plain": [
       "VBox(children=(Map(center=[-1.7088306035977048, 102.5723006937729], controls=(ZoomControl(options=['position',…"
      ]
     },
     "metadata": {},
     "output_type": "display_data"
    },
    {
     "data": {
      "application/vnd.jupyter.widget-view+json": {
       "model_id": "f1e11923c17d4cfb9ab700e842a1baeb",
       "version_major": 2,
       "version_minor": 0
      },
      "text/plain": [
       "Label(value='')"
      ]
     },
     "metadata": {},
     "output_type": "display_data"
    }
   ],
   "source": [
    "\n",
    "from ui import GeoLabeler\n",
    "\n",
    "BOUNDARY_PATH = \"/home/christopher.x.ren/earth-index-ml/places/ra_aoi_indonesia.geojson\"\n",
    "BOUNDARY = gpd.read_file(BOUNDARY_PATH)\n",
    "maptiler_attribution = '<a href=\"https://www.maptiler.com/copyright/\" target=\"_blank\">&copy; MapTiler</a> <a href=\"https://www.openstreetmap.org/copyright\" target=\"_blank\">&copy; OpenStreetMap contributors</a>'\n",
    "\n",
    "labeler = GeoLabeler(gdf=tile_centroid_gdf,\n",
    "                    geojson_path=BOUNDARY_PATH,\n",
    "                    mgrs_ids=mgrs_ids,\n",
    "                    start_date=start_date,\n",
    "                    end_date=end_date,\n",
    "                    imagery=imagery,\n",
    "                    annoy_index=annoy_index,\n",
    "                    duckdb_connection=embeddings_con,\n",
    "                    attribution=maptiler_attribution)\n",
    "\n",
    "\n",
    "label = ipyw.Label(); display(label)  \n",
    "\n",
    "def handle_mouse_move(**kwargs):\n",
    "    lat, lon = kwargs.get('coordinates')\n",
    "    label_type = \"Erase\" if labeler.select_val == -100 else \"Negative\" if labeler.select_val == 0 else \"Positive\"\n",
    "    label.value = f'Lat/lon: {lat:.4f}, {lon:.4f}. Mode: {\"lasso\" if labeler.lasso_mode else \"single\"}. Labeling: {label_type}'\n",
    "\n",
    "labeler.map.on_interaction(handle_mouse_move)"
   ]
  },
  {
   "cell_type": "markdown",
   "metadata": {},
   "source": [
    "## Search, first one takes a while as the table is loaded into memory\n",
    "\n",
    "## Make sure to set total acceptable memory usage on connection too, unlimited the Java + Sumatra embeddings take up about 60 GB"
   ]
  },
  {
   "cell_type": "code",
   "execution_count": 9,
   "metadata": {},
   "outputs": [
    {
     "data": {
      "application/vnd.jupyter.widget-view+json": {
       "model_id": "62bfbdd0475548b797d1b7a2be74ce92",
       "version_major": 2,
       "version_minor": 0
      },
      "text/plain": [
       "FloatProgress(value=0.0, layout=Layout(width='auto'), style=ProgressStyle(bar_color='black'))"
      ]
     },
     "metadata": {},
     "output_type": "display_data"
    }
   ],
   "source": [
    "# TODO: this should probably be a class method and internal\n",
    "pos = labeler.gdf.loc[labeler.pos_ids]\n",
    "neg = labeler.gdf.loc[labeler.neg_ids]\n",
    "pos_embeddings = labeler.get_embeddings_by_tile_ids(pos['tile_id'].values)\n",
    "if len(neg) > 0:\n",
    "    neg_embeddings = labeler.get_embeddings_by_tile_ids(neg['tile_id'].values)\n",
    "    neg_vec = neg_embeddings.drop(columns=['tile_id', 'row_number']).mean(axis=0).values\n",
    "else:\n",
    "    neg_vec = np.zeros(pos_embeddings.shape[1] - 2)\n",
    "pos_vec = pos_embeddings.drop(columns=['tile_id', 'row_number']).mean(axis=0).values\n",
    "query_vector = 2 * pos_vec - neg_vec\n",
    "\n",
    "n_nbors = 2000\n",
    "nbors = labeler.annoy_index.get_nns_by_vector(query_vector, n_nbors, include_distances=True)\n",
    "# Filter out any IDs that are already in positive labels\n",
    "nbors_filtered = [n for n in nbors[0] if n not in labeler.pos_ids]\n",
    "\n",
    "detections = labeler.gdf.loc[nbors_filtered]\n",
    "labeler.detection_gdf = detections[['geometry']]\n",
    "labeler.update_layer(\n",
    "    labeler.points, json.loads(detections.geometry.to_json()))"
   ]
  },
  {
   "cell_type": "code",
   "execution_count": 9,
   "metadata": {},
   "outputs": [],
   "source": [
    "pos_gdf = labeler.gdf.loc[labeler.pos_ids]\n",
    "pos_gdf.to_parquet(\"/home/christopher.x.ren/datasets/ra_tea/pos_gdf_v1_sumatra_2024-11-10.parquet\")\n",
    "neg_gdf = labeler.gdf.loc[labeler.neg_ids]\n",
    "neg_gdf.to_parquet(\"/home/christopher.x.ren/datasets/ra_tea/neg_gdf_v1_sumatra_2024-11-10.parquet\")"
   ]
  },
  {
   "cell_type": "markdown",
   "metadata": {},
   "source": []
  }
 ],
 "metadata": {
  "kernelspec": {
   "display_name": "Python 3 (ipykernel)",
   "language": "python",
   "name": "python3"
  },
  "language_info": {
   "codemirror_mode": {
    "name": "ipython",
    "version": 3
   },
   "file_extension": ".py",
   "mimetype": "text/x-python",
   "name": "python",
   "nbconvert_exporter": "python",
   "pygments_lexer": "ipython3",
   "version": "3.12.7"
  }
 },
 "nbformat": 4,
 "nbformat_minor": 4
}
