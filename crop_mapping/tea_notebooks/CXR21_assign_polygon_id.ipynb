{
 "cells": [
  {
   "cell_type": "code",
   "execution_count": 10,
   "metadata": {},
   "outputs": [
    {
     "name": "stdout",
     "output_type": "stream",
     "text": [
      "The autoreload extension is already loaded. To reload it, use:\n",
      "  %reload_ext autoreload\n"
     ]
    },
    {
     "name": "stderr",
     "output_type": "stream",
     "text": [
      "[Parallel(n_jobs=-1)]: Using backend LokyBackend with 30 concurrent workers.\n",
      "[Parallel(n_jobs=-1)]: Done   3 out of  16 | elapsed:    0.6s remaining:    2.7s\n",
      "[Parallel(n_jobs=-1)]: Done   5 out of  16 | elapsed:    0.7s remaining:    1.5s\n",
      "[Parallel(n_jobs=-1)]: Done   7 out of  16 | elapsed:    1.0s remaining:    1.3s\n",
      "[Parallel(n_jobs=-1)]: Done   9 out of  16 | elapsed:    1.1s remaining:    0.8s\n",
      "[Parallel(n_jobs=-1)]: Done  11 out of  16 | elapsed:    1.3s remaining:    0.6s\n",
      "[Parallel(n_jobs=-1)]: Done  13 out of  16 | elapsed:    1.6s remaining:    0.4s\n",
      "[Parallel(n_jobs=-1)]: Done  16 out of  16 | elapsed:    2.0s finished\n",
      "100%|██████████| 16/16 [00:00<00:00, 45.57it/s]\n"
     ]
    }
   ],
   "source": [
    "%load_ext autoreload\n",
    "%autoreload 2\n",
    "\n",
    "import sys\n",
    "sys.path.insert(0, '../src')\n",
    "import geopandas as gpd\n",
    "from postprocess_detections import process_mgrs_tile\n",
    "from joblib import Parallel, delayed\n",
    "import pandas as pd\n",
    "from tqdm import tqdm\n",
    "\n",
    "v2_dataset = gpd.read_parquet(\"gs://demeter-labs/tea/classifier-datasets/tile_classifier_dataset_v2_java-sumatra.parquet\")\n",
    "# this is a local tile directory, we could also use the google cloud bucket but we would need to change the function\n",
    "tiles_dir = '/home/christopher.x.ren/embeddings/ra_tea/valid_tiles'\n",
    "v2_dataset['mgrs_id'] = [x[:5] for x in v2_dataset['tile_id']]\n",
    "detections = v2_dataset[v2_dataset['class'] == 'ei_pos']\n",
    "\n",
    "# this combines the detections with the tile geometries, instead of point geometries\n",
    "tile_gdfs = Parallel(n_jobs=-1, verbose=10)(\n",
    "    delayed(process_mgrs_tile)(mgrs_id, tiles_dir, detections)\n",
    "    for mgrs_id in detections['mgrs_id'].unique()\n",
    ")\n",
    "BUFFER_SIZE = 160\n",
    "tile_gdfs = [gdf for gdf in tile_gdfs if gdf is not None]\n",
    "to_process = []\n",
    "# Buffer each tile by 640m in its local UTM zone\n",
    "for tile_gdf in tqdm(tile_gdfs):\n",
    "    tile_gdf_copy = tile_gdf.copy()\n",
    "    utm_zone = tile_gdf['utm_zone'].iloc[0]\n",
    "    tile_gdf_copy = tile_gdf_copy.to_crs(utm_zone)\n",
    "    tile_gdf_copy.geometry = tile_gdf_copy.geometry.buffer(BUFFER_SIZE)\n",
    "    tile_gdf_copy = tile_gdf_copy.to_crs(epsg=4326)\n",
    "    to_process.append(tile_gdf_copy)\n",
    "\n",
    "\n",
    "detection_tiles = pd.concat(to_process)\n",
    "detections = detections.merge(\n",
    "    detection_tiles, on='tile_id', suffixes=('', '_tile')).set_geometry('geometry_tile')\n",
    "\n",
    "unioned = detections.geometry_tile.union_all()\n",
    "exploded_gdf = gpd.GeoDataFrame(geometry=[unioned], crs=detection_tiles.crs).explode(index_parts=True)\n",
    "exploded_gdf.reset_index(drop=True, inplace=True)\n",
    "exploded_gdf['polygon_id'] = exploded_gdf.index\n",
    "detections_with_polygons = gpd.sjoin(\n",
    "    detections, exploded_gdf, how='left', predicate='intersects')\n",
    "\n",
    "detections_with_polygons.to_parquet(\n",
    "    f\"gs://demeter-labs/tea/ei-datasets/tile_geom_farm_id_pos_gdf_v2_java_sumatra_2024-11-11_buffer{BUFFER_SIZE}.parquet\")"
   ]
  },
  {
   "cell_type": "code",
   "execution_count": null,
   "metadata": {},
   "outputs": [],
   "source": []
  }
 ],
 "metadata": {
  "kernelspec": {
   "display_name": "ei-nb-v2",
   "language": "python",
   "name": "ei-nb-v2"
  },
  "language_info": {
   "codemirror_mode": {
    "name": "ipython",
    "version": 3
   },
   "file_extension": ".py",
   "mimetype": "text/x-python",
   "name": "python",
   "nbconvert_exporter": "python",
   "pygments_lexer": "ipython3",
   "version": "3.12.7"
  }
 },
 "nbformat": 4,
 "nbformat_minor": 2
}
