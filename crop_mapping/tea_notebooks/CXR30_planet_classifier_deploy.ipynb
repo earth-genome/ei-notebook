{
 "cells": [
  {
   "cell_type": "code",
   "execution_count": 1,
   "metadata": {},
   "outputs": [
    {
     "name": "stderr",
     "output_type": "stream",
     "text": [
      "  0%|          | 0/63 [00:00<?, ?it/s]"
     ]
    },
    {
     "name": "stdout",
     "output_type": "stream",
     "text": [
      "('embedding', '2023_09')\n",
      "('embedding', '2023_10')\n",
      "('embedding', '2023_11')\n",
      "('embedding', '2023_12')\n",
      "('embedding', '2024_01')\n",
      "('embedding', '2024_02')\n",
      "('embedding', '2024_03')\n",
      "('embedding', '2024_04')\n",
      "('embedding', '2024_05')\n",
      "('embedding', '2024_06')\n",
      "('embedding', '2024_07')\n",
      "('embedding', '2024_08')\n"
     ]
    },
    {
     "name": "stderr",
     "output_type": "stream",
     "text": [
      "  2%|▏         | 1/63 [00:55<57:06, 55.27s/it]"
     ]
    },
    {
     "name": "stdout",
     "output_type": "stream",
     "text": [
      "('embedding', '2023_09')\n",
      "('embedding', '2023_10')\n",
      "('embedding', '2023_11')\n",
      "('embedding', '2023_12')\n",
      "('embedding', '2024_01')\n",
      "('embedding', '2024_02')\n",
      "('embedding', '2024_03')\n",
      "('embedding', '2024_04')\n",
      "('embedding', '2024_05')\n",
      "('embedding', '2024_06')\n",
      "('embedding', '2024_07')\n",
      "('embedding', '2024_08')\n"
     ]
    },
    {
     "name": "stderr",
     "output_type": "stream",
     "text": [
      "  3%|▎         | 2/63 [03:50<2:08:08, 126.04s/it]"
     ]
    },
    {
     "name": "stdout",
     "output_type": "stream",
     "text": [
      "('embedding', '2023_09')\n",
      "('embedding', '2023_10')\n",
      "('embedding', '2023_11')\n",
      "('embedding', '2023_12')\n",
      "('embedding', '2024_01')\n",
      "('embedding', '2024_02')\n",
      "('embedding', '2024_03')\n",
      "('embedding', '2024_04')\n",
      "('embedding', '2024_05')\n",
      "('embedding', '2024_06')\n",
      "('embedding', '2024_07')\n",
      "('embedding', '2024_08')\n"
     ]
    },
    {
     "name": "stderr",
     "output_type": "stream",
     "text": [
      "  5%|▍         | 3/63 [05:42<1:59:24, 119.42s/it]"
     ]
    },
    {
     "name": "stdout",
     "output_type": "stream",
     "text": [
      "('embedding', '2023_09')\n",
      "('embedding', '2023_10')\n",
      "('embedding', '2023_11')\n",
      "('embedding', '2023_12')\n",
      "('embedding', '2024_01')\n",
      "('embedding', '2024_02')\n",
      "('embedding', '2024_03')\n",
      "('embedding', '2024_04')\n",
      "('embedding', '2024_05')\n",
      "('embedding', '2024_06')\n",
      "('embedding', '2024_07')\n",
      "('embedding', '2024_08')\n"
     ]
    },
    {
     "name": "stderr",
     "output_type": "stream",
     "text": [
      "  6%|▋         | 4/63 [09:00<2:28:05, 150.61s/it]"
     ]
    },
    {
     "name": "stdout",
     "output_type": "stream",
     "text": [
      "('embedding', '2023_09')\n",
      "('embedding', '2023_10')\n",
      "('embedding', '2023_11')\n",
      "('embedding', '2023_12')\n",
      "('embedding', '2024_01')\n",
      "('embedding', '2024_02')\n",
      "('embedding', '2024_03')\n",
      "('embedding', '2024_04')\n",
      "('embedding', '2024_05')\n",
      "('embedding', '2024_06')\n",
      "('embedding', '2024_07')\n",
      "('embedding', '2024_08')\n"
     ]
    },
    {
     "name": "stderr",
     "output_type": "stream",
     "text": [
      "  8%|▊         | 5/63 [12:10<2:39:03, 164.54s/it]"
     ]
    },
    {
     "name": "stdout",
     "output_type": "stream",
     "text": [
      "('embedding', '2023_09')\n",
      "('embedding', '2023_10')\n",
      "('embedding', '2023_11')\n",
      "('embedding', '2023_12')\n",
      "('embedding', '2024_01')\n",
      "('embedding', '2024_02')\n",
      "('embedding', '2024_03')\n",
      "('embedding', '2024_04')\n",
      "('embedding', '2024_05')\n",
      "('embedding', '2024_06')\n",
      "('embedding', '2024_07')\n",
      "('embedding', '2024_08')\n"
     ]
    },
    {
     "name": "stderr",
     "output_type": "stream",
     "text": [
      " 10%|▉         | 6/63 [12:40<1:52:51, 118.79s/it]"
     ]
    },
    {
     "name": "stdout",
     "output_type": "stream",
     "text": [
      "('embedding', '2023_09')\n",
      "('embedding', '2023_10')\n",
      "('embedding', '2023_11')\n",
      "('embedding', '2023_12')\n",
      "('embedding', '2024_01')\n",
      "('embedding', '2024_02')\n",
      "('embedding', '2024_03')\n",
      "('embedding', '2024_04')\n",
      "('embedding', '2024_05')\n",
      "('embedding', '2024_06')\n",
      "('embedding', '2024_07')\n",
      "('embedding', '2024_08')\n"
     ]
    },
    {
     "name": "stderr",
     "output_type": "stream",
     "text": [
      " 11%|█         | 7/63 [13:54<1:37:14, 104.18s/it]"
     ]
    },
    {
     "name": "stdout",
     "output_type": "stream",
     "text": [
      "('embedding', '2023_09')\n",
      "('embedding', '2023_10')\n",
      "('embedding', '2023_11')\n",
      "('embedding', '2023_12')\n",
      "('embedding', '2024_01')\n",
      "('embedding', '2024_02')\n",
      "('embedding', '2024_03')\n",
      "('embedding', '2024_04')\n",
      "('embedding', '2024_05')\n",
      "('embedding', '2024_06')\n",
      "('embedding', '2024_07')\n",
      "('embedding', '2024_08')\n"
     ]
    },
    {
     "name": "stderr",
     "output_type": "stream",
     "text": [
      " 13%|█▎        | 8/63 [15:13<1:28:17, 96.32s/it] "
     ]
    },
    {
     "name": "stdout",
     "output_type": "stream",
     "text": [
      "('embedding', '2023_09')\n",
      "('embedding', '2023_10')\n",
      "('embedding', '2023_11')\n",
      "('embedding', '2023_12')\n",
      "('embedding', '2024_01')\n",
      "('embedding', '2024_02')\n",
      "('embedding', '2024_03')\n",
      "('embedding', '2024_04')\n",
      "('embedding', '2024_05')\n",
      "('embedding', '2024_06')\n",
      "('embedding', '2024_07')\n",
      "('embedding', '2024_08')\n"
     ]
    },
    {
     "name": "stderr",
     "output_type": "stream",
     "text": [
      " 14%|█▍        | 9/63 [16:30<1:21:06, 90.12s/it]"
     ]
    },
    {
     "name": "stdout",
     "output_type": "stream",
     "text": [
      "('embedding', '2023_09')\n",
      "('embedding', '2023_10')\n",
      "('embedding', '2023_11')\n",
      "('embedding', '2023_12')\n",
      "('embedding', '2024_01')\n",
      "('embedding', '2024_02')\n",
      "('embedding', '2024_03')\n",
      "('embedding', '2024_04')\n",
      "('embedding', '2024_05')\n",
      "('embedding', '2024_06')\n",
      "('embedding', '2024_07')\n",
      "('embedding', '2024_08')\n"
     ]
    },
    {
     "name": "stderr",
     "output_type": "stream",
     "text": [
      " 16%|█▌        | 10/63 [18:04<1:20:51, 91.54s/it]"
     ]
    },
    {
     "name": "stdout",
     "output_type": "stream",
     "text": [
      "('embedding', '2023_09')\n",
      "('embedding', '2023_10')\n",
      "('embedding', '2023_11')\n",
      "('embedding', '2023_12')\n",
      "('embedding', '2024_01')\n",
      "('embedding', '2024_02')\n",
      "('embedding', '2024_03')\n",
      "('embedding', '2024_04')\n",
      "('embedding', '2024_05')\n",
      "('embedding', '2024_06')\n",
      "('embedding', '2024_07')\n",
      "('embedding', '2024_08')\n"
     ]
    },
    {
     "name": "stderr",
     "output_type": "stream",
     "text": [
      " 17%|█▋        | 11/63 [20:04<1:26:40, 100.00s/it]"
     ]
    },
    {
     "name": "stdout",
     "output_type": "stream",
     "text": [
      "('embedding', '2023_09')\n",
      "('embedding', '2023_10')\n",
      "('embedding', '2023_11')\n",
      "('embedding', '2023_12')\n",
      "('embedding', '2024_01')\n",
      "('embedding', '2024_02')\n",
      "('embedding', '2024_03')\n",
      "('embedding', '2024_04')\n",
      "('embedding', '2024_05')\n",
      "('embedding', '2024_06')\n",
      "('embedding', '2024_07')\n",
      "('embedding', '2024_08')\n"
     ]
    },
    {
     "name": "stderr",
     "output_type": "stream",
     "text": [
      " 19%|█▉        | 12/63 [20:24<1:04:23, 75.75s/it] "
     ]
    },
    {
     "name": "stdout",
     "output_type": "stream",
     "text": [
      "('embedding', '2023_09')\n",
      "('embedding', '2023_10')\n",
      "('embedding', '2023_11')\n",
      "('embedding', '2023_12')\n",
      "('embedding', '2024_01')\n",
      "('embedding', '2024_02')\n",
      "('embedding', '2024_03')\n",
      "('embedding', '2024_04')\n",
      "('embedding', '2024_05')\n",
      "('embedding', '2024_06')\n",
      "('embedding', '2024_07')\n",
      "('embedding', '2024_08')\n"
     ]
    },
    {
     "name": "stderr",
     "output_type": "stream",
     "text": [
      " 21%|██        | 13/63 [23:19<1:28:14, 105.89s/it]"
     ]
    },
    {
     "name": "stdout",
     "output_type": "stream",
     "text": [
      "('embedding', '2023_09')\n",
      "('embedding', '2023_10')\n",
      "('embedding', '2023_11')\n",
      "('embedding', '2023_12')\n",
      "('embedding', '2024_01')\n",
      "('embedding', '2024_02')\n",
      "('embedding', '2024_03')\n",
      "('embedding', '2024_04')\n",
      "('embedding', '2024_05')\n",
      "('embedding', '2024_06')\n",
      "('embedding', '2024_07')\n",
      "('embedding', '2024_08')\n"
     ]
    },
    {
     "name": "stderr",
     "output_type": "stream",
     "text": [
      " 22%|██▏       | 14/63 [25:53<1:38:14, 120.30s/it]"
     ]
    },
    {
     "name": "stdout",
     "output_type": "stream",
     "text": [
      "('embedding', '2023_09')\n",
      "('embedding', '2023_10')\n",
      "('embedding', '2023_11')\n",
      "('embedding', '2023_12')\n",
      "('embedding', '2024_01')\n",
      "('embedding', '2024_02')\n",
      "('embedding', '2024_03')\n",
      "('embedding', '2024_04')\n",
      "('embedding', '2024_05')\n",
      "('embedding', '2024_06')\n",
      "('embedding', '2024_07')\n",
      "('embedding', '2024_08')\n"
     ]
    },
    {
     "name": "stderr",
     "output_type": "stream",
     "text": [
      " 24%|██▍       | 15/63 [26:30<1:16:13, 95.28s/it] "
     ]
    },
    {
     "name": "stdout",
     "output_type": "stream",
     "text": [
      "('embedding', '2023_09')\n",
      "('embedding', '2023_10')\n",
      "('embedding', '2023_11')\n",
      "('embedding', '2023_12')\n",
      "('embedding', '2024_01')\n",
      "('embedding', '2024_02')\n",
      "('embedding', '2024_03')\n",
      "('embedding', '2024_04')\n",
      "('embedding', '2024_05')\n",
      "('embedding', '2024_06')\n",
      "('embedding', '2024_07')\n",
      "('embedding', '2024_08')\n"
     ]
    },
    {
     "name": "stderr",
     "output_type": "stream",
     "text": [
      " 25%|██▌       | 16/63 [26:51<57:15, 73.09s/it]  "
     ]
    },
    {
     "name": "stdout",
     "output_type": "stream",
     "text": [
      "('embedding', '2023_09')\n",
      "('embedding', '2023_10')\n",
      "('embedding', '2023_11')\n",
      "('embedding', '2023_12')\n",
      "('embedding', '2024_01')\n",
      "('embedding', '2024_02')\n",
      "('embedding', '2024_03')\n",
      "('embedding', '2024_04')\n",
      "('embedding', '2024_05')\n",
      "('embedding', '2024_06')\n",
      "('embedding', '2024_07')\n",
      "('embedding', '2024_08')\n"
     ]
    },
    {
     "name": "stderr",
     "output_type": "stream",
     "text": [
      " 27%|██▋       | 17/63 [29:43<1:18:49, 102.82s/it]"
     ]
    },
    {
     "name": "stdout",
     "output_type": "stream",
     "text": [
      "('embedding', '2023_09')\n",
      "('embedding', '2023_10')\n",
      "('embedding', '2023_11')\n",
      "('embedding', '2023_12')\n",
      "('embedding', '2024_01')\n",
      "('embedding', '2024_02')\n",
      "('embedding', '2024_03')\n",
      "('embedding', '2024_04')\n",
      "('embedding', '2024_05')\n",
      "('embedding', '2024_06')\n",
      "('embedding', '2024_07')\n",
      "('embedding', '2024_08')\n"
     ]
    },
    {
     "name": "stderr",
     "output_type": "stream",
     "text": [
      " 29%|██▊       | 18/63 [32:19<1:29:00, 118.68s/it]"
     ]
    },
    {
     "name": "stdout",
     "output_type": "stream",
     "text": [
      "('embedding', '2023_09')\n",
      "('embedding', '2023_10')\n",
      "('embedding', '2023_11')\n",
      "('embedding', '2023_12')\n",
      "('embedding', '2024_01')\n",
      "('embedding', '2024_02')\n",
      "('embedding', '2024_03')\n",
      "('embedding', '2024_04')\n",
      "('embedding', '2024_05')\n",
      "('embedding', '2024_06')\n",
      "('embedding', '2024_07')\n",
      "('embedding', '2024_08')\n"
     ]
    },
    {
     "name": "stderr",
     "output_type": "stream",
     "text": [
      " 30%|███       | 19/63 [32:24<1:02:03, 84.63s/it] "
     ]
    },
    {
     "name": "stdout",
     "output_type": "stream",
     "text": [
      "('embedding', '2023_09')\n",
      "('embedding', '2023_10')\n",
      "('embedding', '2023_11')\n",
      "('embedding', '2023_12')\n",
      "('embedding', '2024_01')\n",
      "('embedding', '2024_02')\n",
      "('embedding', '2024_03')\n",
      "('embedding', '2024_04')\n",
      "('embedding', '2024_05')\n",
      "('embedding', '2024_06')\n",
      "('embedding', '2024_07')\n",
      "('embedding', '2024_08')\n"
     ]
    },
    {
     "name": "stderr",
     "output_type": "stream",
     "text": [
      " 32%|███▏      | 20/63 [33:53<1:01:28, 85.78s/it]"
     ]
    },
    {
     "name": "stdout",
     "output_type": "stream",
     "text": [
      "('embedding', '2023_09')\n",
      "('embedding', '2023_10')\n",
      "('embedding', '2023_11')\n",
      "('embedding', '2023_12')\n",
      "('embedding', '2024_01')\n",
      "('embedding', '2024_02')\n",
      "('embedding', '2024_03')\n",
      "('embedding', '2024_04')\n",
      "('embedding', '2024_05')\n",
      "('embedding', '2024_06')\n",
      "('embedding', '2024_07')\n",
      "('embedding', '2024_08')\n"
     ]
    },
    {
     "name": "stderr",
     "output_type": "stream",
     "text": [
      " 33%|███▎      | 21/63 [37:04<1:22:05, 117.27s/it]"
     ]
    },
    {
     "name": "stdout",
     "output_type": "stream",
     "text": [
      "('embedding', '2023_09')\n",
      "('embedding', '2023_10')\n",
      "('embedding', '2023_11')\n",
      "('embedding', '2023_12')\n",
      "('embedding', '2024_01')\n",
      "('embedding', '2024_02')\n",
      "('embedding', '2024_03')\n",
      "('embedding', '2024_04')\n",
      "('embedding', '2024_05')\n",
      "('embedding', '2024_06')\n",
      "('embedding', '2024_07')\n",
      "('embedding', '2024_08')\n"
     ]
    },
    {
     "name": "stderr",
     "output_type": "stream",
     "text": [
      " 35%|███▍      | 22/63 [40:10<1:34:21, 138.09s/it]"
     ]
    },
    {
     "name": "stdout",
     "output_type": "stream",
     "text": [
      "('embedding', '2023_09')\n",
      "('embedding', '2023_10')\n",
      "('embedding', '2023_11')\n",
      "('embedding', '2023_12')\n",
      "('embedding', '2024_01')\n",
      "('embedding', '2024_02')\n",
      "('embedding', '2024_03')\n",
      "('embedding', '2024_04')\n",
      "('embedding', '2024_05')\n",
      "('embedding', '2024_06')\n",
      "('embedding', '2024_07')\n",
      "('embedding', '2024_08')\n"
     ]
    },
    {
     "name": "stderr",
     "output_type": "stream",
     "text": [
      " 37%|███▋      | 23/63 [41:14<1:17:06, 115.67s/it]"
     ]
    },
    {
     "name": "stdout",
     "output_type": "stream",
     "text": [
      "('embedding', '2023_09')\n",
      "('embedding', '2023_10')\n",
      "('embedding', '2023_11')\n",
      "('embedding', '2023_12')\n",
      "('embedding', '2024_01')\n",
      "('embedding', '2024_02')\n",
      "('embedding', '2024_03')\n",
      "('embedding', '2024_04')\n",
      "('embedding', '2024_05')\n",
      "('embedding', '2024_06')\n",
      "('embedding', '2024_07')\n",
      "('embedding', '2024_08')\n"
     ]
    },
    {
     "name": "stderr",
     "output_type": "stream",
     "text": [
      " 38%|███▊      | 24/63 [44:31<1:31:02, 140.06s/it]"
     ]
    },
    {
     "name": "stdout",
     "output_type": "stream",
     "text": [
      "('embedding', '2023_09')\n",
      "('embedding', '2023_10')\n",
      "('embedding', '2023_11')\n",
      "('embedding', '2023_12')\n",
      "('embedding', '2024_01')\n",
      "('embedding', '2024_02')\n",
      "('embedding', '2024_03')\n",
      "('embedding', '2024_04')\n",
      "('embedding', '2024_05')\n",
      "('embedding', '2024_06')\n",
      "('embedding', '2024_07')\n",
      "('embedding', '2024_08')\n"
     ]
    },
    {
     "name": "stderr",
     "output_type": "stream",
     "text": [
      " 40%|███▉      | 25/63 [47:27<1:35:40, 151.08s/it]"
     ]
    },
    {
     "name": "stdout",
     "output_type": "stream",
     "text": [
      "('embedding', '2023_09')\n",
      "('embedding', '2023_10')\n",
      "('embedding', '2023_11')\n",
      "('embedding', '2023_12')\n",
      "('embedding', '2024_01')\n",
      "('embedding', '2024_02')\n",
      "('embedding', '2024_03')\n",
      "('embedding', '2024_04')\n",
      "('embedding', '2024_05')\n",
      "('embedding', '2024_06')\n",
      "('embedding', '2024_07')\n",
      "('embedding', '2024_08')\n"
     ]
    },
    {
     "name": "stderr",
     "output_type": "stream",
     "text": [
      " 41%|████▏     | 26/63 [48:12<1:13:33, 119.27s/it]"
     ]
    },
    {
     "name": "stdout",
     "output_type": "stream",
     "text": [
      "('embedding', '2023_09')\n",
      "('embedding', '2023_10')\n",
      "('embedding', '2023_11')\n",
      "('embedding', '2023_12')\n",
      "('embedding', '2024_01')\n",
      "('embedding', '2024_02')\n",
      "('embedding', '2024_03')\n",
      "('embedding', '2024_04')\n",
      "('embedding', '2024_05')\n",
      "('embedding', '2024_06')\n",
      "('embedding', '2024_07')\n",
      "('embedding', '2024_08')\n"
     ]
    },
    {
     "name": "stderr",
     "output_type": "stream",
     "text": [
      " 43%|████▎     | 27/63 [51:02<1:20:42, 134.51s/it]"
     ]
    },
    {
     "name": "stdout",
     "output_type": "stream",
     "text": [
      "('embedding', '2023_09')\n",
      "('embedding', '2023_10')\n",
      "('embedding', '2023_11')\n",
      "('embedding', '2023_12')\n",
      "('embedding', '2024_01')\n",
      "('embedding', '2024_02')\n",
      "('embedding', '2024_03')\n",
      "('embedding', '2024_04')\n",
      "('embedding', '2024_05')\n",
      "('embedding', '2024_06')\n",
      "('embedding', '2024_07')\n",
      "('embedding', '2024_08')\n"
     ]
    },
    {
     "name": "stderr",
     "output_type": "stream",
     "text": [
      " 44%|████▍     | 28/63 [51:38<1:01:08, 104.80s/it]"
     ]
    },
    {
     "name": "stdout",
     "output_type": "stream",
     "text": [
      "('embedding', '2023_09')\n",
      "('embedding', '2023_10')\n",
      "('embedding', '2023_11')\n",
      "('embedding', '2023_12')\n",
      "('embedding', '2024_01')\n",
      "('embedding', '2024_02')\n",
      "('embedding', '2024_03')\n",
      "('embedding', '2024_04')\n",
      "('embedding', '2024_05')\n",
      "('embedding', '2024_06')\n",
      "('embedding', '2024_07')\n",
      "('embedding', '2024_08')\n"
     ]
    },
    {
     "name": "stderr",
     "output_type": "stream",
     "text": [
      " 46%|████▌     | 29/63 [51:58<44:55, 79.27s/it]   "
     ]
    },
    {
     "name": "stdout",
     "output_type": "stream",
     "text": [
      "('embedding', '2023_09')\n",
      "('embedding', '2023_10')\n",
      "('embedding', '2023_11')\n",
      "('embedding', '2023_12')\n",
      "('embedding', '2024_01')\n",
      "('embedding', '2024_02')\n",
      "('embedding', '2024_03')\n",
      "('embedding', '2024_04')\n",
      "('embedding', '2024_05')\n",
      "('embedding', '2024_06')\n",
      "('embedding', '2024_07')\n",
      "('embedding', '2024_08')\n"
     ]
    },
    {
     "name": "stderr",
     "output_type": "stream",
     "text": [
      " 48%|████▊     | 30/63 [53:05<41:34, 75.59s/it]"
     ]
    },
    {
     "name": "stdout",
     "output_type": "stream",
     "text": [
      "('embedding', '2023_09')\n",
      "('embedding', '2023_10')\n",
      "('embedding', '2023_11')\n",
      "('embedding', '2023_12')\n",
      "('embedding', '2024_01')\n",
      "('embedding', '2024_02')\n",
      "('embedding', '2024_03')\n",
      "('embedding', '2024_04')\n",
      "('embedding', '2024_05')\n",
      "('embedding', '2024_06')\n",
      "('embedding', '2024_07')\n",
      "('embedding', '2024_08')\n"
     ]
    },
    {
     "name": "stderr",
     "output_type": "stream",
     "text": [
      " 49%|████▉     | 31/63 [54:18<39:59, 74.98s/it]"
     ]
    },
    {
     "name": "stdout",
     "output_type": "stream",
     "text": [
      "('embedding', '2023_09')\n",
      "('embedding', '2023_10')\n",
      "('embedding', '2023_11')\n",
      "('embedding', '2023_12')\n",
      "('embedding', '2024_01')\n",
      "('embedding', '2024_02')\n",
      "('embedding', '2024_03')\n",
      "('embedding', '2024_04')\n",
      "('embedding', '2024_05')\n",
      "('embedding', '2024_06')\n",
      "('embedding', '2024_07')\n",
      "('embedding', '2024_08')\n"
     ]
    },
    {
     "name": "stderr",
     "output_type": "stream",
     "text": [
      " 51%|█████     | 32/63 [55:54<42:01, 81.35s/it]"
     ]
    },
    {
     "name": "stdout",
     "output_type": "stream",
     "text": [
      "('embedding', '2023_09')\n",
      "('embedding', '2023_10')\n",
      "('embedding', '2023_11')\n",
      "('embedding', '2023_12')\n",
      "('embedding', '2024_01')\n",
      "('embedding', '2024_02')\n",
      "('embedding', '2024_03')\n",
      "('embedding', '2024_04')\n",
      "('embedding', '2024_05')\n",
      "('embedding', '2024_06')\n",
      "('embedding', '2024_07')\n",
      "('embedding', '2024_08')\n"
     ]
    },
    {
     "name": "stderr",
     "output_type": "stream",
     "text": [
      " 52%|█████▏    | 33/63 [57:08<39:35, 79.18s/it]"
     ]
    },
    {
     "name": "stdout",
     "output_type": "stream",
     "text": [
      "('embedding', '2023_09')\n",
      "('embedding', '2023_10')\n",
      "('embedding', '2023_11')\n",
      "('embedding', '2023_12')\n",
      "('embedding', '2024_01')\n",
      "('embedding', '2024_02')\n",
      "('embedding', '2024_03')\n",
      "('embedding', '2024_04')\n",
      "('embedding', '2024_05')\n",
      "('embedding', '2024_06')\n",
      "('embedding', '2024_07')\n",
      "('embedding', '2024_08')\n"
     ]
    },
    {
     "name": "stderr",
     "output_type": "stream",
     "text": [
      " 54%|█████▍    | 34/63 [58:43<40:31, 83.86s/it]"
     ]
    },
    {
     "name": "stdout",
     "output_type": "stream",
     "text": [
      "('embedding', '2023_09')\n",
      "('embedding', '2023_10')\n",
      "('embedding', '2023_11')\n",
      "('embedding', '2023_12')\n",
      "('embedding', '2024_01')\n",
      "('embedding', '2024_02')\n",
      "('embedding', '2024_03')\n",
      "('embedding', '2024_04')\n",
      "('embedding', '2024_05')\n",
      "('embedding', '2024_06')\n",
      "('embedding', '2024_07')\n",
      "('embedding', '2024_08')\n"
     ]
    },
    {
     "name": "stderr",
     "output_type": "stream",
     "text": [
      " 56%|█████▌    | 35/63 [1:02:01<55:05, 118.04s/it]"
     ]
    },
    {
     "name": "stdout",
     "output_type": "stream",
     "text": [
      "('embedding', '2023_09')\n",
      "('embedding', '2023_10')\n",
      "('embedding', '2023_11')\n",
      "('embedding', '2023_12')\n",
      "('embedding', '2024_01')\n",
      "('embedding', '2024_02')\n",
      "('embedding', '2024_03')\n",
      "('embedding', '2024_04')\n",
      "('embedding', '2024_05')\n",
      "('embedding', '2024_06')\n",
      "('embedding', '2024_07')\n",
      "('embedding', '2024_08')\n"
     ]
    },
    {
     "name": "stderr",
     "output_type": "stream",
     "text": [
      " 57%|█████▋    | 36/63 [1:05:22<1:04:16, 142.83s/it]"
     ]
    },
    {
     "name": "stdout",
     "output_type": "stream",
     "text": [
      "('embedding', '2023_09')\n",
      "('embedding', '2023_10')\n",
      "('embedding', '2023_11')\n",
      "('embedding', '2023_12')\n",
      "('embedding', '2024_01')\n",
      "('embedding', '2024_02')\n",
      "('embedding', '2024_03')\n",
      "('embedding', '2024_04')\n",
      "('embedding', '2024_05')\n",
      "('embedding', '2024_06')\n",
      "('embedding', '2024_07')\n",
      "('embedding', '2024_08')\n"
     ]
    },
    {
     "name": "stderr",
     "output_type": "stream",
     "text": [
      " 59%|█████▊    | 37/63 [1:07:45<1:01:55, 142.92s/it]"
     ]
    },
    {
     "name": "stdout",
     "output_type": "stream",
     "text": [
      "('embedding', '2023_09')\n",
      "('embedding', '2023_10')\n",
      "('embedding', '2023_11')\n",
      "('embedding', '2023_12')\n",
      "('embedding', '2024_01')\n",
      "('embedding', '2024_02')\n",
      "('embedding', '2024_03')\n",
      "('embedding', '2024_04')\n",
      "('embedding', '2024_05')\n",
      "('embedding', '2024_06')\n",
      "('embedding', '2024_07')\n",
      "('embedding', '2024_08')\n"
     ]
    },
    {
     "name": "stderr",
     "output_type": "stream",
     "text": [
      " 60%|██████    | 38/63 [1:08:21<46:13, 110.93s/it]  "
     ]
    },
    {
     "name": "stdout",
     "output_type": "stream",
     "text": [
      "('embedding', '2023_09')\n",
      "('embedding', '2023_10')\n",
      "('embedding', '2023_11')\n",
      "('embedding', '2023_12')\n",
      "('embedding', '2024_01')\n",
      "('embedding', '2024_02')\n",
      "('embedding', '2024_03')\n",
      "('embedding', '2024_04')\n",
      "('embedding', '2024_05')\n",
      "('embedding', '2024_06')\n",
      "('embedding', '2024_07')\n",
      "('embedding', '2024_08')\n"
     ]
    },
    {
     "name": "stderr",
     "output_type": "stream",
     "text": [
      " 62%|██████▏   | 39/63 [1:11:50<56:10, 140.45s/it]"
     ]
    },
    {
     "name": "stdout",
     "output_type": "stream",
     "text": [
      "('embedding', '2023_09')\n",
      "('embedding', '2023_10')\n",
      "('embedding', '2023_11')\n",
      "('embedding', '2023_12')\n",
      "('embedding', '2024_01')\n",
      "('embedding', '2024_02')\n",
      "('embedding', '2024_03')\n",
      "('embedding', '2024_04')\n",
      "('embedding', '2024_05')\n",
      "('embedding', '2024_06')\n",
      "('embedding', '2024_07')\n",
      "('embedding', '2024_08')\n"
     ]
    },
    {
     "name": "stderr",
     "output_type": "stream",
     "text": [
      " 63%|██████▎   | 40/63 [1:15:03<59:47, 155.99s/it]"
     ]
    },
    {
     "name": "stdout",
     "output_type": "stream",
     "text": [
      "('embedding', '2023_09')\n",
      "('embedding', '2023_10')\n",
      "('embedding', '2023_11')\n",
      "('embedding', '2023_12')\n",
      "('embedding', '2024_01')\n",
      "('embedding', '2024_02')\n",
      "('embedding', '2024_03')\n",
      "('embedding', '2024_04')\n",
      "('embedding', '2024_05')\n",
      "('embedding', '2024_06')\n",
      "('embedding', '2024_07')\n",
      "('embedding', '2024_08')\n"
     ]
    },
    {
     "name": "stderr",
     "output_type": "stream",
     "text": [
      " 65%|██████▌   | 41/63 [1:16:38<50:29, 137.72s/it]"
     ]
    },
    {
     "name": "stdout",
     "output_type": "stream",
     "text": [
      "('embedding', '2023_09')\n",
      "('embedding', '2023_10')\n",
      "('embedding', '2023_11')\n",
      "('embedding', '2023_12')\n",
      "('embedding', '2024_01')\n",
      "('embedding', '2024_02')\n",
      "('embedding', '2024_03')\n",
      "('embedding', '2024_04')\n",
      "('embedding', '2024_05')\n",
      "('embedding', '2024_06')\n",
      "('embedding', '2024_07')\n",
      "('embedding', '2024_08')\n"
     ]
    },
    {
     "name": "stderr",
     "output_type": "stream",
     "text": [
      " 67%|██████▋   | 42/63 [1:17:54<41:47, 119.40s/it]"
     ]
    },
    {
     "name": "stdout",
     "output_type": "stream",
     "text": [
      "('embedding', '2023_09')\n",
      "('embedding', '2023_10')\n",
      "('embedding', '2023_11')\n",
      "('embedding', '2023_12')\n",
      "('embedding', '2024_01')\n",
      "('embedding', '2024_02')\n",
      "('embedding', '2024_03')\n",
      "('embedding', '2024_04')\n",
      "('embedding', '2024_05')\n",
      "('embedding', '2024_06')\n",
      "('embedding', '2024_07')\n",
      "('embedding', '2024_08')\n"
     ]
    },
    {
     "name": "stderr",
     "output_type": "stream",
     "text": [
      " 68%|██████▊   | 43/63 [1:20:55<45:57, 137.86s/it]"
     ]
    },
    {
     "name": "stdout",
     "output_type": "stream",
     "text": [
      "('embedding', '2023_09')\n",
      "('embedding', '2023_10')\n",
      "('embedding', '2023_11')\n",
      "('embedding', '2023_12')\n",
      "('embedding', '2024_01')\n",
      "('embedding', '2024_02')\n",
      "('embedding', '2024_03')\n",
      "('embedding', '2024_04')\n",
      "('embedding', '2024_05')\n",
      "('embedding', '2024_06')\n",
      "('embedding', '2024_07')\n",
      "('embedding', '2024_08')\n"
     ]
    },
    {
     "name": "stderr",
     "output_type": "stream",
     "text": [
      " 70%|██████▉   | 44/63 [1:21:47<35:26, 111.94s/it]"
     ]
    },
    {
     "name": "stdout",
     "output_type": "stream",
     "text": [
      "('embedding', '2023_09')\n",
      "('embedding', '2023_10')\n",
      "('embedding', '2023_11')\n",
      "('embedding', '2023_12')\n",
      "('embedding', '2024_01')\n",
      "('embedding', '2024_02')\n",
      "('embedding', '2024_03')\n",
      "('embedding', '2024_04')\n",
      "('embedding', '2024_05')\n",
      "('embedding', '2024_06')\n",
      "('embedding', '2024_07')\n",
      "('embedding', '2024_08')\n"
     ]
    },
    {
     "name": "stderr",
     "output_type": "stream",
     "text": [
      " 71%|███████▏  | 45/63 [1:23:03<30:22, 101.23s/it]"
     ]
    },
    {
     "name": "stdout",
     "output_type": "stream",
     "text": [
      "('embedding', '2023_09')\n",
      "('embedding', '2023_10')\n",
      "('embedding', '2023_11')\n",
      "('embedding', '2023_12')\n",
      "('embedding', '2024_01')\n",
      "('embedding', '2024_02')\n",
      "('embedding', '2024_03')\n",
      "('embedding', '2024_04')\n",
      "('embedding', '2024_05')\n",
      "('embedding', '2024_06')\n",
      "('embedding', '2024_07')\n",
      "('embedding', '2024_08')\n"
     ]
    },
    {
     "name": "stderr",
     "output_type": "stream",
     "text": [
      " 73%|███████▎  | 46/63 [1:26:23<37:04, 130.88s/it]"
     ]
    },
    {
     "name": "stdout",
     "output_type": "stream",
     "text": [
      "('embedding', '2023_09')\n",
      "('embedding', '2023_10')\n",
      "('embedding', '2023_11')\n",
      "('embedding', '2023_12')\n",
      "('embedding', '2024_01')\n",
      "('embedding', '2024_02')\n",
      "('embedding', '2024_03')\n",
      "('embedding', '2024_04')\n",
      "('embedding', '2024_05')\n",
      "('embedding', '2024_06')\n",
      "('embedding', '2024_07')\n",
      "('embedding', '2024_08')\n"
     ]
    },
    {
     "name": "stderr",
     "output_type": "stream",
     "text": [
      " 75%|███████▍  | 47/63 [1:26:40<25:45, 96.62s/it] "
     ]
    },
    {
     "name": "stdout",
     "output_type": "stream",
     "text": [
      "('embedding', '2023_09')\n",
      "('embedding', '2023_10')\n",
      "('embedding', '2023_11')\n",
      "('embedding', '2023_12')\n",
      "('embedding', '2024_01')\n",
      "('embedding', '2024_02')\n",
      "('embedding', '2024_03')\n",
      "('embedding', '2024_04')\n",
      "('embedding', '2024_05')\n",
      "('embedding', '2024_06')\n",
      "('embedding', '2024_07')\n",
      "('embedding', '2024_08')\n"
     ]
    },
    {
     "name": "stderr",
     "output_type": "stream",
     "text": [
      " 76%|███████▌  | 48/63 [1:29:09<28:05, 112.34s/it]"
     ]
    },
    {
     "name": "stdout",
     "output_type": "stream",
     "text": [
      "('embedding', '2023_09')\n",
      "('embedding', '2023_10')\n",
      "('embedding', '2023_11')\n",
      "('embedding', '2023_12')\n",
      "('embedding', '2024_01')\n",
      "('embedding', '2024_02')\n",
      "('embedding', '2024_03')\n",
      "('embedding', '2024_04')\n",
      "('embedding', '2024_05')\n",
      "('embedding', '2024_06')\n",
      "('embedding', '2024_07')\n",
      "('embedding', '2024_08')\n"
     ]
    },
    {
     "name": "stderr",
     "output_type": "stream",
     "text": [
      " 78%|███████▊  | 49/63 [1:31:39<28:49, 123.56s/it]"
     ]
    },
    {
     "name": "stdout",
     "output_type": "stream",
     "text": [
      "('embedding', '2023_09')\n",
      "('embedding', '2023_10')\n",
      "('embedding', '2023_11')\n",
      "('embedding', '2023_12')\n",
      "('embedding', '2024_01')\n",
      "('embedding', '2024_02')\n",
      "('embedding', '2024_03')\n",
      "('embedding', '2024_04')\n",
      "('embedding', '2024_05')\n",
      "('embedding', '2024_06')\n",
      "('embedding', '2024_07')\n",
      "('embedding', '2024_08')\n"
     ]
    },
    {
     "name": "stderr",
     "output_type": "stream",
     "text": [
      " 79%|███████▉  | 50/63 [1:33:38<26:28, 122.17s/it]"
     ]
    },
    {
     "name": "stdout",
     "output_type": "stream",
     "text": [
      "('embedding', '2023_09')\n",
      "('embedding', '2023_10')\n",
      "('embedding', '2023_11')\n",
      "('embedding', '2023_12')\n",
      "('embedding', '2024_01')\n",
      "('embedding', '2024_02')\n",
      "('embedding', '2024_03')\n",
      "('embedding', '2024_04')\n",
      "('embedding', '2024_05')\n",
      "('embedding', '2024_06')\n",
      "('embedding', '2024_07')\n",
      "('embedding', '2024_08')\n"
     ]
    },
    {
     "name": "stderr",
     "output_type": "stream",
     "text": [
      " 81%|████████  | 51/63 [1:34:48<21:19, 106.59s/it]"
     ]
    },
    {
     "name": "stdout",
     "output_type": "stream",
     "text": [
      "('embedding', '2023_09')\n",
      "('embedding', '2023_10')\n",
      "('embedding', '2023_11')\n",
      "('embedding', '2023_12')\n",
      "('embedding', '2024_01')\n",
      "('embedding', '2024_02')\n",
      "('embedding', '2024_03')\n",
      "('embedding', '2024_04')\n",
      "('embedding', '2024_05')\n",
      "('embedding', '2024_06')\n",
      "('embedding', '2024_07')\n",
      "('embedding', '2024_08')\n"
     ]
    },
    {
     "name": "stderr",
     "output_type": "stream",
     "text": [
      " 83%|████████▎ | 52/63 [1:35:48<16:59, 92.65s/it] "
     ]
    },
    {
     "name": "stdout",
     "output_type": "stream",
     "text": [
      "('embedding', '2023_09')\n",
      "('embedding', '2023_10')\n",
      "('embedding', '2023_11')\n",
      "('embedding', '2023_12')\n",
      "('embedding', '2024_01')\n",
      "('embedding', '2024_02')\n",
      "('embedding', '2024_03')\n",
      "('embedding', '2024_04')\n",
      "('embedding', '2024_05')\n",
      "('embedding', '2024_06')\n",
      "('embedding', '2024_07')\n",
      "('embedding', '2024_08')\n"
     ]
    },
    {
     "name": "stderr",
     "output_type": "stream",
     "text": [
      " 84%|████████▍ | 53/63 [1:38:47<19:45, 118.58s/it]"
     ]
    },
    {
     "name": "stdout",
     "output_type": "stream",
     "text": [
      "('embedding', '2023_09')\n",
      "('embedding', '2023_10')\n",
      "('embedding', '2023_11')\n",
      "('embedding', '2023_12')\n",
      "('embedding', '2024_01')\n",
      "('embedding', '2024_02')\n",
      "('embedding', '2024_03')\n",
      "('embedding', '2024_04')\n",
      "('embedding', '2024_05')\n",
      "('embedding', '2024_06')\n",
      "('embedding', '2024_07')\n",
      "('embedding', '2024_08')\n"
     ]
    },
    {
     "name": "stderr",
     "output_type": "stream",
     "text": [
      " 86%|████████▌ | 54/63 [1:39:15<13:43, 91.48s/it] "
     ]
    },
    {
     "name": "stdout",
     "output_type": "stream",
     "text": [
      "('embedding', '2023_09')\n",
      "('embedding', '2023_10')\n",
      "('embedding', '2023_11')\n",
      "('embedding', '2023_12')\n",
      "('embedding', '2024_01')\n",
      "('embedding', '2024_02')\n",
      "('embedding', '2024_03')\n",
      "('embedding', '2024_04')\n",
      "('embedding', '2024_05')\n",
      "('embedding', '2024_06')\n",
      "('embedding', '2024_07')\n",
      "('embedding', '2024_08')\n"
     ]
    },
    {
     "name": "stderr",
     "output_type": "stream",
     "text": [
      " 87%|████████▋ | 55/63 [1:40:10<10:44, 80.58s/it]"
     ]
    },
    {
     "name": "stdout",
     "output_type": "stream",
     "text": [
      "('embedding', '2023_09')\n",
      "('embedding', '2023_10')\n",
      "('embedding', '2023_11')\n",
      "('embedding', '2023_12')\n",
      "('embedding', '2024_01')\n",
      "('embedding', '2024_02')\n",
      "('embedding', '2024_03')\n",
      "('embedding', '2024_04')\n",
      "('embedding', '2024_05')\n",
      "('embedding', '2024_06')\n",
      "('embedding', '2024_07')\n",
      "('embedding', '2024_08')\n"
     ]
    },
    {
     "name": "stderr",
     "output_type": "stream",
     "text": [
      " 89%|████████▉ | 56/63 [1:40:38<07:33, 64.80s/it]"
     ]
    },
    {
     "name": "stdout",
     "output_type": "stream",
     "text": [
      "('embedding', '2023_09')\n",
      "('embedding', '2023_10')\n",
      "('embedding', '2023_11')\n",
      "('embedding', '2023_12')\n",
      "('embedding', '2024_01')\n",
      "('embedding', '2024_02')\n",
      "('embedding', '2024_03')\n",
      "('embedding', '2024_04')\n",
      "('embedding', '2024_05')\n",
      "('embedding', '2024_06')\n",
      "('embedding', '2024_07')\n",
      "('embedding', '2024_08')\n"
     ]
    },
    {
     "name": "stderr",
     "output_type": "stream",
     "text": [
      " 90%|█████████ | 57/63 [1:41:27<06:00, 60.00s/it]"
     ]
    },
    {
     "name": "stdout",
     "output_type": "stream",
     "text": [
      "('embedding', '2023_09')\n",
      "('embedding', '2023_10')\n",
      "('embedding', '2023_11')\n",
      "('embedding', '2023_12')\n",
      "('embedding', '2024_01')\n",
      "('embedding', '2024_02')\n",
      "('embedding', '2024_03')\n",
      "('embedding', '2024_04')\n",
      "('embedding', '2024_05')\n",
      "('embedding', '2024_06')\n",
      "('embedding', '2024_07')\n",
      "('embedding', '2024_08')\n"
     ]
    },
    {
     "name": "stderr",
     "output_type": "stream",
     "text": [
      " 92%|█████████▏| 58/63 [1:42:42<05:22, 64.48s/it]"
     ]
    },
    {
     "name": "stdout",
     "output_type": "stream",
     "text": [
      "('embedding', '2023_09')\n",
      "('embedding', '2023_10')\n",
      "('embedding', '2023_11')\n",
      "('embedding', '2023_12')\n",
      "('embedding', '2024_01')\n",
      "('embedding', '2024_02')\n",
      "('embedding', '2024_03')\n",
      "('embedding', '2024_04')\n",
      "('embedding', '2024_05')\n",
      "('embedding', '2024_06')\n",
      "('embedding', '2024_07')\n",
      "('embedding', '2024_08')\n"
     ]
    },
    {
     "name": "stderr",
     "output_type": "stream",
     "text": [
      " 94%|█████████▎| 59/63 [1:44:07<04:42, 70.70s/it]"
     ]
    },
    {
     "name": "stdout",
     "output_type": "stream",
     "text": [
      "('embedding', '2023_09')\n",
      "('embedding', '2023_10')\n",
      "('embedding', '2023_11')\n",
      "('embedding', '2023_12')\n",
      "('embedding', '2024_01')\n",
      "('embedding', '2024_02')\n",
      "('embedding', '2024_03')\n",
      "('embedding', '2024_04')\n",
      "('embedding', '2024_05')\n",
      "('embedding', '2024_06')\n",
      "('embedding', '2024_07')\n",
      "('embedding', '2024_08')\n"
     ]
    },
    {
     "name": "stderr",
     "output_type": "stream",
     "text": [
      " 95%|█████████▌| 60/63 [1:45:50<04:01, 80.39s/it]"
     ]
    },
    {
     "name": "stdout",
     "output_type": "stream",
     "text": [
      "('embedding', '2023_09')\n",
      "('embedding', '2023_10')\n",
      "('embedding', '2023_11')\n",
      "('embedding', '2023_12')\n",
      "('embedding', '2024_01')\n",
      "('embedding', '2024_02')\n",
      "('embedding', '2024_03')\n",
      "('embedding', '2024_04')\n",
      "('embedding', '2024_05')\n",
      "('embedding', '2024_06')\n",
      "('embedding', '2024_07')\n",
      "('embedding', '2024_08')\n"
     ]
    },
    {
     "name": "stderr",
     "output_type": "stream",
     "text": [
      " 97%|█████████▋| 61/63 [1:47:19<02:45, 83.00s/it]"
     ]
    },
    {
     "name": "stdout",
     "output_type": "stream",
     "text": [
      "('embedding', '2023_09')\n",
      "('embedding', '2023_10')\n",
      "('embedding', '2023_11')\n",
      "('embedding', '2023_12')\n",
      "('embedding', '2024_01')\n",
      "('embedding', '2024_02')\n",
      "('embedding', '2024_03')\n",
      "('embedding', '2024_04')\n",
      "('embedding', '2024_05')\n",
      "('embedding', '2024_06')\n",
      "('embedding', '2024_07')\n",
      "('embedding', '2024_08')\n"
     ]
    },
    {
     "name": "stderr",
     "output_type": "stream",
     "text": [
      " 98%|█████████▊| 62/63 [1:48:33<01:20, 80.08s/it]"
     ]
    },
    {
     "name": "stdout",
     "output_type": "stream",
     "text": [
      "('embedding', '2023_09')\n",
      "('embedding', '2023_10')\n",
      "('embedding', '2023_11')\n",
      "('embedding', '2023_12')\n",
      "('embedding', '2024_01')\n",
      "('embedding', '2024_02')\n",
      "('embedding', '2024_03')\n",
      "('embedding', '2024_04')\n",
      "('embedding', '2024_05')\n",
      "('embedding', '2024_06')\n",
      "('embedding', '2024_07')\n",
      "('embedding', '2024_08')\n"
     ]
    },
    {
     "name": "stderr",
     "output_type": "stream",
     "text": [
      "100%|██████████| 63/63 [1:49:02<00:00, 103.84s/it]\n"
     ]
    }
   ],
   "source": [
    "import pandas as pd\n",
    "import joblib\n",
    "from google.cloud import storage\n",
    "import os\n",
    "import numpy as np\n",
    "from tqdm import tqdm\n",
    "\n",
    "\n",
    "storage_client = storage.Client()\n",
    "bucket = storage_client.bucket('demeter-labs')\n",
    "blob = bucket.blob('tea/models/planet_year_v0.joblib')\n",
    "blob.download_to_filename('planet_year_v0.joblib')\n",
    "\n",
    "model = joblib.load('planet_year_v0.joblib')\n",
    "os.remove('planet_year_v0.joblib')\n",
    "\n",
    "def process_planet_embeddings(parquet_uri, output_dir):\n",
    "    # Load and pivot embeddings\n",
    "    embeddings_df = pd.read_parquet(parquet_uri)\n",
    "    pivot_embeddings = embeddings_df.pivot_table(\n",
    "        index='id', columns='time_period', values=['embedding'])\n",
    "    del embeddings_df\n",
    "    \n",
    "    pivot_embeddings = pivot_embeddings.dropna()\n",
    "    feature_cols = [col for col in pivot_embeddings.columns if 'embedding' in col]\n",
    "    list_of_arrays = []\n",
    "    for col in feature_cols:\n",
    "        print(col)\n",
    "        list_of_arrays.append(np.stack(pivot_embeddings[col].values))\n",
    "    all_arrays = np.hstack(list_of_arrays)\n",
    "    del list_of_arrays\n",
    "    \n",
    "    # Create column names and DataFrame\n",
    "    new_column_names = [f\"{col[0]}_{col[1]}_{i}\" for col in pivot_embeddings.columns for i in range(len(pivot_embeddings.iloc[0, 0]))]\n",
    "    expanded_df_np = pd.DataFrame(all_arrays, columns=new_column_names)\n",
    "    del all_arrays\n",
    "    \n",
    "    # Make probability predictions\n",
    "    probabilities = model.predict_proba(expanded_df_np)\n",
    "    del expanded_df_np\n",
    "    \n",
    "    # Create results dataframe with just id and probability\n",
    "    results_df = pd.DataFrame({\n",
    "        'id': pivot_embeddings.reset_index()['id'],\n",
    "        'probability': probabilities[:, 1]\n",
    "    })\n",
    "    del pivot_embeddings\n",
    "    del probabilities\n",
    "    \n",
    "    # Save predictions\n",
    "    output_filename = os.path.basename(parquet_uri).replace('.parquet', '_predictions.parquet')\n",
    "    output_path = os.path.join(output_dir, output_filename)\n",
    "    results_df.to_parquet(output_path)\n",
    "    del results_df\n",
    "\n",
    "\n",
    "# List files in GCS bucket\n",
    "blobs = list(bucket.list_blobs(prefix='tea/planet_embeddings/'))\n",
    "parquet_files = [f\"gs://demeter-labs/{blob.name}\" for blob in blobs if blob.name.endswith('.parquet')]\n",
    "\n",
    "# Process each parquet file\n",
    "output_dir = '/home/christopher.x.ren/planet_classifier_output'\n",
    "os.makedirs(output_dir, exist_ok=True)\n",
    "\n",
    "for parquet_file in tqdm(parquet_files):\n",
    "    process_planet_embeddings(parquet_file, output_dir)\n"
   ]
  },
  {
   "cell_type": "code",
   "execution_count": 2,
   "metadata": {},
   "outputs": [],
   "source": [
    "import glob\n",
    "from joblib import Parallel, delayed\n",
    "\n",
    "def process_prediction_file(file_path):\n",
    "    df = pd.read_parquet(file_path)\n",
    "    return df[df['probability'] > 0.5]\n",
    "\n",
    "output_files = glob.glob(os.path.join(output_dir, '*_predictions.parquet'))\n",
    "\n",
    "filtered_dfs = Parallel(n_jobs=-1)(\n",
    "    delayed(process_prediction_file)(file_path) for file_path in output_files\n",
    ")\n",
    "\n",
    "final_results = pd.concat(filtered_dfs, ignore_index=True)\n",
    "tiles = pd.read_parquet(\"/home/christopher.x.ren/embeddings/ra_tea/planet_embeddings_v2/ps_monthly_sen2_normalized_analytic_8b_sr_subscription_2023_09_mosaic.parquet\")\n"
   ]
  },
  {
   "cell_type": "code",
   "execution_count": 4,
   "metadata": {},
   "outputs": [
    {
     "data": {
      "text/plain": [
       "<Axes: >"
      ]
     },
     "execution_count": 4,
     "metadata": {},
     "output_type": "execute_result"
    },
    {
     "data": {
      "image/png": "[encoded data removed]",
      "text/plain": [
       "<Figure size 640x480 with 1 Axes>"
      ]
     },
     "metadata": {},
     "output_type": "display_data"
    }
   ],
   "source": [
    "final_results['probability'].hist()"
   ]
  },
  {
   "cell_type": "code",
   "execution_count": 8,
   "metadata": {},
   "outputs": [],
   "source": [
    "import geopandas as gpd\n",
    "tiles = gpd.read_parquet(\n",
    "    \"/home/christopher.x.ren/embeddings/ra_tea/planet_embeddings_v2/ps_monthly_sen2_normalized_analytic_8b_sr_subscription_2023_09_mosaic.parquet\",\n",
    "    columns=['id', 'geometry'])\n"
   ]
  },
  {
   "cell_type": "code",
   "execution_count": 9,
   "metadata": {},
   "outputs": [],
   "source": [
    "geom_results = final_results.merge(tiles, on='id', how='left')\n"
   ]
  },
  {
   "cell_type": "code",
   "execution_count": 11,
   "metadata": {},
   "outputs": [],
   "source": [
    "geom_results = geom_results.drop(columns=['geometry_x'])"
   ]
  },
  {
   "cell_type": "code",
   "execution_count": 14,
   "metadata": {},
   "outputs": [],
   "source": [
    "gpd.GeoDataFrame(geom_results).to_parquet(\n",
    "    \"gs://demeter-labs/tea/detections/planet_tile_classifier_dataset_v2_java-sumatra_80m_predictions.parquet\")"
   ]
  },
  {
   "cell_type": "code",
   "execution_count": 17,
   "metadata": {},
   "outputs": [
    {
     "data": {
      "text/html": [
       "<div>\n",
       "<style scoped>\n",
       "    .dataframe tbody tr th:only-of-type {\n",
       "        vertical-align: middle;\n",
       "    }\n",
       "\n",
       "    .dataframe tbody tr th {\n",
       "        vertical-align: top;\n",
       "    }\n",
       "\n",
       "    .dataframe thead th {\n",
       "        text-align: right;\n",
       "    }\n",
       "</style>\n",
       "<table border=\"1\" class=\"dataframe\">\n",
       "  <thead>\n",
       "    <tr style=\"text-align: right;\">\n",
       "      <th></th>\n",
       "      <th>id</th>\n",
       "      <th>probability</th>\n",
       "      <th>geometry_y</th>\n",
       "    </tr>\n",
       "  </thead>\n",
       "  <tbody>\n",
       "    <tr>\n",
       "      <th>0</th>\n",
       "      <td>qpz79bs7xww</td>\n",
       "      <td>0.791550</td>\n",
       "      <td>POLYGON ((100.27695 -0.78907, 100.27982 -0.789...</td>\n",
       "    </tr>\n",
       "    <tr>\n",
       "      <th>1</th>\n",
       "      <td>qpz7btfw8ng</td>\n",
       "      <td>0.789098</td>\n",
       "      <td>POLYGON ((100.21929 -0.71577, 100.22216 -0.715...</td>\n",
       "    </tr>\n",
       "    <tr>\n",
       "      <th>2</th>\n",
       "      <td>qpz7kyzcjej</td>\n",
       "      <td>0.681851</td>\n",
       "      <td>POLYGON ((100.4135 -0.79913, 100.41638 -0.7991...</td>\n",
       "    </tr>\n",
       "    <tr>\n",
       "      <th>3</th>\n",
       "      <td>qpzduq619ex</td>\n",
       "      <td>0.711286</td>\n",
       "      <td>POLYGON ((100.73503 -0.88968, 100.7379 -0.8896...</td>\n",
       "    </tr>\n",
       "    <tr>\n",
       "      <th>4</th>\n",
       "      <td>qpzeh1nvtq8</td>\n",
       "      <td>0.631432</td>\n",
       "      <td>POLYGON ((100.73071 -0.87387, 100.73359 -0.873...</td>\n",
       "    </tr>\n",
       "    <tr>\n",
       "      <th>...</th>\n",
       "      <td>...</td>\n",
       "      <td>...</td>\n",
       "      <td>...</td>\n",
       "    </tr>\n",
       "    <tr>\n",
       "      <th>26140</th>\n",
       "      <td>w0qdph5jvsy</td>\n",
       "      <td>0.575861</td>\n",
       "      <td>POLYGON ((99.45117 1.77936, 99.45404 1.77936, ...</td>\n",
       "    </tr>\n",
       "    <tr>\n",
       "      <th>26141</th>\n",
       "      <td>w0qdph7y20w</td>\n",
       "      <td>0.697337</td>\n",
       "      <td>POLYGON ((99.45196 1.7808, 99.45484 1.7808, 99...</td>\n",
       "    </tr>\n",
       "    <tr>\n",
       "      <th>26142</th>\n",
       "      <td>w0qdphdwwsw</td>\n",
       "      <td>0.513523</td>\n",
       "      <td>POLYGON ((99.45052 1.78224, 99.4534 1.78224, 9...</td>\n",
       "    </tr>\n",
       "    <tr>\n",
       "      <th>26143</th>\n",
       "      <td>w0qdphjmbsy</td>\n",
       "      <td>0.611731</td>\n",
       "      <td>POLYGON ((99.45404 1.77936, 99.45692 1.77936, ...</td>\n",
       "    </tr>\n",
       "    <tr>\n",
       "      <th>26144</th>\n",
       "      <td>w0qfnrygheb</td>\n",
       "      <td>0.553393</td>\n",
       "      <td>POLYGON ((99.77487 1.79948, 99.77775 1.79948, ...</td>\n",
       "    </tr>\n",
       "  </tbody>\n",
       "</table>\n",
       "<p>26145 rows × 3 columns</p>\n",
       "</div>"
      ],
      "text/plain": [
       "                id  probability  \\\n",
       "0      qpz79bs7xww     0.791550   \n",
       "1      qpz7btfw8ng     0.789098   \n",
       "2      qpz7kyzcjej     0.681851   \n",
       "3      qpzduq619ex     0.711286   \n",
       "4      qpzeh1nvtq8     0.631432   \n",
       "...            ...          ...   \n",
       "26140  w0qdph5jvsy     0.575861   \n",
       "26141  w0qdph7y20w     0.697337   \n",
       "26142  w0qdphdwwsw     0.513523   \n",
       "26143  w0qdphjmbsy     0.611731   \n",
       "26144  w0qfnrygheb     0.553393   \n",
       "\n",
       "                                              geometry_y  \n",
       "0      POLYGON ((100.27695 -0.78907, 100.27982 -0.789...  \n",
       "1      POLYGON ((100.21929 -0.71577, 100.22216 -0.715...  \n",
       "2      POLYGON ((100.4135 -0.79913, 100.41638 -0.7991...  \n",
       "3      POLYGON ((100.73503 -0.88968, 100.7379 -0.8896...  \n",
       "4      POLYGON ((100.73071 -0.87387, 100.73359 -0.873...  \n",
       "...                                                  ...  \n",
       "26140  POLYGON ((99.45117 1.77936, 99.45404 1.77936, ...  \n",
       "26141  POLYGON ((99.45196 1.7808, 99.45484 1.7808, 99...  \n",
       "26142  POLYGON ((99.45052 1.78224, 99.4534 1.78224, 9...  \n",
       "26143  POLYGON ((99.45404 1.77936, 99.45692 1.77936, ...  \n",
       "26144  POLYGON ((99.77487 1.79948, 99.77775 1.79948, ...  \n",
       "\n",
       "[26145 rows x 3 columns]"
      ]
     },
     "execution_count": 17,
     "metadata": {},
     "output_type": "execute_result"
    }
   ],
   "source": [
    "results_gdf"
   ]
  },
  {
   "cell_type": "code",
   "execution_count": 19,
   "metadata": {},
   "outputs": [
    {
     "name": "stderr",
     "output_type": "stream",
     "text": [
      "/tmp/ipykernel_823752/4064980446.py:2: DeprecationWarning: The 'unary_union' attribute is deprecated, use the 'union_all()' method instead.\n",
      "  dissolved = gpd.GeoDataFrame(geometry=[results_gdf.unary_union], crs=results_gdf.crs)\n"
     ]
    }
   ],
   "source": [
    "results_gdf = gpd.GeoDataFrame(geom_results.rename(columns={'geometry_y': 'geometry'}))\n",
    "dissolved = gpd.GeoDataFrame(geometry=[results_gdf.unary_union], crs=results_gdf.crs)\n",
    "dissolved.to_parquet(\n",
    "    \"gs://demeter-labs/tea/detections/planet_tile_classifier_dataset_v2_java-sumatra_80m_predictions_union.geoparquet\")"
   ]
  },
  {
   "cell_type": "code",
   "execution_count": 20,
   "metadata": {},
   "outputs": [
    {
     "data": {
      "text/html": [
       "<div>\n",
       "<style scoped>\n",
       "    .dataframe tbody tr th:only-of-type {\n",
       "        vertical-align: middle;\n",
       "    }\n",
       "\n",
       "    .dataframe tbody tr th {\n",
       "        vertical-align: top;\n",
       "    }\n",
       "\n",
       "    .dataframe thead th {\n",
       "        text-align: right;\n",
       "    }\n",
       "</style>\n",
       "<table border=\"1\" class=\"dataframe\">\n",
       "  <thead>\n",
       "    <tr style=\"text-align: right;\">\n",
       "      <th></th>\n",
       "      <th>geometry</th>\n",
       "    </tr>\n",
       "  </thead>\n",
       "  <tbody>\n",
       "    <tr>\n",
       "      <th>0</th>\n",
       "      <td>MULTIPOLYGON (((97.76847 2.6791, 97.76703 2.67...</td>\n",
       "    </tr>\n",
       "  </tbody>\n",
       "</table>\n",
       "</div>"
      ],
      "text/plain": [
       "                                            geometry\n",
       "0  MULTIPOLYGON (((97.76847 2.6791, 97.76703 2.67..."
      ]
     },
     "execution_count": 20,
     "metadata": {},
     "output_type": "execute_result"
    }
   ],
   "source": [
    "dissolved"
   ]
  },
  {
   "cell_type": "code",
   "execution_count": null,
   "metadata": {},
   "outputs": [],
   "source": []
  }
 ],
 "metadata": {
  "kernelspec": {
   "display_name": "ei-nb-v2",
   "language": "python",
   "name": "python3"
  },
  "language_info": {
   "codemirror_mode": {
    "name": "ipython",
    "version": 3
   },
   "file_extension": ".py",
   "mimetype": "text/x-python",
   "name": "python",
   "nbconvert_exporter": "python",
   "pygments_lexer": "ipython3",
   "version": "3.12.7"
  }
 },
 "nbformat": 4,
 "nbformat_minor": 2
}
