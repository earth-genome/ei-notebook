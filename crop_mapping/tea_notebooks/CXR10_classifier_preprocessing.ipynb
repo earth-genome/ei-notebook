{
 "cells": [
  {
   "cell_type": "code",
   "execution_count": 1,
   "metadata": {},
   "outputs": [
    {
     "name": "stderr",
     "output_type": "stream",
     "text": [
      "/home/christopher.x.ren/miniforge3/envs/ei-nb-v2/lib/python3.12/site-packages/geopandas/array.py:403: UserWarning: Geometry is in a geographic CRS. Results from 'sjoin_nearest' are likely incorrect. Use 'GeoSeries.to_crs()' to re-project geometries to a projected CRS before this operation.\n",
      "\n",
      "  warnings.warn(\n"
     ]
    }
   ],
   "source": [
    "import geopandas as gpd\n",
    "import pandas as pd\n",
    "pos_gdf = gpd.read_parquet(\"/home/christopher.x.ren/datasets/ra_tea/pos_gdf_v1_java_2024-11-08.parquet\")\n",
    "neg_ei_gdf = gpd.read_parquet(\"/home/christopher.x.ren/datasets/ra_tea/neg_gdf_v1_java_2024-11-08.parquet\")\n",
    "neg_lulc_gdf = gpd.read_parquet(\"/home/christopher.x.ren/datasets/ra_tea/java_neg_water_built_tree_rangeland_samples_10090.parquet\").drop(columns=['remapped'], errors='ignore')\n",
    "centroid_gdf = gpd.read_parquet(\"/home/christopher.x.ren/embeddings/ra_tea/centroid_gdf.parquet\")\n",
    "# Spatial join to get tile_ids for each point in neg_lulc_gdf\n",
    "neg_lulc_with_tiles = gpd.sjoin_nearest(neg_lulc_gdf, centroid_gdf, how='left')\n",
    "\n",
    "neg_ei_gdf['class'] = 'ei_neg'\n",
    "neg_ei_gdf['label'] = 0\n",
    "neg_lulc_with_tiles['label'] = 0\n",
    "\n",
    "full_neg_gdf = pd.concat([neg_ei_gdf, neg_lulc_with_tiles.drop(columns=['index_right'])])\n",
    "pos_gdf['class'] = 'ei_pos'\n",
    "pos_gdf['label'] = 1\n",
    "full_pos_gdf = pos_gdf\n",
    "\n",
    "full_gdf = pd.concat([full_neg_gdf, full_pos_gdf]).drop_duplicates(subset=['tile_id'])\n",
    "full_gdf.to_parquet(\"/home/christopher.x.ren/datasets/ra_tea/tile_classifier_dataset_v1_java_2024-11-10.parquet\")"
   ]
  },
  {
   "cell_type": "code",
   "execution_count": 2,
   "metadata": {},
   "outputs": [
    {
     "data": {
      "application/vnd.jupyter.widget-view+json": {
       "model_id": "cdb56f2ec86447a680fa80f939f228a7",
       "version_major": 2,
       "version_minor": 0
      },
      "text/plain": [
       "FloatProgress(value=0.0, layout=Layout(width='auto'), style=ProgressStyle(bar_color='black'))"
      ]
     },
     "metadata": {},
     "output_type": "display_data"
    }
   ],
   "source": [
    "import duckdb\n",
    "conn = duckdb.connect('/home/christopher.x.ren/embeddings/ra_tea/embeddings.db')\n",
    "tile_ids = tuple(full_gdf.tile_id.unique())\n",
    "embeddings_df = conn.execute(f\"\"\"\n",
    "    SELECT *\n",
    "    FROM embeddings \n",
    "    WHERE tile_id IN {tile_ids}\n",
    "\"\"\").df()\n",
    "embeddings_df\n",
    "full_df_embeddings = gpd.GeoDataFrame(embeddings_df.merge(full_gdf[['tile_id', 'label', 'geometry', 'class']], on='tile_id', how='inner'), geometry='geometry')\n",
    "full_df_embeddings = full_df_embeddings.drop(columns=['row_number'])\n",
    "full_df_embeddings.to_parquet(\"/home/christopher.x.ren/datasets/ra_tea/tile_classifier_dataset_v1_java_2024-11-10_embeddings.parquet\")\n"
   ]
  },
  {
   "cell_type": "code",
   "execution_count": null,
   "metadata": {},
   "outputs": [],
   "source": []
  }
 ],
 "metadata": {
  "kernelspec": {
   "display_name": "ei-nb-v2",
   "language": "python",
   "name": "ei-nb-v2"
  },
  "language_info": {
   "codemirror_mode": {
    "name": "ipython",
    "version": 3
   },
   "file_extension": ".py",
   "mimetype": "text/x-python",
   "name": "python",
   "nbconvert_exporter": "python",
   "pygments_lexer": "ipython3",
   "version": "3.12.7"
  }
 },
 "nbformat": 4,
 "nbformat_minor": 2
}
