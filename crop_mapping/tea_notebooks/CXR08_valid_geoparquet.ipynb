{
 "cells": [
  {
   "cell_type": "code",
   "execution_count": 4,
   "metadata": {},
   "outputs": [
    {
     "name": "stderr",
     "output_type": "stream",
     "text": [
      "100%|██████████| 63/63 [00:31<00:00,  2.02it/s]\n"
     ]
    }
   ],
   "source": [
    "import geopandas as gpd\n",
    "import duckdb\n",
    "import os\n",
    "from tqdm import tqdm\n",
    "\n",
    "local_tile_dir = \"/home/christopher.x.ren/embeddings/ra_tea/tiles\"\n",
    "valid_tile_dir = \"/home/christopher.x.ren/embeddings/ra_tea/valid_tiles\"\n",
    "\n",
    "# Create valid_tiles directory if it doesn't exist\n",
    "os.makedirs(valid_tile_dir, exist_ok=True)\n",
    "\n",
    "# Get all parquet files\n",
    "parquet_files = [os.path.join(local_tile_dir, f) for f in os.listdir(local_tile_dir) if f.endswith('.parquet')]\n",
    "\n",
    "# Read and resave each parquet file\n",
    "for parquet_file in tqdm(parquet_files):\n",
    "    gdf = gpd.read_parquet(parquet_file)\n",
    "    output_file = os.path.join(valid_tile_dir, os.path.basename(parquet_file))\n",
    "    gdf.to_parquet(output_file)"
   ]
  },
  {
   "cell_type": "markdown",
   "metadata": {},
   "source": [
    "## Create duckdb table of tiles, index on geometry and tile_id"
   ]
  },
  {
   "cell_type": "code",
   "execution_count": 8,
   "metadata": {},
   "outputs": [
    {
     "data": {
      "application/vnd.jupyter.widget-view+json": {
       "model_id": "84deb5d9ab134043a027cb35a6c2ceed",
       "version_major": 2,
       "version_minor": 0
      },
      "text/plain": [
       "FloatProgress(value=0.0, layout=Layout(width='auto'), style=ProgressStyle(bar_color='black'))"
      ]
     },
     "metadata": {},
     "output_type": "display_data"
    },
    {
     "data": {
      "application/vnd.jupyter.widget-view+json": {
       "model_id": "63d84b3caa2148929ec7ec087bb374db",
       "version_major": 2,
       "version_minor": 0
      },
      "text/plain": [
       "FloatProgress(value=0.0, layout=Layout(width='auto'), style=ProgressStyle(bar_color='black'))"
      ]
     },
     "metadata": {},
     "output_type": "display_data"
    },
    {
     "name": "stdout",
     "output_type": "stream",
     "text": [
      "Closest tile to (37.7749, -122.4194): 47NLC_32_16_10_44_0\n"
     ]
    }
   ],
   "source": [
    "# Create DuckDB connection\n",
    "con = duckdb.connect()\n",
    "\n",
    "# Register spatial extension\n",
    "con.execute(\"INSTALL spatial;\")\n",
    "con.execute(\"LOAD spatial;\")\n",
    "\n",
    "# Create table from parquet files\n",
    "con.execute(f\"\"\"\n",
    "CREATE TABLE tiles AS \n",
    "SELECT * FROM parquet_scan('{valid_tile_dir}/*.parquet')\n",
    "\"\"\")\n",
    "\n",
    "# Create indexes\n",
    "con.execute(\"CREATE INDEX tile_id_idx ON tiles(tile_id)\")\n",
    "con.execute(\"CREATE INDEX geometry_idx ON tiles(geometry)\")\n",
    "\n",
    "def get_closest_tile(lat: float, lon: float) -> str:\n",
    "    # Create point from lat/lon\n",
    "    query = f\"\"\"\n",
    "    WITH point AS (\n",
    "        SELECT ST_Point({lon}, {lat}) as geom\n",
    "    )\n",
    "    SELECT tile_id, ST_Distance(geometry, point.geom) as dist \n",
    "    FROM tiles, point\n",
    "    ORDER BY dist ASC\n",
    "    LIMIT 1;\n",
    "    \"\"\"\n",
    "    result = con.execute(query).fetchone()\n",
    "    return result[0]\n",
    "\n",
    "# Example usage\n",
    "test_lat, test_lon = 37.7749, -122.4194  # San Francisco coordinates\n",
    "closest_tile = get_closest_tile(test_lat, test_lon)\n",
    "print(f\"Closest tile to ({test_lat}, {test_lon}): {closest_tile}\")\n"
   ]
  },
  {
   "cell_type": "markdown",
   "metadata": {},
   "source": [
    "## try joining with embeddings database"
   ]
  },
  {
   "cell_type": "code",
   "execution_count": 16,
   "metadata": {},
   "outputs": [
    {
     "data": {
      "application/vnd.jupyter.widget-view+json": {
       "model_id": "dafa1557930a4925865d662f9d57cd79",
       "version_major": 2,
       "version_minor": 0
      },
      "text/plain": [
       "FloatProgress(value=0.0, layout=Layout(width='auto'), style=ProgressStyle(bar_color='black'))"
      ]
     },
     "metadata": {},
     "output_type": "display_data"
    },
    {
     "ename": "BinderException",
     "evalue": "Binder Error: Referenced column \"embedding\" not found in FROM clause!\nCandidate bindings: \"point.geom\", \"tiles_with_embeddings.geometry\"\nLINE 5:     SELECT tile_id, embedding, ST_Distance(geometry, point.geom) as dist\n    FROM tiles_with_embeddings, point \n    ORDER BY dist ASC\n    LIMIT 1;\n    ...\n                            ^",
     "output_type": "error",
     "traceback": [
      "\u001b[0;31m---------------------------------------------------------------------------\u001b[0m",
      "\u001b[0;31mBinderException\u001b[0m                           Traceback (most recent call last)",
      "Cell \u001b[0;32mIn[16], line 32\u001b[0m\n\u001b[1;32m     30\u001b[0m \u001b[38;5;66;03m# Example usage \u001b[39;00m\n\u001b[1;32m     31\u001b[0m test_lat, test_lon \u001b[38;5;241m=\u001b[39m \u001b[38;5;241m37.7749\u001b[39m, \u001b[38;5;241m-\u001b[39m\u001b[38;5;241m122.4194\u001b[39m  \u001b[38;5;66;03m# San Francisco coordinates\u001b[39;00m\n\u001b[0;32m---> 32\u001b[0m closest_tile_id, embedding \u001b[38;5;241m=\u001b[39m \u001b[43mget_closest_tile_embedding\u001b[49m\u001b[43m(\u001b[49m\u001b[43mtest_lat\u001b[49m\u001b[43m,\u001b[49m\u001b[43m \u001b[49m\u001b[43mtest_lon\u001b[49m\u001b[43m)\u001b[49m\n\u001b[1;32m     33\u001b[0m \u001b[38;5;28mprint\u001b[39m(\u001b[38;5;124mf\u001b[39m\u001b[38;5;124m\"\u001b[39m\u001b[38;5;124mClosest tile to (\u001b[39m\u001b[38;5;132;01m{\u001b[39;00mtest_lat\u001b[38;5;132;01m}\u001b[39;00m\u001b[38;5;124m, \u001b[39m\u001b[38;5;132;01m{\u001b[39;00mtest_lon\u001b[38;5;132;01m}\u001b[39;00m\u001b[38;5;124m): \u001b[39m\u001b[38;5;132;01m{\u001b[39;00mclosest_tile_id\u001b[38;5;132;01m}\u001b[39;00m\u001b[38;5;124m\"\u001b[39m)\n\u001b[1;32m     34\u001b[0m \u001b[38;5;28mprint\u001b[39m(\u001b[38;5;124mf\u001b[39m\u001b[38;5;124m\"\u001b[39m\u001b[38;5;124mEmbedding shape: \u001b[39m\u001b[38;5;132;01m{\u001b[39;00m\u001b[38;5;28mlen\u001b[39m(embedding)\u001b[38;5;132;01m}\u001b[39;00m\u001b[38;5;124m\"\u001b[39m)\n",
      "Cell \u001b[0;32mIn[16], line 27\u001b[0m, in \u001b[0;36mget_closest_tile_embedding\u001b[0;34m(lat, lon)\u001b[0m\n\u001b[1;32m     16\u001b[0m \u001b[38;5;28;01mdef\u001b[39;00m \u001b[38;5;21mget_closest_tile_embedding\u001b[39m(lat: \u001b[38;5;28mfloat\u001b[39m, lon: \u001b[38;5;28mfloat\u001b[39m):\n\u001b[1;32m     17\u001b[0m     \u001b[38;5;66;03m# Create point from lat/lon\u001b[39;00m\n\u001b[1;32m     18\u001b[0m     query \u001b[38;5;241m=\u001b[39m \u001b[38;5;124mf\u001b[39m\u001b[38;5;124m\"\"\"\u001b[39m\n\u001b[1;32m     19\u001b[0m \u001b[38;5;124m    WITH point AS (\u001b[39m\n\u001b[1;32m     20\u001b[0m \u001b[38;5;124m        SELECT ST_Point(\u001b[39m\u001b[38;5;132;01m{\u001b[39;00mlon\u001b[38;5;132;01m}\u001b[39;00m\u001b[38;5;124m, \u001b[39m\u001b[38;5;132;01m{\u001b[39;00mlat\u001b[38;5;132;01m}\u001b[39;00m\u001b[38;5;124m) as geom\u001b[39m\n\u001b[0;32m   (...)\u001b[0m\n\u001b[1;32m     25\u001b[0m \u001b[38;5;124m    LIMIT 1;\u001b[39m\n\u001b[1;32m     26\u001b[0m \u001b[38;5;124m    \u001b[39m\u001b[38;5;124m\"\"\"\u001b[39m\n\u001b[0;32m---> 27\u001b[0m     result \u001b[38;5;241m=\u001b[39m \u001b[43mcon\u001b[49m\u001b[38;5;241;43m.\u001b[39;49m\u001b[43mexecute\u001b[49m\u001b[43m(\u001b[49m\u001b[43mquery\u001b[49m\u001b[43m)\u001b[49m\u001b[38;5;241m.\u001b[39mfetchone()\n\u001b[1;32m     28\u001b[0m     \u001b[38;5;28;01mreturn\u001b[39;00m result[\u001b[38;5;241m0\u001b[39m], result[\u001b[38;5;241m1\u001b[39m]\n",
      "\u001b[0;31mBinderException\u001b[0m: Binder Error: Referenced column \"embedding\" not found in FROM clause!\nCandidate bindings: \"point.geom\", \"tiles_with_embeddings.geometry\"\nLINE 5:     SELECT tile_id, embedding, ST_Distance(geometry, point.geom) as dist\n    FROM tiles_with_embeddings, point \n    ORDER BY dist ASC\n    LIMIT 1;\n    ...\n                            ^"
     ]
    }
   ],
   "source": [
    "# Connect to embeddings database\n",
    "embeddings_db = \"/home/christopher.x.ren/embeddings/ra_tea/embeddings.db\"\n",
    "embeddings_con = duckdb.connect(embeddings_db)\n",
    "embeddings_con.execute(\"INSTALL spatial;\")\n",
    "embeddings_con.execute(\"LOAD spatial;\")\n",
    "# Attach embeddings database to main connection\n",
    "#con.execute(f\"ATTACH '{embeddings_db}' AS embeddings\")\n",
    "\n",
    "# Join tiles with embeddings\n",
    "con.execute(\"\"\"\n",
    "    CREATE TABLE tiles_with_embeddings AS\n",
    "    SELECT t.*, e.*\n",
    "    FROM tiles t\n",
    "    LEFT JOIN embeddings.embeddings e ON t.tile_id = e.tile_id\n",
    "\"\"\")\n"
   ]
  },
  {
   "cell_type": "code",
   "execution_count": 18,
   "metadata": {},
   "outputs": [
    {
     "ename": "NameError",
     "evalue": "name 'closest_tile_id' is not defined",
     "output_type": "error",
     "traceback": [
      "\u001b[0;31m---------------------------------------------------------------------------\u001b[0m",
      "\u001b[0;31mNameError\u001b[0m                                 Traceback (most recent call last)",
      "Cell \u001b[0;32mIn[18], line 18\u001b[0m\n\u001b[1;32m     16\u001b[0m test_lat, test_lon \u001b[38;5;241m=\u001b[39m \u001b[38;5;241m37.7749\u001b[39m, \u001b[38;5;241m-\u001b[39m\u001b[38;5;241m122.4194\u001b[39m  \u001b[38;5;66;03m# San Francisco coordinates\u001b[39;00m\n\u001b[1;32m     17\u001b[0m embedding \u001b[38;5;241m=\u001b[39m get_closest_tile_embedding(test_lat, test_lon)\n\u001b[0;32m---> 18\u001b[0m \u001b[38;5;28mprint\u001b[39m(\u001b[38;5;124mf\u001b[39m\u001b[38;5;124m\"\u001b[39m\u001b[38;5;124mClosest tile to (\u001b[39m\u001b[38;5;132;01m{\u001b[39;00mtest_lat\u001b[38;5;132;01m}\u001b[39;00m\u001b[38;5;124m, \u001b[39m\u001b[38;5;132;01m{\u001b[39;00mtest_lon\u001b[38;5;132;01m}\u001b[39;00m\u001b[38;5;124m): \u001b[39m\u001b[38;5;132;01m{\u001b[39;00m\u001b[43mclosest_tile_id\u001b[49m\u001b[38;5;132;01m}\u001b[39;00m\u001b[38;5;124m\"\u001b[39m)\n\u001b[1;32m     19\u001b[0m \u001b[38;5;28mprint\u001b[39m(\u001b[38;5;124mf\u001b[39m\u001b[38;5;124m\"\u001b[39m\u001b[38;5;124mEmbedding shape: \u001b[39m\u001b[38;5;132;01m{\u001b[39;00m\u001b[38;5;28mlen\u001b[39m(embedding)\u001b[38;5;132;01m}\u001b[39;00m\u001b[38;5;124m\"\u001b[39m)\n",
      "\u001b[0;31mNameError\u001b[0m: name 'closest_tile_id' is not defined"
     ]
    }
   ],
   "source": [
    "\n",
    "def get_closest_tile_embedding(lat: float, lon: float):\n",
    "    # Create point from lat/lon\n",
    "    query = f\"\"\"\n",
    "    WITH point AS (\n",
    "        SELECT ST_Point({lon}, {lat}) as geom\n",
    "    )\n",
    "    SELECT *\n",
    "    FROM tiles_with_embeddings, point \n",
    "    ORDER BY ST_Distance(geometry, point.geom) ASC\n",
    "    LIMIT 1;\n",
    "    \"\"\"\n",
    "    result = con.execute(query).fetchone()\n",
    "    return result\n",
    "\n",
    "# Example usage \n",
    "test_lat, test_lon = 37.7749, -122.4194  # San Francisco coordinates\n",
    "embedding = get_closest_tile_embedding(test_lat, test_lon)\n",
    "print(f\"Closest tile to ({test_lat}, {test_lon}): {closest_tile_id}\")\n",
    "print(f\"Embedding shape: {len(embedding)}\")\n"
   ]
  },
  {
   "cell_type": "code",
   "execution_count": 22,
   "metadata": {},
   "outputs": [
    {
     "data": {
      "text/plain": [
       "b'\\x02\\x04\\x00\\x00\\x00\\x00\\x00\\x00Rg\\x92HL\\x83QHS\\x8f\\x92HM\\xd3QH\\x02\\x00\\x00\\x00\\x01\\x00\\x00\\x00\\x05\\x00\\x00\\x00\\x00\\x00\\x00\\x006\\xfaAO\\xeaQ\\x12A\\x8a\\x95h\\x81i:\\nA6\\xfaAO\\xeaQ\\x12A\\x8a\\x95h\\x81i0\\nA6\\xfaAO\\xeaL\\x12A\\x8a\\x95h\\x81i0\\nA6\\xfaAO\\xeaL\\x12A\\x8a\\x95h\\x81i:\\nA6\\xfaAO\\xeaQ\\x12A\\x8a\\x95h\\x81i:\\nA'"
      ]
     },
     "execution_count": 22,
     "metadata": {},
     "output_type": "execute_result"
    }
   ],
   "source": [
    "embedding[0]"
   ]
  },
  {
   "cell_type": "code",
   "execution_count": 15,
   "metadata": {},
   "outputs": [
    {
     "name": "stdout",
     "output_type": "stream",
     "text": [
      "Tables:\n",
      "[('embeddings',)]\n",
      "\n",
      "Columns:\n",
      "\n",
      "embeddings:\n",
      "[('vit-dino-patch16_0', 'DOUBLE', 'YES', None, None, None), ('vit-dino-patch16_1', 'DOUBLE', 'YES', None, None, None), ('vit-dino-patch16_2', 'DOUBLE', 'YES', None, None, None), ('vit-dino-patch16_3', 'DOUBLE', 'YES', None, None, None), ('vit-dino-patch16_4', 'DOUBLE', 'YES', None, None, None), ('vit-dino-patch16_5', 'DOUBLE', 'YES', None, None, None), ('vit-dino-patch16_6', 'DOUBLE', 'YES', None, None, None), ('vit-dino-patch16_7', 'DOUBLE', 'YES', None, None, None), ('vit-dino-patch16_8', 'DOUBLE', 'YES', None, None, None), ('vit-dino-patch16_9', 'DOUBLE', 'YES', None, None, None), ('vit-dino-patch16_10', 'DOUBLE', 'YES', None, None, None), ('vit-dino-patch16_11', 'DOUBLE', 'YES', None, None, None), ('vit-dino-patch16_12', 'DOUBLE', 'YES', None, None, None), ('vit-dino-patch16_13', 'DOUBLE', 'YES', None, None, None), ('vit-dino-patch16_14', 'DOUBLE', 'YES', None, None, None), ('vit-dino-patch16_15', 'DOUBLE', 'YES', None, None, None), ('vit-dino-patch16_16', 'DOUBLE', 'YES', None, None, None), ('vit-dino-patch16_17', 'DOUBLE', 'YES', None, None, None), ('vit-dino-patch16_18', 'DOUBLE', 'YES', None, None, None), ('vit-dino-patch16_19', 'DOUBLE', 'YES', None, None, None), ('vit-dino-patch16_20', 'DOUBLE', 'YES', None, None, None), ('vit-dino-patch16_21', 'DOUBLE', 'YES', None, None, None), ('vit-dino-patch16_22', 'DOUBLE', 'YES', None, None, None), ('vit-dino-patch16_23', 'DOUBLE', 'YES', None, None, None), ('vit-dino-patch16_24', 'DOUBLE', 'YES', None, None, None), ('vit-dino-patch16_25', 'DOUBLE', 'YES', None, None, None), ('vit-dino-patch16_26', 'DOUBLE', 'YES', None, None, None), ('vit-dino-patch16_27', 'DOUBLE', 'YES', None, None, None), ('vit-dino-patch16_28', 'DOUBLE', 'YES', None, None, None), ('vit-dino-patch16_29', 'DOUBLE', 'YES', None, None, None), ('vit-dino-patch16_30', 'DOUBLE', 'YES', None, None, None), ('vit-dino-patch16_31', 'DOUBLE', 'YES', None, None, None), ('vit-dino-patch16_32', 'DOUBLE', 'YES', None, None, None), ('vit-dino-patch16_33', 'DOUBLE', 'YES', None, None, None), ('vit-dino-patch16_34', 'DOUBLE', 'YES', None, None, None), ('vit-dino-patch16_35', 'DOUBLE', 'YES', None, None, None), ('vit-dino-patch16_36', 'DOUBLE', 'YES', None, None, None), ('vit-dino-patch16_37', 'DOUBLE', 'YES', None, None, None), ('vit-dino-patch16_38', 'DOUBLE', 'YES', None, None, None), ('vit-dino-patch16_39', 'DOUBLE', 'YES', None, None, None), ('vit-dino-patch16_40', 'DOUBLE', 'YES', None, None, None), ('vit-dino-patch16_41', 'DOUBLE', 'YES', None, None, None), ('vit-dino-patch16_42', 'DOUBLE', 'YES', None, None, None), ('vit-dino-patch16_43', 'DOUBLE', 'YES', None, None, None), ('vit-dino-patch16_44', 'DOUBLE', 'YES', None, None, None), ('vit-dino-patch16_45', 'DOUBLE', 'YES', None, None, None), ('vit-dino-patch16_46', 'DOUBLE', 'YES', None, None, None), ('vit-dino-patch16_47', 'DOUBLE', 'YES', None, None, None), ('vit-dino-patch16_48', 'DOUBLE', 'YES', None, None, None), ('vit-dino-patch16_49', 'DOUBLE', 'YES', None, None, None), ('vit-dino-patch16_50', 'DOUBLE', 'YES', None, None, None), ('vit-dino-patch16_51', 'DOUBLE', 'YES', None, None, None), ('vit-dino-patch16_52', 'DOUBLE', 'YES', None, None, None), ('vit-dino-patch16_53', 'DOUBLE', 'YES', None, None, None), ('vit-dino-patch16_54', 'DOUBLE', 'YES', None, None, None), ('vit-dino-patch16_55', 'DOUBLE', 'YES', None, None, None), ('vit-dino-patch16_56', 'DOUBLE', 'YES', None, None, None), ('vit-dino-patch16_57', 'DOUBLE', 'YES', None, None, None), ('vit-dino-patch16_58', 'DOUBLE', 'YES', None, None, None), ('vit-dino-patch16_59', 'DOUBLE', 'YES', None, None, None), ('vit-dino-patch16_60', 'DOUBLE', 'YES', None, None, None), ('vit-dino-patch16_61', 'DOUBLE', 'YES', None, None, None), ('vit-dino-patch16_62', 'DOUBLE', 'YES', None, None, None), ('vit-dino-patch16_63', 'DOUBLE', 'YES', None, None, None), ('vit-dino-patch16_64', 'DOUBLE', 'YES', None, None, None), ('vit-dino-patch16_65', 'DOUBLE', 'YES', None, None, None), ('vit-dino-patch16_66', 'DOUBLE', 'YES', None, None, None), ('vit-dino-patch16_67', 'DOUBLE', 'YES', None, None, None), ('vit-dino-patch16_68', 'DOUBLE', 'YES', None, None, None), ('vit-dino-patch16_69', 'DOUBLE', 'YES', None, None, None), ('vit-dino-patch16_70', 'DOUBLE', 'YES', None, None, None), ('vit-dino-patch16_71', 'DOUBLE', 'YES', None, None, None), ('vit-dino-patch16_72', 'DOUBLE', 'YES', None, None, None), ('vit-dino-patch16_73', 'DOUBLE', 'YES', None, None, None), ('vit-dino-patch16_74', 'DOUBLE', 'YES', None, None, None), ('vit-dino-patch16_75', 'DOUBLE', 'YES', None, None, None), ('vit-dino-patch16_76', 'DOUBLE', 'YES', None, None, None), ('vit-dino-patch16_77', 'DOUBLE', 'YES', None, None, None), ('vit-dino-patch16_78', 'DOUBLE', 'YES', None, None, None), ('vit-dino-patch16_79', 'DOUBLE', 'YES', None, None, None), ('vit-dino-patch16_80', 'DOUBLE', 'YES', None, None, None), ('vit-dino-patch16_81', 'DOUBLE', 'YES', None, None, None), ('vit-dino-patch16_82', 'DOUBLE', 'YES', None, None, None), ('vit-dino-patch16_83', 'DOUBLE', 'YES', None, None, None), ('vit-dino-patch16_84', 'DOUBLE', 'YES', None, None, None), ('vit-dino-patch16_85', 'DOUBLE', 'YES', None, None, None), ('vit-dino-patch16_86', 'DOUBLE', 'YES', None, None, None), ('vit-dino-patch16_87', 'DOUBLE', 'YES', None, None, None), ('vit-dino-patch16_88', 'DOUBLE', 'YES', None, None, None), ('vit-dino-patch16_89', 'DOUBLE', 'YES', None, None, None), ('vit-dino-patch16_90', 'DOUBLE', 'YES', None, None, None), ('vit-dino-patch16_91', 'DOUBLE', 'YES', None, None, None), ('vit-dino-patch16_92', 'DOUBLE', 'YES', None, None, None), ('vit-dino-patch16_93', 'DOUBLE', 'YES', None, None, None), ('vit-dino-patch16_94', 'DOUBLE', 'YES', None, None, None), ('vit-dino-patch16_95', 'DOUBLE', 'YES', None, None, None), ('vit-dino-patch16_96', 'DOUBLE', 'YES', None, None, None), ('vit-dino-patch16_97', 'DOUBLE', 'YES', None, None, None), ('vit-dino-patch16_98', 'DOUBLE', 'YES', None, None, None), ('vit-dino-patch16_99', 'DOUBLE', 'YES', None, None, None), ('vit-dino-patch16_100', 'DOUBLE', 'YES', None, None, None), ('vit-dino-patch16_101', 'DOUBLE', 'YES', None, None, None), ('vit-dino-patch16_102', 'DOUBLE', 'YES', None, None, None), ('vit-dino-patch16_103', 'DOUBLE', 'YES', None, None, None), ('vit-dino-patch16_104', 'DOUBLE', 'YES', None, None, None), ('vit-dino-patch16_105', 'DOUBLE', 'YES', None, None, None), ('vit-dino-patch16_106', 'DOUBLE', 'YES', None, None, None), ('vit-dino-patch16_107', 'DOUBLE', 'YES', None, None, None), ('vit-dino-patch16_108', 'DOUBLE', 'YES', None, None, None), ('vit-dino-patch16_109', 'DOUBLE', 'YES', None, None, None), ('vit-dino-patch16_110', 'DOUBLE', 'YES', None, None, None), ('vit-dino-patch16_111', 'DOUBLE', 'YES', None, None, None), ('vit-dino-patch16_112', 'DOUBLE', 'YES', None, None, None), ('vit-dino-patch16_113', 'DOUBLE', 'YES', None, None, None), ('vit-dino-patch16_114', 'DOUBLE', 'YES', None, None, None), ('vit-dino-patch16_115', 'DOUBLE', 'YES', None, None, None), ('vit-dino-patch16_116', 'DOUBLE', 'YES', None, None, None), ('vit-dino-patch16_117', 'DOUBLE', 'YES', None, None, None), ('vit-dino-patch16_118', 'DOUBLE', 'YES', None, None, None), ('vit-dino-patch16_119', 'DOUBLE', 'YES', None, None, None), ('vit-dino-patch16_120', 'DOUBLE', 'YES', None, None, None), ('vit-dino-patch16_121', 'DOUBLE', 'YES', None, None, None), ('vit-dino-patch16_122', 'DOUBLE', 'YES', None, None, None), ('vit-dino-patch16_123', 'DOUBLE', 'YES', None, None, None), ('vit-dino-patch16_124', 'DOUBLE', 'YES', None, None, None), ('vit-dino-patch16_125', 'DOUBLE', 'YES', None, None, None), ('vit-dino-patch16_126', 'DOUBLE', 'YES', None, None, None), ('vit-dino-patch16_127', 'DOUBLE', 'YES', None, None, None), ('vit-dino-patch16_128', 'DOUBLE', 'YES', None, None, None), ('vit-dino-patch16_129', 'DOUBLE', 'YES', None, None, None), ('vit-dino-patch16_130', 'DOUBLE', 'YES', None, None, None), ('vit-dino-patch16_131', 'DOUBLE', 'YES', None, None, None), ('vit-dino-patch16_132', 'DOUBLE', 'YES', None, None, None), ('vit-dino-patch16_133', 'DOUBLE', 'YES', None, None, None), ('vit-dino-patch16_134', 'DOUBLE', 'YES', None, None, None), ('vit-dino-patch16_135', 'DOUBLE', 'YES', None, None, None), ('vit-dino-patch16_136', 'DOUBLE', 'YES', None, None, None), ('vit-dino-patch16_137', 'DOUBLE', 'YES', None, None, None), ('vit-dino-patch16_138', 'DOUBLE', 'YES', None, None, None), ('vit-dino-patch16_139', 'DOUBLE', 'YES', None, None, None), ('vit-dino-patch16_140', 'DOUBLE', 'YES', None, None, None), ('vit-dino-patch16_141', 'DOUBLE', 'YES', None, None, None), ('vit-dino-patch16_142', 'DOUBLE', 'YES', None, None, None), ('vit-dino-patch16_143', 'DOUBLE', 'YES', None, None, None), ('vit-dino-patch16_144', 'DOUBLE', 'YES', None, None, None), ('vit-dino-patch16_145', 'DOUBLE', 'YES', None, None, None), ('vit-dino-patch16_146', 'DOUBLE', 'YES', None, None, None), ('vit-dino-patch16_147', 'DOUBLE', 'YES', None, None, None), ('vit-dino-patch16_148', 'DOUBLE', 'YES', None, None, None), ('vit-dino-patch16_149', 'DOUBLE', 'YES', None, None, None), ('vit-dino-patch16_150', 'DOUBLE', 'YES', None, None, None), ('vit-dino-patch16_151', 'DOUBLE', 'YES', None, None, None), ('vit-dino-patch16_152', 'DOUBLE', 'YES', None, None, None), ('vit-dino-patch16_153', 'DOUBLE', 'YES', None, None, None), ('vit-dino-patch16_154', 'DOUBLE', 'YES', None, None, None), ('vit-dino-patch16_155', 'DOUBLE', 'YES', None, None, None), ('vit-dino-patch16_156', 'DOUBLE', 'YES', None, None, None), ('vit-dino-patch16_157', 'DOUBLE', 'YES', None, None, None), ('vit-dino-patch16_158', 'DOUBLE', 'YES', None, None, None), ('vit-dino-patch16_159', 'DOUBLE', 'YES', None, None, None), ('vit-dino-patch16_160', 'DOUBLE', 'YES', None, None, None), ('vit-dino-patch16_161', 'DOUBLE', 'YES', None, None, None), ('vit-dino-patch16_162', 'DOUBLE', 'YES', None, None, None), ('vit-dino-patch16_163', 'DOUBLE', 'YES', None, None, None), ('vit-dino-patch16_164', 'DOUBLE', 'YES', None, None, None), ('vit-dino-patch16_165', 'DOUBLE', 'YES', None, None, None), ('vit-dino-patch16_166', 'DOUBLE', 'YES', None, None, None), ('vit-dino-patch16_167', 'DOUBLE', 'YES', None, None, None), ('vit-dino-patch16_168', 'DOUBLE', 'YES', None, None, None), ('vit-dino-patch16_169', 'DOUBLE', 'YES', None, None, None), ('vit-dino-patch16_170', 'DOUBLE', 'YES', None, None, None), ('vit-dino-patch16_171', 'DOUBLE', 'YES', None, None, None), ('vit-dino-patch16_172', 'DOUBLE', 'YES', None, None, None), ('vit-dino-patch16_173', 'DOUBLE', 'YES', None, None, None), ('vit-dino-patch16_174', 'DOUBLE', 'YES', None, None, None), ('vit-dino-patch16_175', 'DOUBLE', 'YES', None, None, None), ('vit-dino-patch16_176', 'DOUBLE', 'YES', None, None, None), ('vit-dino-patch16_177', 'DOUBLE', 'YES', None, None, None), ('vit-dino-patch16_178', 'DOUBLE', 'YES', None, None, None), ('vit-dino-patch16_179', 'DOUBLE', 'YES', None, None, None), ('vit-dino-patch16_180', 'DOUBLE', 'YES', None, None, None), ('vit-dino-patch16_181', 'DOUBLE', 'YES', None, None, None), ('vit-dino-patch16_182', 'DOUBLE', 'YES', None, None, None), ('vit-dino-patch16_183', 'DOUBLE', 'YES', None, None, None), ('vit-dino-patch16_184', 'DOUBLE', 'YES', None, None, None), ('vit-dino-patch16_185', 'DOUBLE', 'YES', None, None, None), ('vit-dino-patch16_186', 'DOUBLE', 'YES', None, None, None), ('vit-dino-patch16_187', 'DOUBLE', 'YES', None, None, None), ('vit-dino-patch16_188', 'DOUBLE', 'YES', None, None, None), ('vit-dino-patch16_189', 'DOUBLE', 'YES', None, None, None), ('vit-dino-patch16_190', 'DOUBLE', 'YES', None, None, None), ('vit-dino-patch16_191', 'DOUBLE', 'YES', None, None, None), ('vit-dino-patch16_192', 'DOUBLE', 'YES', None, None, None), ('vit-dino-patch16_193', 'DOUBLE', 'YES', None, None, None), ('vit-dino-patch16_194', 'DOUBLE', 'YES', None, None, None), ('vit-dino-patch16_195', 'DOUBLE', 'YES', None, None, None), ('vit-dino-patch16_196', 'DOUBLE', 'YES', None, None, None), ('vit-dino-patch16_197', 'DOUBLE', 'YES', None, None, None), ('vit-dino-patch16_198', 'DOUBLE', 'YES', None, None, None), ('vit-dino-patch16_199', 'DOUBLE', 'YES', None, None, None), ('vit-dino-patch16_200', 'DOUBLE', 'YES', None, None, None), ('vit-dino-patch16_201', 'DOUBLE', 'YES', None, None, None), ('vit-dino-patch16_202', 'DOUBLE', 'YES', None, None, None), ('vit-dino-patch16_203', 'DOUBLE', 'YES', None, None, None), ('vit-dino-patch16_204', 'DOUBLE', 'YES', None, None, None), ('vit-dino-patch16_205', 'DOUBLE', 'YES', None, None, None), ('vit-dino-patch16_206', 'DOUBLE', 'YES', None, None, None), ('vit-dino-patch16_207', 'DOUBLE', 'YES', None, None, None), ('vit-dino-patch16_208', 'DOUBLE', 'YES', None, None, None), ('vit-dino-patch16_209', 'DOUBLE', 'YES', None, None, None), ('vit-dino-patch16_210', 'DOUBLE', 'YES', None, None, None), ('vit-dino-patch16_211', 'DOUBLE', 'YES', None, None, None), ('vit-dino-patch16_212', 'DOUBLE', 'YES', None, None, None), ('vit-dino-patch16_213', 'DOUBLE', 'YES', None, None, None), ('vit-dino-patch16_214', 'DOUBLE', 'YES', None, None, None), ('vit-dino-patch16_215', 'DOUBLE', 'YES', None, None, None), ('vit-dino-patch16_216', 'DOUBLE', 'YES', None, None, None), ('vit-dino-patch16_217', 'DOUBLE', 'YES', None, None, None), ('vit-dino-patch16_218', 'DOUBLE', 'YES', None, None, None), ('vit-dino-patch16_219', 'DOUBLE', 'YES', None, None, None), ('vit-dino-patch16_220', 'DOUBLE', 'YES', None, None, None), ('vit-dino-patch16_221', 'DOUBLE', 'YES', None, None, None), ('vit-dino-patch16_222', 'DOUBLE', 'YES', None, None, None), ('vit-dino-patch16_223', 'DOUBLE', 'YES', None, None, None), ('vit-dino-patch16_224', 'DOUBLE', 'YES', None, None, None), ('vit-dino-patch16_225', 'DOUBLE', 'YES', None, None, None), ('vit-dino-patch16_226', 'DOUBLE', 'YES', None, None, None), ('vit-dino-patch16_227', 'DOUBLE', 'YES', None, None, None), ('vit-dino-patch16_228', 'DOUBLE', 'YES', None, None, None), ('vit-dino-patch16_229', 'DOUBLE', 'YES', None, None, None), ('vit-dino-patch16_230', 'DOUBLE', 'YES', None, None, None), ('vit-dino-patch16_231', 'DOUBLE', 'YES', None, None, None), ('vit-dino-patch16_232', 'DOUBLE', 'YES', None, None, None), ('vit-dino-patch16_233', 'DOUBLE', 'YES', None, None, None), ('vit-dino-patch16_234', 'DOUBLE', 'YES', None, None, None), ('vit-dino-patch16_235', 'DOUBLE', 'YES', None, None, None), ('vit-dino-patch16_236', 'DOUBLE', 'YES', None, None, None), ('vit-dino-patch16_237', 'DOUBLE', 'YES', None, None, None), ('vit-dino-patch16_238', 'DOUBLE', 'YES', None, None, None), ('vit-dino-patch16_239', 'DOUBLE', 'YES', None, None, None), ('vit-dino-patch16_240', 'DOUBLE', 'YES', None, None, None), ('vit-dino-patch16_241', 'DOUBLE', 'YES', None, None, None), ('vit-dino-patch16_242', 'DOUBLE', 'YES', None, None, None), ('vit-dino-patch16_243', 'DOUBLE', 'YES', None, None, None), ('vit-dino-patch16_244', 'DOUBLE', 'YES', None, None, None), ('vit-dino-patch16_245', 'DOUBLE', 'YES', None, None, None), ('vit-dino-patch16_246', 'DOUBLE', 'YES', None, None, None), ('vit-dino-patch16_247', 'DOUBLE', 'YES', None, None, None), ('vit-dino-patch16_248', 'DOUBLE', 'YES', None, None, None), ('vit-dino-patch16_249', 'DOUBLE', 'YES', None, None, None), ('vit-dino-patch16_250', 'DOUBLE', 'YES', None, None, None), ('vit-dino-patch16_251', 'DOUBLE', 'YES', None, None, None), ('vit-dino-patch16_252', 'DOUBLE', 'YES', None, None, None), ('vit-dino-patch16_253', 'DOUBLE', 'YES', None, None, None), ('vit-dino-patch16_254', 'DOUBLE', 'YES', None, None, None), ('vit-dino-patch16_255', 'DOUBLE', 'YES', None, None, None), ('vit-dino-patch16_256', 'DOUBLE', 'YES', None, None, None), ('vit-dino-patch16_257', 'DOUBLE', 'YES', None, None, None), ('vit-dino-patch16_258', 'DOUBLE', 'YES', None, None, None), ('vit-dino-patch16_259', 'DOUBLE', 'YES', None, None, None), ('vit-dino-patch16_260', 'DOUBLE', 'YES', None, None, None), ('vit-dino-patch16_261', 'DOUBLE', 'YES', None, None, None), ('vit-dino-patch16_262', 'DOUBLE', 'YES', None, None, None), ('vit-dino-patch16_263', 'DOUBLE', 'YES', None, None, None), ('vit-dino-patch16_264', 'DOUBLE', 'YES', None, None, None), ('vit-dino-patch16_265', 'DOUBLE', 'YES', None, None, None), ('vit-dino-patch16_266', 'DOUBLE', 'YES', None, None, None), ('vit-dino-patch16_267', 'DOUBLE', 'YES', None, None, None), ('vit-dino-patch16_268', 'DOUBLE', 'YES', None, None, None), ('vit-dino-patch16_269', 'DOUBLE', 'YES', None, None, None), ('vit-dino-patch16_270', 'DOUBLE', 'YES', None, None, None), ('vit-dino-patch16_271', 'DOUBLE', 'YES', None, None, None), ('vit-dino-patch16_272', 'DOUBLE', 'YES', None, None, None), ('vit-dino-patch16_273', 'DOUBLE', 'YES', None, None, None), ('vit-dino-patch16_274', 'DOUBLE', 'YES', None, None, None), ('vit-dino-patch16_275', 'DOUBLE', 'YES', None, None, None), ('vit-dino-patch16_276', 'DOUBLE', 'YES', None, None, None), ('vit-dino-patch16_277', 'DOUBLE', 'YES', None, None, None), ('vit-dino-patch16_278', 'DOUBLE', 'YES', None, None, None), ('vit-dino-patch16_279', 'DOUBLE', 'YES', None, None, None), ('vit-dino-patch16_280', 'DOUBLE', 'YES', None, None, None), ('vit-dino-patch16_281', 'DOUBLE', 'YES', None, None, None), ('vit-dino-patch16_282', 'DOUBLE', 'YES', None, None, None), ('vit-dino-patch16_283', 'DOUBLE', 'YES', None, None, None), ('vit-dino-patch16_284', 'DOUBLE', 'YES', None, None, None), ('vit-dino-patch16_285', 'DOUBLE', 'YES', None, None, None), ('vit-dino-patch16_286', 'DOUBLE', 'YES', None, None, None), ('vit-dino-patch16_287', 'DOUBLE', 'YES', None, None, None), ('vit-dino-patch16_288', 'DOUBLE', 'YES', None, None, None), ('vit-dino-patch16_289', 'DOUBLE', 'YES', None, None, None), ('vit-dino-patch16_290', 'DOUBLE', 'YES', None, None, None), ('vit-dino-patch16_291', 'DOUBLE', 'YES', None, None, None), ('vit-dino-patch16_292', 'DOUBLE', 'YES', None, None, None), ('vit-dino-patch16_293', 'DOUBLE', 'YES', None, None, None), ('vit-dino-patch16_294', 'DOUBLE', 'YES', None, None, None), ('vit-dino-patch16_295', 'DOUBLE', 'YES', None, None, None), ('vit-dino-patch16_296', 'DOUBLE', 'YES', None, None, None), ('vit-dino-patch16_297', 'DOUBLE', 'YES', None, None, None), ('vit-dino-patch16_298', 'DOUBLE', 'YES', None, None, None), ('vit-dino-patch16_299', 'DOUBLE', 'YES', None, None, None), ('vit-dino-patch16_300', 'DOUBLE', 'YES', None, None, None), ('vit-dino-patch16_301', 'DOUBLE', 'YES', None, None, None), ('vit-dino-patch16_302', 'DOUBLE', 'YES', None, None, None), ('vit-dino-patch16_303', 'DOUBLE', 'YES', None, None, None), ('vit-dino-patch16_304', 'DOUBLE', 'YES', None, None, None), ('vit-dino-patch16_305', 'DOUBLE', 'YES', None, None, None), ('vit-dino-patch16_306', 'DOUBLE', 'YES', None, None, None), ('vit-dino-patch16_307', 'DOUBLE', 'YES', None, None, None), ('vit-dino-patch16_308', 'DOUBLE', 'YES', None, None, None), ('vit-dino-patch16_309', 'DOUBLE', 'YES', None, None, None), ('vit-dino-patch16_310', 'DOUBLE', 'YES', None, None, None), ('vit-dino-patch16_311', 'DOUBLE', 'YES', None, None, None), ('vit-dino-patch16_312', 'DOUBLE', 'YES', None, None, None), ('vit-dino-patch16_313', 'DOUBLE', 'YES', None, None, None), ('vit-dino-patch16_314', 'DOUBLE', 'YES', None, None, None), ('vit-dino-patch16_315', 'DOUBLE', 'YES', None, None, None), ('vit-dino-patch16_316', 'DOUBLE', 'YES', None, None, None), ('vit-dino-patch16_317', 'DOUBLE', 'YES', None, None, None), ('vit-dino-patch16_318', 'DOUBLE', 'YES', None, None, None), ('vit-dino-patch16_319', 'DOUBLE', 'YES', None, None, None), ('vit-dino-patch16_320', 'DOUBLE', 'YES', None, None, None), ('vit-dino-patch16_321', 'DOUBLE', 'YES', None, None, None), ('vit-dino-patch16_322', 'DOUBLE', 'YES', None, None, None), ('vit-dino-patch16_323', 'DOUBLE', 'YES', None, None, None), ('vit-dino-patch16_324', 'DOUBLE', 'YES', None, None, None), ('vit-dino-patch16_325', 'DOUBLE', 'YES', None, None, None), ('vit-dino-patch16_326', 'DOUBLE', 'YES', None, None, None), ('vit-dino-patch16_327', 'DOUBLE', 'YES', None, None, None), ('vit-dino-patch16_328', 'DOUBLE', 'YES', None, None, None), ('vit-dino-patch16_329', 'DOUBLE', 'YES', None, None, None), ('vit-dino-patch16_330', 'DOUBLE', 'YES', None, None, None), ('vit-dino-patch16_331', 'DOUBLE', 'YES', None, None, None), ('vit-dino-patch16_332', 'DOUBLE', 'YES', None, None, None), ('vit-dino-patch16_333', 'DOUBLE', 'YES', None, None, None), ('vit-dino-patch16_334', 'DOUBLE', 'YES', None, None, None), ('vit-dino-patch16_335', 'DOUBLE', 'YES', None, None, None), ('vit-dino-patch16_336', 'DOUBLE', 'YES', None, None, None), ('vit-dino-patch16_337', 'DOUBLE', 'YES', None, None, None), ('vit-dino-patch16_338', 'DOUBLE', 'YES', None, None, None), ('vit-dino-patch16_339', 'DOUBLE', 'YES', None, None, None), ('vit-dino-patch16_340', 'DOUBLE', 'YES', None, None, None), ('vit-dino-patch16_341', 'DOUBLE', 'YES', None, None, None), ('vit-dino-patch16_342', 'DOUBLE', 'YES', None, None, None), ('vit-dino-patch16_343', 'DOUBLE', 'YES', None, None, None), ('vit-dino-patch16_344', 'DOUBLE', 'YES', None, None, None), ('vit-dino-patch16_345', 'DOUBLE', 'YES', None, None, None), ('vit-dino-patch16_346', 'DOUBLE', 'YES', None, None, None), ('vit-dino-patch16_347', 'DOUBLE', 'YES', None, None, None), ('vit-dino-patch16_348', 'DOUBLE', 'YES', None, None, None), ('vit-dino-patch16_349', 'DOUBLE', 'YES', None, None, None), ('vit-dino-patch16_350', 'DOUBLE', 'YES', None, None, None), ('vit-dino-patch16_351', 'DOUBLE', 'YES', None, None, None), ('vit-dino-patch16_352', 'DOUBLE', 'YES', None, None, None), ('vit-dino-patch16_353', 'DOUBLE', 'YES', None, None, None), ('vit-dino-patch16_354', 'DOUBLE', 'YES', None, None, None), ('vit-dino-patch16_355', 'DOUBLE', 'YES', None, None, None), ('vit-dino-patch16_356', 'DOUBLE', 'YES', None, None, None), ('vit-dino-patch16_357', 'DOUBLE', 'YES', None, None, None), ('vit-dino-patch16_358', 'DOUBLE', 'YES', None, None, None), ('vit-dino-patch16_359', 'DOUBLE', 'YES', None, None, None), ('vit-dino-patch16_360', 'DOUBLE', 'YES', None, None, None), ('vit-dino-patch16_361', 'DOUBLE', 'YES', None, None, None), ('vit-dino-patch16_362', 'DOUBLE', 'YES', None, None, None), ('vit-dino-patch16_363', 'DOUBLE', 'YES', None, None, None), ('vit-dino-patch16_364', 'DOUBLE', 'YES', None, None, None), ('vit-dino-patch16_365', 'DOUBLE', 'YES', None, None, None), ('vit-dino-patch16_366', 'DOUBLE', 'YES', None, None, None), ('vit-dino-patch16_367', 'DOUBLE', 'YES', None, None, None), ('vit-dino-patch16_368', 'DOUBLE', 'YES', None, None, None), ('vit-dino-patch16_369', 'DOUBLE', 'YES', None, None, None), ('vit-dino-patch16_370', 'DOUBLE', 'YES', None, None, None), ('vit-dino-patch16_371', 'DOUBLE', 'YES', None, None, None), ('vit-dino-patch16_372', 'DOUBLE', 'YES', None, None, None), ('vit-dino-patch16_373', 'DOUBLE', 'YES', None, None, None), ('vit-dino-patch16_374', 'DOUBLE', 'YES', None, None, None), ('vit-dino-patch16_375', 'DOUBLE', 'YES', None, None, None), ('vit-dino-patch16_376', 'DOUBLE', 'YES', None, None, None), ('vit-dino-patch16_377', 'DOUBLE', 'YES', None, None, None), ('vit-dino-patch16_378', 'DOUBLE', 'YES', None, None, None), ('vit-dino-patch16_379', 'DOUBLE', 'YES', None, None, None), ('vit-dino-patch16_380', 'DOUBLE', 'YES', None, None, None), ('vit-dino-patch16_381', 'DOUBLE', 'YES', None, None, None), ('vit-dino-patch16_382', 'DOUBLE', 'YES', None, None, None), ('vit-dino-patch16_383', 'DOUBLE', 'YES', None, None, None), ('tile_id', 'VARCHAR', 'YES', None, None, None), ('row_number', 'BIGINT', 'YES', None, None, None)]\n"
     ]
    }
   ],
   "source": [
    "# Get table names\n",
    "print(\"Tables:\")\n",
    "print(embeddings_con.execute(\"SHOW TABLES\").fetchall())\n",
    "\n",
    "# Get column names for each table\n",
    "print(\"\\nColumns:\")\n",
    "for table in embeddings_con.execute(\"SHOW TABLES\").fetchall():\n",
    "    table_name = table[0]\n",
    "    print(f\"\\n{table_name}:\")\n",
    "    print(embeddings_con.execute(f\"DESCRIBE {table_name}\").fetchall())"
   ]
  },
  {
   "cell_type": "code",
   "execution_count": null,
   "metadata": {},
   "outputs": [],
   "source": []
  }
 ],
 "metadata": {
  "kernelspec": {
   "display_name": "ei-nb-v2",
   "language": "python",
   "name": "ei-nb-v2"
  },
  "language_info": {
   "codemirror_mode": {
    "name": "ipython",
    "version": 3
   },
   "file_extension": ".py",
   "mimetype": "text/x-python",
   "name": "python",
   "nbconvert_exporter": "python",
   "pygments_lexer": "ipython3",
   "version": "3.13.0"
  }
 },
 "nbformat": 4,
 "nbformat_minor": 2
}
