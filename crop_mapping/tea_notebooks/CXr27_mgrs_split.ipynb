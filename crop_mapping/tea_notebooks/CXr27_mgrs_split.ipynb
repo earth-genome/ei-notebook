{
 "cells": [
  {
   "cell_type": "code",
   "execution_count": 1,
   "metadata": {},
   "outputs": [],
   "source": [
    "import geopandas as gpd\n",
    "from joblib import Parallel, delayed\n",
    "import pandas as pd\n",
    "from pathlib import Path\n",
    "import duckdb\n",
    "import os\n",
    "\n",
    "\n",
    "\n",
    "local_dir = \"/home/christopher.x.ren/embeddings/ra_tea/planet_embeddings_v2\"\n",
    "local_paths = list(Path(local_dir).glob(\"*.parquet\"))\n",
    "mgrs_id_mapping = pd.read_parquet(\"gs://demeter-labs/tea/mgrs_id_mapping_tom_tiles_deduplicated.parquet\")"
   ]
  },
  {
   "cell_type": "markdown",
   "metadata": {},
   "source": [
    "## union parallel"
   ]
  },
  {
   "cell_type": "code",
   "execution_count": 2,
   "metadata": {},
   "outputs": [
    {
     "name": "stderr",
     "output_type": "stream",
     "text": [
      "  0%|          | 0/63 [00:00<?, ?it/s]"
     ]
    },
    {
     "name": "stdout",
     "output_type": "stream",
     "text": [
      "Skipping 47NKF - output already existsSkipping 47NLF - output already exists\n",
      "\n",
      "Skipping 47NLE - output already exists\n",
      "Skipping 47NKE - output already exists\n"
     ]
    },
    {
     "name": "stderr",
     "output_type": "stream",
     "text": [
      "  6%|▋         | 4/63 [00:00<00:01, 29.79it/s]"
     ]
    },
    {
     "name": "stdout",
     "output_type": "stream",
     "text": [
      "Skipping 47NLC - output already exists\n",
      "Skipping 47NMC - output already exists\n",
      "Skipping 47NME - output already exists\n",
      "Skipping 47NMB - output already exists\n",
      "Skipping 47NMD - output already exists\n"
     ]
    },
    {
     "name": "stderr",
     "output_type": "stream",
     "text": [
      " 14%|█▍        | 9/63 [00:00<00:01, 38.45it/s]"
     ]
    },
    {
     "name": "stdout",
     "output_type": "stream",
     "text": [
      "Skipping 47NNB - output already exists\n",
      "Skipping 47NNC - output already exists\n",
      "Skipping 47NND - output already exists\n",
      "Skipping 47NNA - output already exists\n",
      "Skipping 47MPV - output already exists\n",
      "Skipping 47NPA - output already exists\n",
      "Skipping 47NPB - output already exists\n",
      "Skipping 47MPU - output already exists\n",
      "Skipping 47MQU - output already exists\n"
     ]
    },
    {
     "name": "stderr",
     "output_type": "stream",
     "text": [
      " 29%|██▊       | 18/63 [00:00<00:00, 51.99it/s]"
     ]
    },
    {
     "name": "stdout",
     "output_type": "stream",
     "text": [
      "Skipping 47NQA - output already exists\n",
      "Skipping 47NPC - output already exists\n",
      "Skipping 47NLD - output already exists\n",
      "Skipping 47MQV - output already exists\n",
      "Skipping 47NQB - output already exists\n",
      "Skipping 47MQT - output already exists\n",
      "Skipping 47MRT - output already exists\n",
      "Skipping 47MRV - output already exists\n"
     ]
    },
    {
     "name": "stderr",
     "output_type": "stream",
     "text": [
      " 41%|████▏     | 26/63 [00:00<00:00, 58.92it/s]"
     ]
    },
    {
     "name": "stdout",
     "output_type": "stream",
     "text": [
      "Skipping 47MRU - output already exists\n",
      "Skipping 47NRA - output already exists\n",
      "Skipping 48MSB - output already exists\n",
      "Skipping 48MSC - output already exists\n",
      "Skipping 48MSD - output already exists\n",
      "Skipping 48MSE - output already exists\n",
      "Skipping 48MTB - output already exists\n",
      "Skipping 48MTD - output already exists\n",
      "Skipping 48MTC - output already exists\n",
      "Skipping 48MTE - output already exists\n"
     ]
    },
    {
     "name": "stderr",
     "output_type": "stream",
     "text": [
      " 57%|█████▋    | 36/63 [00:00<00:00, 71.13it/s]"
     ]
    },
    {
     "name": "stdout",
     "output_type": "stream",
     "text": [
      "Skipping 47MRS - output already exists\n",
      "Skipping 48MUC - output already exists\n",
      "Skipping 48MUB - output already exists\n",
      "Skipping 48MTA - output already exists\n",
      "Skipping 48MVA - output already exists\n",
      "Skipping 48MVB - output already exists\n",
      "Skipping 48MUA - output already exists\n",
      "Skipping 48MUV - output already exists\n"
     ]
    },
    {
     "data": {
      "application/vnd.jupyter.widget-view+json": {
       "model_id": "7b01cdf55d27408e9f939c56a803c1ce",
       "version_major": 2,
       "version_minor": 0
      },
      "text/plain": [
       "FloatProgress(value=0.0, layout=Layout(width='auto'), style=ProgressStyle(bar_color='black'))"
      ]
     },
     "metadata": {},
     "output_type": "display_data"
    },
    {
     "data": {
      "application/vnd.jupyter.widget-view+json": {
       "model_id": "9e00f74378534b748bff2259ad6775ae",
       "version_major": 2,
       "version_minor": 0
      },
      "text/plain": [
       "FloatProgress(value=0.0, layout=Layout(width='auto'), style=ProgressStyle(bar_color='black'))"
      ]
     },
     "metadata": {},
     "output_type": "display_data"
    },
    {
     "data": {
      "application/vnd.jupyter.widget-view+json": {
       "model_id": "07f0b2b2200944a98bd146e9d4535ec9",
       "version_major": 2,
       "version_minor": 0
      },
      "text/plain": [
       "FloatProgress(value=0.0, layout=Layout(width='auto'), style=ProgressStyle(bar_color='black'))"
      ]
     },
     "metadata": {},
     "output_type": "display_data"
    },
    {
     "name": "stderr",
     "output_type": "stream",
     "text": [
      " 57%|█████▋    | 36/63 [00:19<00:00, 71.13it/s]"
     ]
    },
    {
     "data": {
      "application/vnd.jupyter.widget-view+json": {
       "model_id": "6dd8457b8fae46e1b9be7e72067b7cc6",
       "version_major": 2,
       "version_minor": 0
      },
      "text/plain": [
       "FloatProgress(value=0.0, layout=Layout(width='auto'), style=ProgressStyle(bar_color='black'))"
      ]
     },
     "metadata": {},
     "output_type": "display_data"
    },
    {
     "name": "stderr",
     "output_type": "stream",
     "text": [
      " 71%|███████▏  | 45/63 [13:17<09:37, 32.06s/it]"
     ]
    },
    {
     "data": {
      "application/vnd.jupyter.widget-view+json": {
       "model_id": "e6c0a83fd4db408e84eb088fb07d6c3b",
       "version_major": 2,
       "version_minor": 0
      },
      "text/plain": [
       "FloatProgress(value=0.0, layout=Layout(width='auto'), style=ProgressStyle(bar_color='black'))"
      ]
     },
     "metadata": {},
     "output_type": "display_data"
    },
    {
     "name": "stderr",
     "output_type": "stream",
     "text": [
      " 73%|███████▎  | 46/63 [16:12<11:16, 39.82s/it]"
     ]
    },
    {
     "data": {
      "application/vnd.jupyter.widget-view+json": {
       "model_id": "c60a07c43ed04b35944decdf08a63981",
       "version_major": 2,
       "version_minor": 0
      },
      "text/plain": [
       "FloatProgress(value=0.0, layout=Layout(width='auto'), style=ProgressStyle(bar_color='black'))"
      ]
     },
     "metadata": {},
     "output_type": "display_data"
    },
    {
     "name": "stderr",
     "output_type": "stream",
     "text": [
      " 75%|███████▍  | 47/63 [17:00<10:45, 40.35s/it]"
     ]
    },
    {
     "data": {
      "application/vnd.jupyter.widget-view+json": {
       "model_id": "b37ee993bf8f4730b7d003e3f20c3617",
       "version_major": 2,
       "version_minor": 0
      },
      "text/plain": [
       "FloatProgress(value=0.0, layout=Layout(width='auto'), style=ProgressStyle(bar_color='black'))"
      ]
     },
     "metadata": {},
     "output_type": "display_data"
    },
    {
     "name": "stderr",
     "output_type": "stream",
     "text": [
      " 76%|███████▌  | 48/63 [19:09<12:09, 48.63s/it]"
     ]
    },
    {
     "data": {
      "application/vnd.jupyter.widget-view+json": {
       "model_id": "fb7c9c3eccc5492fb884118f3fea7f14",
       "version_major": 2,
       "version_minor": 0
      },
      "text/plain": [
       "FloatProgress(value=0.0, layout=Layout(width='auto'), style=ProgressStyle(bar_color='black'))"
      ]
     },
     "metadata": {},
     "output_type": "display_data"
    },
    {
     "name": "stderr",
     "output_type": "stream",
     "text": [
      " 78%|███████▊  | 49/63 [23:45<17:35, 75.43s/it]"
     ]
    },
    {
     "data": {
      "application/vnd.jupyter.widget-view+json": {
       "model_id": "1d34b4a2ec0843bca07d9581d25b9ce4",
       "version_major": 2,
       "version_minor": 0
      },
      "text/plain": [
       "FloatProgress(value=0.0, layout=Layout(width='auto'), style=ProgressStyle(bar_color='black'))"
      ]
     },
     "metadata": {},
     "output_type": "display_data"
    },
    {
     "name": "stderr",
     "output_type": "stream",
     "text": [
      " 79%|███████▉  | 50/63 [32:59<31:14, 144.21s/it]"
     ]
    },
    {
     "data": {
      "application/vnd.jupyter.widget-view+json": {
       "model_id": "8fade04e296f47eeb42392087033b2d0",
       "version_major": 2,
       "version_minor": 0
      },
      "text/plain": [
       "FloatProgress(value=0.0, layout=Layout(width='auto'), style=ProgressStyle(bar_color='black'))"
      ]
     },
     "metadata": {},
     "output_type": "display_data"
    },
    {
     "name": "stderr",
     "output_type": "stream",
     "text": [
      " 81%|████████  | 51/63 [35:44<29:32, 147.69s/it]"
     ]
    },
    {
     "data": {
      "application/vnd.jupyter.widget-view+json": {
       "model_id": "8e209585af264b96ae1a57108492fd4d",
       "version_major": 2,
       "version_minor": 0
      },
      "text/plain": [
       "FloatProgress(value=0.0, layout=Layout(width='auto'), style=ProgressStyle(bar_color='black'))"
      ]
     },
     "metadata": {},
     "output_type": "display_data"
    },
    {
     "name": "stderr",
     "output_type": "stream",
     "text": [
      " 83%|████████▎ | 52/63 [37:49<26:16, 143.31s/it]"
     ]
    },
    {
     "data": {
      "application/vnd.jupyter.widget-view+json": {
       "model_id": "9b42143a7f7e4324b0f4f691166b500c",
       "version_major": 2,
       "version_minor": 0
      },
      "text/plain": [
       "FloatProgress(value=0.0, layout=Layout(width='auto'), style=ProgressStyle(bar_color='black'))"
      ]
     },
     "metadata": {},
     "output_type": "display_data"
    },
    {
     "data": {
      "application/vnd.jupyter.widget-view+json": {
       "model_id": "33b9ba560ccc47dfaf9843fc0a6a8b33",
       "version_major": 2,
       "version_minor": 0
      },
      "text/plain": [
       "FloatProgress(value=0.0, layout=Layout(width='auto'), style=ProgressStyle(bar_color='black'))"
      ]
     },
     "metadata": {},
     "output_type": "display_data"
    },
    {
     "name": "stderr",
     "output_type": "stream",
     "text": [
      " 84%|████████▍ | 53/63 [40:48<25:10, 151.02s/it]"
     ]
    },
    {
     "data": {
      "application/vnd.jupyter.widget-view+json": {
       "model_id": "73384a797d8d4585b96c0960d7e4e309",
       "version_major": 2,
       "version_minor": 0
      },
      "text/plain": [
       "FloatProgress(value=0.0, layout=Layout(width='auto'), style=ProgressStyle(bar_color='black'))"
      ]
     },
     "metadata": {},
     "output_type": "display_data"
    },
    {
     "data": {
      "application/vnd.jupyter.widget-view+json": {
       "model_id": "83ebcb1c3fcf4526b4e74a064407f821",
       "version_major": 2,
       "version_minor": 0
      },
      "text/plain": [
       "FloatProgress(value=0.0, layout=Layout(width='auto'), style=ProgressStyle(bar_color='black'))"
      ]
     },
     "metadata": {},
     "output_type": "display_data"
    },
    {
     "name": "stderr",
     "output_type": "stream",
     "text": [
      " 86%|████████▌ | 54/63 [48:13<33:09, 221.11s/it]"
     ]
    },
    {
     "data": {
      "application/vnd.jupyter.widget-view+json": {
       "model_id": "2fb4c4a8dde841629b677f05a8ed4765",
       "version_major": 2,
       "version_minor": 0
      },
      "text/plain": [
       "FloatProgress(value=0.0, layout=Layout(width='auto'), style=ProgressStyle(bar_color='black'))"
      ]
     },
     "metadata": {},
     "output_type": "display_data"
    },
    {
     "data": {
      "application/vnd.jupyter.widget-view+json": {
       "model_id": "8ecbd0007bea4e059665d58e1de6e5e5",
       "version_major": 2,
       "version_minor": 0
      },
      "text/plain": [
       "FloatProgress(value=0.0, layout=Layout(width='auto'), style=ProgressStyle(bar_color='black'))"
      ]
     },
     "metadata": {},
     "output_type": "display_data"
    },
    {
     "name": "stderr",
     "output_type": "stream",
     "text": [
      " 87%|████████▋ | 55/63 [54:37<34:58, 262.34s/it]"
     ]
    },
    {
     "data": {
      "application/vnd.jupyter.widget-view+json": {
       "model_id": "2776c8138b694d9e9a56eb868e3dab03",
       "version_major": 2,
       "version_minor": 0
      },
      "text/plain": [
       "FloatProgress(value=0.0, layout=Layout(width='auto'), style=ProgressStyle(bar_color='black'))"
      ]
     },
     "metadata": {},
     "output_type": "display_data"
    },
    {
     "name": "stderr",
     "output_type": "stream",
     "text": [
      " 89%|████████▉ | 56/63 [57:06<27:05, 232.28s/it]"
     ]
    },
    {
     "data": {
      "application/vnd.jupyter.widget-view+json": {
       "model_id": "cbb4555c50d940b688d8887df1580867",
       "version_major": 2,
       "version_minor": 0
      },
      "text/plain": [
       "FloatProgress(value=0.0, layout=Layout(width='auto'), style=ProgressStyle(bar_color='black'))"
      ]
     },
     "metadata": {},
     "output_type": "display_data"
    },
    {
     "data": {
      "application/vnd.jupyter.widget-view+json": {
       "model_id": "22106d2a2ed24692800c186aec40c167",
       "version_major": 2,
       "version_minor": 0
      },
      "text/plain": [
       "FloatProgress(value=0.0, layout=Layout(width='auto'), style=ProgressStyle(bar_color='black'))"
      ]
     },
     "metadata": {},
     "output_type": "display_data"
    },
    {
     "name": "stderr",
     "output_type": "stream",
     "text": [
      " 90%|█████████ | 57/63 [57:52<18:04, 180.81s/it]"
     ]
    },
    {
     "data": {
      "application/vnd.jupyter.widget-view+json": {
       "model_id": "8c40bef146014d1199c34600c47d179c",
       "version_major": 2,
       "version_minor": 0
      },
      "text/plain": [
       "FloatProgress(value=0.0, layout=Layout(width='auto'), style=ProgressStyle(bar_color='black'))"
      ]
     },
     "metadata": {},
     "output_type": "display_data"
    },
    {
     "name": "stderr",
     "output_type": "stream",
     "text": [
      " 92%|█████████▏| 58/63 [1:07:44<24:44, 296.97s/it]"
     ]
    },
    {
     "data": {
      "application/vnd.jupyter.widget-view+json": {
       "model_id": "f818c68a9435417d97712c004a368763",
       "version_major": 2,
       "version_minor": 0
      },
      "text/plain": [
       "FloatProgress(value=0.0, layout=Layout(width='auto'), style=ProgressStyle(bar_color='black'))"
      ]
     },
     "metadata": {},
     "output_type": "display_data"
    },
    {
     "name": "stderr",
     "output_type": "stream",
     "text": [
      " 94%|█████████▎| 59/63 [1:11:36<18:33, 278.32s/it]"
     ]
    },
    {
     "data": {
      "application/vnd.jupyter.widget-view+json": {
       "model_id": "4756edce7802445598439cc43558b230",
       "version_major": 2,
       "version_minor": 0
      },
      "text/plain": [
       "FloatProgress(value=0.0, layout=Layout(width='auto'), style=ProgressStyle(bar_color='black'))"
      ]
     },
     "metadata": {},
     "output_type": "display_data"
    },
    {
     "name": "stderr",
     "output_type": "stream",
     "text": [
      "100%|██████████| 63/63 [1:20:27<00:00, 76.63s/it] \n"
     ]
    }
   ],
   "source": [
    "from concurrent.futures import ProcessPoolExecutor, as_completed\n",
    "from pathlib import Path\n",
    "from tqdm import tqdm\n",
    "import duckdb\n",
    "import pandas as pd\n",
    "from google.cloud import storage\n",
    "\n",
    "# Assume mgrs_id_mapping and local_dir are defined globally.\n",
    "storage_client = storage.Client()\n",
    "bucket = storage_client.bucket(\"demeter-labs\")\n",
    "local_dir = \"/home/christopher.x.ren/embeddings/ra_tea/planet_embeddings_v2\"\n",
    "\n",
    "def process_mgrs(mgrs_id):\n",
    "    output_path = f\"gs://demeter-labs/tea/planet_embeddings/{mgrs_id}.parquet\"\n",
    "    blob_name = f\"tea/planet_embeddings/{mgrs_id}.parquet\"\n",
    "    blob = bucket.blob(blob_name)\n",
    "\n",
    "    if blob.exists():\n",
    "        print(f\"Skipping {mgrs_id} - output already exists\")\n",
    "        return mgrs_id\n",
    "\n",
    "\n",
    "    # Build the union query for the given mgrs_id.\n",
    "    union_queries = []\n",
    "    local_files = list(Path(local_dir).glob(\"*.parquet\"))\n",
    "    \n",
    "    # Filter the mapping for this mgrs_id.\n",
    "    tile_ids = mgrs_id_mapping[mgrs_id_mapping['mgrs_id'] == mgrs_id]['id'].tolist()\n",
    "    ids_string = \", \".join([f\"'{id}'\" for id in tile_ids])\n",
    "    \n",
    "    for file_path in local_files:\n",
    "        # Extract the time period from the file name.\n",
    "        file_name = Path(file_path).name\n",
    "        parts = file_name.split('_')\n",
    "        year_month = f\"{parts[-3]}_{parts[-2]}\"\n",
    "        \n",
    "        union_queries.append(f\"\"\"\n",
    "            SELECT id, embedding AS embedding, '{year_month}' AS time_period\n",
    "            FROM read_parquet('{file_path}')\n",
    "            WHERE id IN ({ids_string})\n",
    "        \"\"\")\n",
    "    \n",
    "    # Build the final query by unioning the queries from all files.\n",
    "    big_query = \"\\nUNION ALL\\n\".join(union_queries)\n",
    "    \n",
    "    # Create a new DuckDB connection in this process.\n",
    "    con = duckdb.connect()\n",
    "    con.sql(\"INSTALL spatial; LOAD spatial;\")\n",
    "    \n",
    "    try:\n",
    "        df = con.execute(big_query).df()\n",
    "    except Exception as e:\n",
    "        print(f\"Error processing mgrs_id {mgrs_id}: {e}\")\n",
    "        df = pd.DataFrame()  # Optionally return an empty DataFrame on error.\n",
    "    finally:\n",
    "        con.close()\n",
    "    \n",
    "    # Write the result to a Parquet file (ensure gs:// bucket accepts concurrent writes).\n",
    "    output_path = f\"gs://demeter-labs/tea/planet_embeddings/{mgrs_id}.parquet\"\n",
    "    df.to_parquet(output_path)\n",
    "    \n",
    "    return mgrs_id  # Optionally return something to indicate success.\n",
    "\n",
    "# Get all unique mgrs_ids.\n",
    "mgrs_ids = mgrs_id_mapping['mgrs_id'].unique()\n",
    "\n",
    "# Process in parallel using ProcessPoolExecutor with max 3 workers\n",
    "with ProcessPoolExecutor(max_workers=4) as executor:\n",
    "    # Submit all tasks.\n",
    "    futures = {executor.submit(process_mgrs, mgrs_id): mgrs_id for mgrs_id in mgrs_ids}\n",
    "    \n",
    "    # Optionally use tqdm to track progress.\n",
    "    for future in tqdm(as_completed(futures), total=len(futures)):\n",
    "        try:\n",
    "            result_mgrs = future.result()\n",
    "            # You can log or print the processed mgrs_id if needed.\n",
    "        except Exception as exc:\n",
    "            mgrs_id = futures[future]\n",
    "            print(f\"mgrs_id {mgrs_id} generated an exception: {exc}\")\n"
   ]
  }
 ],
 "metadata": {
  "kernelspec": {
   "display_name": "ei-nb-v2",
   "language": "python",
   "name": "python3"
  },
  "language_info": {
   "codemirror_mode": {
    "name": "ipython",
    "version": 3
   },
   "file_extension": ".py",
   "mimetype": "text/x-python",
   "name": "python",
   "nbconvert_exporter": "python",
   "pygments_lexer": "ipython3",
   "version": "3.12.7"
  }
 },
 "nbformat": 4,
 "nbformat_minor": 2
}
