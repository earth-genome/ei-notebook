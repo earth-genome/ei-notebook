{
 "cells": [
  {
   "cell_type": "code",
   "execution_count": 71,
   "metadata": {},
   "outputs": [
    {
     "data": {
      "text/html": [
       "\n",
       "            <style>\n",
       "                .geemap-dark {\n",
       "                    --jp-widgets-color: white;\n",
       "                    --jp-widgets-label-color: white;\n",
       "                    --jp-ui-font-color1: white;\n",
       "                    --jp-layout-color2: #454545;\n",
       "                    background-color: #383838;\n",
       "                }\n",
       "\n",
       "                .geemap-dark .jupyter-button {\n",
       "                    --jp-layout-color3: #383838;\n",
       "                }\n",
       "\n",
       "                .geemap-colab {\n",
       "                    background-color: var(--colab-primary-surface-color, white);\n",
       "                }\n",
       "\n",
       "                .geemap-colab .jupyter-button {\n",
       "                    --jp-layout-color3: var(--colab-primary-surface-color, white);\n",
       "                }\n",
       "            </style>\n",
       "            "
      ],
      "text/plain": [
       "<IPython.core.display.HTML object>"
      ]
     },
     "metadata": {},
     "output_type": "display_data"
    }
   ],
   "source": [
    "import geopandas as gpd\n",
    "import pandas as pd\n",
    "java_pos_gdf = gpd.read_parquet(\"/home/christopher.x.ren/datasets/ra_tea/pos_gdf_v1_java_2024-11-08.parquet\")\n",
    "java_pos_gdf['class'] = 'java_pos'\n",
    "sumatra_pos_gdf = gpd.read_parquet(\"/home/christopher.x.ren/datasets/ra_tea/pos_gdf_v1_sumatra_2024-11-10.parquet\")\n",
    "sumatra_pos_gdf['class'] = 'sumatra_pos'\n",
    "\n",
    "pos_gdf = gpd.GeoDataFrame(pd.concat([java_pos_gdf, sumatra_pos_gdf]), geometry='geometry')\n",
    "pos_gdf.to_parquet(\"/home/christopher.x.ren/datasets/ra_tea/pos_gdf_v2_java_sumatra_2024-11-11.parquet\")\n",
    "\n",
    "java_neg_gdf = gpd.read_parquet(\"/home/christopher.x.ren/datasets/ra_tea/neg_gdf_v1_java_2024-11-08.parquet\")\n",
    "java_neg_gdf['class'] = 'java_neg'\n",
    "sumatra_neg_gdf = gpd.read_parquet(\"/home/christopher.x.ren/datasets/ra_tea/neg_gdf_v1_sumatra_2024-11-10.parquet\")\n",
    "sumatra_neg_gdf['class'] = 'sumatra_neg'\n",
    "\n",
    "neg_gdf = gpd.GeoDataFrame(pd.concat([java_neg_gdf, sumatra_neg_gdf]), geometry='geometry')\n",
    "neg_gdf.to_parquet(\"/home/christopher.x.ren/datasets/ra_tea/neg_gdf_v2_java_sumatra_2024-11-11.parquet\")"
   ]
  },
  {
   "cell_type": "code",
   "execution_count": 66,
   "metadata": {},
   "outputs": [
    {
     "data": {
      "text/html": [
       "\n",
       "            <style>\n",
       "                .geemap-dark {\n",
       "                    --jp-widgets-color: white;\n",
       "                    --jp-widgets-label-color: white;\n",
       "                    --jp-ui-font-color1: white;\n",
       "                    --jp-layout-color2: #454545;\n",
       "                    background-color: #383838;\n",
       "                }\n",
       "\n",
       "                .geemap-dark .jupyter-button {\n",
       "                    --jp-layout-color3: #383838;\n",
       "                }\n",
       "\n",
       "                .geemap-colab {\n",
       "                    background-color: var(--colab-primary-surface-color, white);\n",
       "                }\n",
       "\n",
       "                .geemap-colab .jupyter-button {\n",
       "                    --jp-layout-color3: var(--colab-primary-surface-color, white);\n",
       "                }\n",
       "            </style>\n",
       "            "
      ],
      "text/plain": [
       "<IPython.core.display.HTML object>"
      ]
     },
     "metadata": {},
     "output_type": "display_data"
    }
   ],
   "source": [
    "import ee\n",
    "import geopandas as gpd\n",
    "import geemap\n",
    "import shapely\n",
    "credentials = ee.ServiceAccountCredentials(\n",
    "    '242968905260-compute@developer.gserviceaccount.com',\n",
    "    '/home/christopher.x.ren/.config/earthengine/earthindex-7d2c9b94c507.json'\n",
    ")\n",
    "ee.Initialize(project='earthindex', credentials=credentials)\n",
    "sumatra_aoi = gpd.read_file('gs://demeter-labs/tea/geometries/ra_sumatra_only_aoi.geojson')\n",
    "java_aoi = gpd.read_file('gs://demeter-labs/tea/geometries/java_bounding_box.geojson')\n",
    "ee_java_aoi = ee.Geometry(shapely.geometry.mapping(java_aoi.geometry.iloc[0]))\n",
    "ee_sumatra_aoi = ee.Geometry(shapely.geometry.mapping(sumatra_aoi.geometry.iloc[0]))\n",
    "esri_lc_classes=[1, 2, 4, 5, 9]\n",
    "num_points_per_class=[2, 1000, 1000, 1000, 300]"
   ]
  },
  {
   "cell_type": "code",
   "execution_count": 67,
   "metadata": {},
   "outputs": [
    {
     "data": {
      "text/html": [
       "\n",
       "            <style>\n",
       "                .geemap-dark {\n",
       "                    --jp-widgets-color: white;\n",
       "                    --jp-widgets-label-color: white;\n",
       "                    --jp-ui-font-color1: white;\n",
       "                    --jp-layout-color2: #454545;\n",
       "                    background-color: #383838;\n",
       "                }\n",
       "\n",
       "                .geemap-dark .jupyter-button {\n",
       "                    --jp-layout-color3: #383838;\n",
       "                }\n",
       "\n",
       "                .geemap-colab {\n",
       "                    background-color: var(--colab-primary-surface-color, white);\n",
       "                }\n",
       "\n",
       "                .geemap-colab .jupyter-button {\n",
       "                    --jp-layout-color3: var(--colab-primary-surface-color, white);\n",
       "                }\n",
       "            </style>\n",
       "            "
      ],
      "text/plain": [
       "<IPython.core.display.HTML object>"
      ]
     },
     "metadata": {},
     "output_type": "display_data"
    }
   ],
   "source": [
    "m = geemap.Map(center=[-0.7893, 113.9213], zoom=5)\n",
    "\n",
    "# Add Google Maps hybrid layer\n",
    "url = 'https://mt1.google.com/vt/lyrs=y&x={x}&y={y}&z={z}'\n",
    "m.add_tile_layer(url, name='Google Hybrid', attribution='Google')\n",
    "\n",
    "lulc_viz = {\n",
    "    'names': ['Water', 'Trees', 'Flooded Vegetation', 'Crops', 'Built Area', \n",
    "              'Bare Ground', 'Snow/Ice', 'Clouds', 'Rangeland'],\n",
    "    'colors': ['#1A5BAB', '#358221', '#87D19E', '#FFDB5C', '#ED022A',\n",
    "               '#EDE9E4', '#F2FAFF', '#C8C8C8', '#800080']\n",
    "}\n",
    "\n",
    "def remap_lulc(image):\n",
    "    return image.remap([1,2,4,5,7,8,9,10,11], [1,2,3,4,5,6,7,8,9])\n",
    "\n",
    "esri_lulc = ee.ImageCollection(\"projects/sat-io/open-datasets/landcover/ESRI_Global-LULC_10m_TS\")\n",
    "lulc2023 = esri_lulc.filterDate('2023-01-01', '2023-12-31').mosaic()\n",
    "lulc2023_remapped = remap_lulc(lulc2023)\n",
    "m.addLayer(lulc2023_remapped, {'min': 1, 'max': 9, 'palette': lulc_viz['colors']}, 'ESRI LULC 2023')\n",
    "m.add_gdf(sumatra_aoi, layer_name='Sumatra Sampling AOI')\n",
    "m.addLayer(geemap.gdf_to_ee(pos_gdf), {'color': 'blue'}, 'Positive Points')\n"
   ]
  },
  {
   "cell_type": "code",
   "execution_count": 68,
   "metadata": {},
   "outputs": [
    {
     "data": {
      "text/html": [
       "\n",
       "            <style>\n",
       "                .geemap-dark {\n",
       "                    --jp-widgets-color: white;\n",
       "                    --jp-widgets-label-color: white;\n",
       "                    --jp-ui-font-color1: white;\n",
       "                    --jp-layout-color2: #454545;\n",
       "                    background-color: #383838;\n",
       "                }\n",
       "\n",
       "                .geemap-dark .jupyter-button {\n",
       "                    --jp-layout-color3: #383838;\n",
       "                }\n",
       "\n",
       "                .geemap-colab {\n",
       "                    background-color: var(--colab-primary-surface-color, white);\n",
       "                }\n",
       "\n",
       "                .geemap-colab .jupyter-button {\n",
       "                    --jp-layout-color3: var(--colab-primary-surface-color, white);\n",
       "                }\n",
       "            </style>\n",
       "            "
      ],
      "text/plain": [
       "<IPython.core.display.HTML object>"
      ]
     },
     "metadata": {},
     "output_type": "display_data"
    }
   ],
   "source": [
    "import numpy as np\n",
    "sumatra_num_points = (np.array(num_points_per_class) * 30).tolist()\n",
    "java_num_points = (np.array(num_points_per_class) * 30).tolist()\n",
    "\n",
    "sumatra_lulc_samples = lulc2023_remapped.stratifiedSample(  \n",
    "    region=ee_sumatra_aoi,\n",
    "    scale=320,\n",
    "    numPoints=0,\n",
    "    classValues=esri_lc_classes, \n",
    "    classPoints=sumatra_num_points,\n",
    "    seed=0,\n",
    "    geometries=True\n",
    ")\n",
    "\n",
    "java_lulc_samples = lulc2023_remapped.stratifiedSample(  \n",
    "    region=ee_java_aoi,\n",
    "    scale=320,\n",
    "    numPoints=0,\n",
    "    classValues=esri_lc_classes, \n",
    "    classPoints=java_num_points,\n",
    "    seed=0,\n",
    "    geometries=True\n",
    ")\n",
    "\n",
    "\n",
    "m.addLayer(sumatra_lulc_samples, {'color': 'black'}, 'Sumatra LULC Sampled Points')\n",
    "m.addLayer(java_lulc_samples, {'color': 'white'}, 'Java LULC Sampled Points')\n"
   ]
  },
  {
   "cell_type": "code",
   "execution_count": 69,
   "metadata": {},
   "outputs": [
    {
     "data": {
      "text/html": [
       "\n",
       "            <style>\n",
       "                .geemap-dark {\n",
       "                    --jp-widgets-color: white;\n",
       "                    --jp-widgets-label-color: white;\n",
       "                    --jp-ui-font-color1: white;\n",
       "                    --jp-layout-color2: #454545;\n",
       "                    background-color: #383838;\n",
       "                }\n",
       "\n",
       "                .geemap-dark .jupyter-button {\n",
       "                    --jp-layout-color3: #383838;\n",
       "                }\n",
       "\n",
       "                .geemap-colab {\n",
       "                    background-color: var(--colab-primary-surface-color, white);\n",
       "                }\n",
       "\n",
       "                .geemap-colab .jupyter-button {\n",
       "                    --jp-layout-color3: var(--colab-primary-surface-color, white);\n",
       "                }\n",
       "            </style>\n",
       "            "
      ],
      "text/plain": [
       "<IPython.core.display.HTML object>"
      ]
     },
     "metadata": {},
     "output_type": "display_data"
    },
    {
     "name": "stdout",
     "output_type": "stream",
     "text": [
      "Original number of samples: 198120\n",
      "Number of samples after filtering: 196861\n"
     ]
    }
   ],
   "source": [
    "java_class_mapping = {\n",
    "    1: 'java_water',\n",
    "    2: 'java_trees', \n",
    "    4: 'java_crops',\n",
    "    5: 'java_crops',\n",
    "    9: 'java_rangeland'\n",
    "}\n",
    "\n",
    "sumatra_class_mapping = {\n",
    "    1: 'sumatra_water',\n",
    "    2: 'sumatra_trees', \n",
    "    4: 'sumatra_crops',\n",
    "    5: 'sumatra_crops',\n",
    "    9: 'sumatra_rangeland'\n",
    "}\n",
    "\n",
    "java_neg_samples_gdf = geemap.ee_to_gdf(java_lulc_samples)\n",
    "java_neg_samples_gdf['class'] = java_neg_samples_gdf['remapped'].map(java_class_mapping)\n",
    "\n",
    "sumatra_neg_samples_gdf = geemap.ee_to_gdf(sumatra_lulc_samples)\n",
    "sumatra_neg_samples_gdf['class'] = sumatra_neg_samples_gdf['remapped'].map(sumatra_class_mapping)\n",
    "\n",
    "# Combine samples before filtering\n",
    "lulc_samples_gdf = gpd.GeoDataFrame(pd.concat([java_neg_samples_gdf, sumatra_neg_samples_gdf]), geometry='geometry')\n",
    "print(f\"Original number of samples: {len(lulc_samples_gdf)}\")\n",
    "\n",
    "# Get UTM zones for all points\n",
    "utm_zones = ((pos_gdf.geometry.x + 180) / 6 + 1).astype(int)\n",
    "lulc_samples_gdf['utm_zone'] = ((lulc_samples_gdf.geometry.x + 180) / 6 + 1).astype(int)\n",
    "unique_zones = utm_zones.unique()\n",
    "\n",
    "# Process each UTM zone separately and combine results\n",
    "filtered_samples = []\n",
    "for zone in unique_zones:\n",
    "    utm_crs = f'EPSG:326{zone:02d}'\n",
    "    \n",
    "    # Get points in this zone\n",
    "    pos_zone_mask = utm_zones == zone\n",
    "    lulc_zone_mask = lulc_samples_gdf['utm_zone'].values == zone\n",
    "    zone_pos_gdf = pos_gdf[pos_zone_mask]\n",
    "    zone_samples_gdf = lulc_samples_gdf[lulc_zone_mask]\n",
    "    \n",
    "    # Project points in this zone to their UTM CRS\n",
    "    zone_pos_utm = zone_pos_gdf.to_crs(utm_crs)\n",
    "    zone_samples_utm = zone_samples_gdf.to_crs(utm_crs)\n",
    "    \n",
    "    # Buffer the positive points\n",
    "    zone_pos_buffered = zone_pos_utm.copy()\n",
    "    zone_pos_buffered.geometry = zone_pos_utm.geometry.buffer(320)\n",
    "    zone_union = zone_pos_buffered.geometry.unary_union\n",
    "    \n",
    "    # Filter samples in this zone\n",
    "    zone_filtered = zone_samples_utm[~zone_samples_utm.geometry.intersects(zone_union)]\n",
    "    filtered_samples.append(zone_filtered.to_crs('EPSG:4326'))\n",
    "\n",
    "# Combine results and convert back to WGS84\n",
    "lulc_samples_gdf_filtered = gpd.GeoDataFrame(pd.concat(filtered_samples), geometry='geometry')\n",
    "lulc_samples_gdf_filtered = lulc_samples_gdf_filtered.to_crs('EPSG:4326')\n",
    "print(f\"Number of samples after filtering: {len(lulc_samples_gdf_filtered)}\")"
   ]
  },
  {
   "cell_type": "code",
   "execution_count": 70,
   "metadata": {},
   "outputs": [
    {
     "data": {
      "text/html": [
       "\n",
       "            <style>\n",
       "                .geemap-dark {\n",
       "                    --jp-widgets-color: white;\n",
       "                    --jp-widgets-label-color: white;\n",
       "                    --jp-ui-font-color1: white;\n",
       "                    --jp-layout-color2: #454545;\n",
       "                    background-color: #383838;\n",
       "                }\n",
       "\n",
       "                .geemap-dark .jupyter-button {\n",
       "                    --jp-layout-color3: #383838;\n",
       "                }\n",
       "\n",
       "                .geemap-colab {\n",
       "                    background-color: var(--colab-primary-surface-color, white);\n",
       "                }\n",
       "\n",
       "                .geemap-colab .jupyter-button {\n",
       "                    --jp-layout-color3: var(--colab-primary-surface-color, white);\n",
       "                }\n",
       "            </style>\n",
       "            "
      ],
      "text/plain": [
       "<IPython.core.display.HTML object>"
      ]
     },
     "metadata": {},
     "output_type": "display_data"
    }
   ],
   "source": [
    "lulc_samples_gdf_filtered.to_parquet(\n",
    "    \"/home/christopher.x.ren/datasets/ra_tea/java_sumatra_water_built_tree_rangeland_samples_196861.parquet\")"
   ]
  },
  {
   "cell_type": "code",
   "execution_count": null,
   "metadata": {},
   "outputs": [],
   "source": []
  }
 ],
 "metadata": {
  "kernelspec": {
   "display_name": "ei-nb-v2",
   "language": "python",
   "name": "ei-nb-v2"
  },
  "language_info": {
   "codemirror_mode": {
    "name": "ipython",
    "version": 3
   },
   "file_extension": ".py",
   "mimetype": "text/x-python",
   "name": "python",
   "nbconvert_exporter": "python",
   "pygments_lexer": "ipython3",
   "version": "3.12.7"
  }
 },
 "nbformat": 4,
 "nbformat_minor": 2
}
