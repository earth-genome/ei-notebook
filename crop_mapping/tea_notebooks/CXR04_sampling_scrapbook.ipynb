{
 "cells": [
  {
   "cell_type": "code",
   "execution_count": 28,
   "metadata": {},
   "outputs": [
    {
     "data": {
      "text/html": [
       "\n",
       "            <style>\n",
       "                .geemap-dark {\n",
       "                    --jp-widgets-color: white;\n",
       "                    --jp-widgets-label-color: white;\n",
       "                    --jp-ui-font-color1: white;\n",
       "                    --jp-layout-color2: #454545;\n",
       "                    background-color: #383838;\n",
       "                }\n",
       "\n",
       "                .geemap-dark .jupyter-button {\n",
       "                    --jp-layout-color3: #383838;\n",
       "                }\n",
       "\n",
       "                .geemap-colab {\n",
       "                    background-color: var(--colab-primary-surface-color, white);\n",
       "                }\n",
       "\n",
       "                .geemap-colab .jupyter-button {\n",
       "                    --jp-layout-color3: var(--colab-primary-surface-color, white);\n",
       "                }\n",
       "            </style>\n",
       "            "
      ],
      "text/plain": [
       "<IPython.core.display.HTML object>"
      ]
     },
     "metadata": {},
     "output_type": "display_data"
    },
    {
     "data": {
      "application/vnd.jupyter.widget-view+json": {
       "model_id": "ce615a0843d848929b908f02b71b6d3b",
       "version_major": 2,
       "version_minor": 0
      },
      "text/plain": [
       "Map(center=[-0.7893, 113.9213], controls=(WidgetControl(options=['position', 'transparent_bg'], widget=SearchD…"
      ]
     },
     "execution_count": 28,
     "metadata": {},
     "output_type": "execute_result"
    }
   ],
   "source": [
    "import ee\n",
    "ee.Initialize(project='earthindex')\n",
    "import geemap\n",
    "\n",
    "m = geemap.Map(center=[-0.7893, 113.9213], zoom=5)\n",
    "\n",
    "palm2024 = ee.ImageCollection(\"projects/forestdatapartnership/assets/community_palm/20240312\").mosaic()\n",
    "palm_thresholded = palm2024.updateMask(palm2024.select('probability').gt(0.9))\n",
    "m.addLayer(palm_thresholded, {'min': 0.0, 'max': 1.0, 'palette': ['#eff3ff', '#bdd7e7', '#6baed6', '#3182bd', '#08519c']}, 'Palm Probability')\n",
    "\n",
    "m.add_legend(title=\"Palm Probability\", legend_dict={\n",
    "    '0.0': '#eff3ff',\n",
    "    '0.25': '#bdd7e7',\n",
    "    '0.5': '#6baed6',\n",
    "    '0.75': '#3182bd',\n",
    "    '1.0': '#08519c'\n",
    "})\n",
    "\n",
    "m\n"
   ]
  },
  {
   "cell_type": "code",
   "execution_count": 31,
   "metadata": {},
   "outputs": [
    {
     "data": {
      "text/html": [
       "\n",
       "            <style>\n",
       "                .geemap-dark {\n",
       "                    --jp-widgets-color: white;\n",
       "                    --jp-widgets-label-color: white;\n",
       "                    --jp-ui-font-color1: white;\n",
       "                    --jp-layout-color2: #454545;\n",
       "                    background-color: #383838;\n",
       "                }\n",
       "\n",
       "                .geemap-dark .jupyter-button {\n",
       "                    --jp-layout-color3: #383838;\n",
       "                }\n",
       "\n",
       "                .geemap-colab {\n",
       "                    background-color: var(--colab-primary-surface-color, white);\n",
       "                }\n",
       "\n",
       "                .geemap-colab .jupyter-button {\n",
       "                    --jp-layout-color3: var(--colab-primary-surface-color, white);\n",
       "                }\n",
       "            </style>\n",
       "            "
      ],
      "text/plain": [
       "<IPython.core.display.HTML object>"
      ]
     },
     "metadata": {},
     "output_type": "display_data"
    }
   ],
   "source": [
    "import geopandas as gpd\n",
    "import shapely\n",
    "gdf = gpd.read_file('gs://demeter-labs/tea/geometries/ra_aoi_indonesia.geojson')\n",
    "ee_geom = ee.Geometry(shapely.geometry.mapping(gdf.geometry.values[0]))\n",
    "\n",
    "samples = palm_thresholded.sample(ee_geom, 10, numPixels=10000, geometries=True)\n",
    "m.addLayer(samples, {}, 'Sampled Points')\n"
   ]
  },
  {
   "cell_type": "code",
   "execution_count": 27,
   "metadata": {},
   "outputs": [
    {
     "data": {
      "text/html": [
       "\n",
       "            <style>\n",
       "                .geemap-dark {\n",
       "                    --jp-widgets-color: white;\n",
       "                    --jp-widgets-label-color: white;\n",
       "                    --jp-ui-font-color1: white;\n",
       "                    --jp-layout-color2: #454545;\n",
       "                    background-color: #383838;\n",
       "                }\n",
       "\n",
       "                .geemap-dark .jupyter-button {\n",
       "                    --jp-layout-color3: #383838;\n",
       "                }\n",
       "\n",
       "                .geemap-colab {\n",
       "                    background-color: var(--colab-primary-surface-color, white);\n",
       "                }\n",
       "\n",
       "                .geemap-colab .jupyter-button {\n",
       "                    --jp-layout-color3: var(--colab-primary-surface-color, white);\n",
       "                }\n",
       "            </style>\n",
       "            "
      ],
      "text/plain": [
       "<IPython.core.display.HTML object>"
      ]
     },
     "metadata": {},
     "output_type": "display_data"
    },
    {
     "data": {
      "text/plain": [
       "{'type': 'FeatureCollection',\n",
       " 'columns': {'probability': 'Float'},\n",
       " 'properties': {'band_order': ['probability']},\n",
       " 'features': [{'type': 'Feature',\n",
       "   'geometry': {'type': 'Point',\n",
       "    'coordinates': [101.81599400729586, -0.13034345278025922]},\n",
       "   'id': '2',\n",
       "   'properties': {'probability': 0.9944100975990295}},\n",
       "  {'type': 'Feature',\n",
       "   'geometry': {'type': 'Point',\n",
       "    'coordinates': [99.89525263198149, 0.9926816246752819]},\n",
       "   'id': '6',\n",
       "   'properties': {'probability': 0.974556028842926}},\n",
       "  {'type': 'Feature',\n",
       "   'geometry': {'type': 'Point',\n",
       "    'coordinates': [101.54451458913192, -1.0834275997219438]},\n",
       "   'id': '12',\n",
       "   'properties': {'probability': 0.9861811995506287}},\n",
       "  {'type': 'Feature',\n",
       "   'geometry': {'type': 'Point',\n",
       "    'coordinates': [101.54098674971934, 0.3240044705553898]},\n",
       "   'id': '14',\n",
       "   'properties': {'probability': 0.8100422024726868}},\n",
       "  {'type': 'Feature',\n",
       "   'geometry': {'type': 'Point',\n",
       "    'coordinates': [100.48999529133262, 1.3797521252185028]},\n",
       "   'id': '18',\n",
       "   'properties': {'probability': 0.9665509462356567}},\n",
       "  {'type': 'Feature',\n",
       "   'geometry': {'type': 'Point',\n",
       "    'coordinates': [99.11309838980554, 2.8554961961662473]},\n",
       "   'id': '38',\n",
       "   'properties': {'probability': 0.9610123634338379}},\n",
       "  {'type': 'Feature',\n",
       "   'geometry': {'type': 'Point',\n",
       "    'coordinates': [98.23022161801302, 3.414439878402507]},\n",
       "   'id': '41',\n",
       "   'properties': {'probability': 0.998226523399353}},\n",
       "  {'type': 'Feature',\n",
       "   'geometry': {'type': 'Point',\n",
       "    'coordinates': [101.27112096458472, -2.1384726524802367]},\n",
       "   'id': '43',\n",
       "   'properties': {'probability': 0.7114034295082092}},\n",
       "  {'type': 'Feature',\n",
       "   'geometry': {'type': 'Point',\n",
       "    'coordinates': [104.53793732870815, -4.18346879318816]},\n",
       "   'id': '66',\n",
       "   'properties': {'probability': 0.6995999813079834}},\n",
       "  {'type': 'Feature',\n",
       "   'geometry': {'type': 'Point',\n",
       "    'coordinates': [104.49358856055346, -4.800826104793218]},\n",
       "   'id': '69',\n",
       "   'properties': {'probability': 0.6822034120559692}},\n",
       "  {'type': 'Feature',\n",
       "   'geometry': {'type': 'Point',\n",
       "    'coordinates': [105.6148206546268, -5.286993607694543]},\n",
       "   'id': '72',\n",
       "   'properties': {'probability': 0.760809063911438}},\n",
       "  {'type': 'Feature',\n",
       "   'geometry': {'type': 'Point',\n",
       "    'coordinates': [100.5827724335709, 1.0775185845147501]},\n",
       "   'id': '73',\n",
       "   'properties': {'probability': 0.783617377281189}},\n",
       "  {'type': 'Feature',\n",
       "   'geometry': {'type': 'Point',\n",
       "    'coordinates': [101.73015967991877, -0.9326256775096661]},\n",
       "   'id': '76',\n",
       "   'properties': {'probability': 0.943853497505188}},\n",
       "  {'type': 'Feature',\n",
       "   'geometry': {'type': 'Point',\n",
       "    'coordinates': [103.74010038325598, -3.0610804682420727]},\n",
       "   'id': '81',\n",
       "   'properties': {'probability': 0.6482396721839905}},\n",
       "  {'type': 'Feature',\n",
       "   'geometry': {'type': 'Point',\n",
       "    'coordinates': [101.56985911211919, -0.285085001079679]},\n",
       "   'id': '95',\n",
       "   'properties': {'probability': 0.9971698522567749}}]}"
      ]
     },
     "execution_count": 27,
     "metadata": {},
     "output_type": "execute_result"
    }
   ],
   "source": [
    "samples.getInfo()"
   ]
  },
  {
   "cell_type": "code",
   "execution_count": null,
   "metadata": {},
   "outputs": [],
   "source": []
  }
 ],
 "metadata": {
  "kernelspec": {
   "display_name": "ee",
   "language": "python",
   "name": "python3"
  },
  "language_info": {
   "codemirror_mode": {
    "name": "ipython",
    "version": 3
   },
   "file_extension": ".py",
   "mimetype": "text/x-python",
   "name": "python",
   "nbconvert_exporter": "python",
   "pygments_lexer": "ipython3",
   "version": "3.12.2"
  }
 },
 "nbformat": 4,
 "nbformat_minor": 2
}
