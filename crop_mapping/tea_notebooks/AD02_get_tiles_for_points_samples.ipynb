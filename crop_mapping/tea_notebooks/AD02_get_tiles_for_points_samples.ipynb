{
 "cells": [
  {
   "cell_type": "code",
   "execution_count": 1,
   "metadata": {},
   "outputs": [],
   "source": [
    "from typing import List\n",
    "import numpy as np\n",
    "import geopandas as gpd\n",
    "\n",
    "import os\n",
    "import pandas as pd\n",
    "from shapely.geometry import shape  \n"
   ]
  },
  {
   "cell_type": "code",
   "execution_count": 5,
   "metadata": {},
   "outputs": [],
   "source": [
    "import sys\n",
    "from pathlib import Path\n",
    "sys.path.insert(0, str(Path.cwd().parent.parent.parent))\n",
    "from demeter.tea.src.geometry_utils import get_wgs84_gdf_for_aoi\n",
    "\n",
    "ei_dir = '/Users/alicedurieux/code/earth-index-ml/'\n"
   ]
  },
  {
   "cell_type": "code",
   "execution_count": 4,
   "metadata": {},
   "outputs": [],
   "source": [
    "%load_ext autoreload\n",
    "%autoreload 2\n"
   ]
  },
  {
   "cell_type": "markdown",
   "metadata": {},
   "source": [
    "# Get df of MGRS tiles intersecting RA AOI"
   ]
  },
  {
   "cell_type": "code",
   "execution_count": 5,
   "metadata": {},
   "outputs": [],
   "source": [
    "aoi_file = f'{ei_dir}demeter/geometry/aois/ra_aoi_indonesia.geojson'\n",
    "df = get_wgs84_gdf_for_aoi(aoi_file, f'{ei_dir}demeter/geometry/wgs84_tiles/wgs_tiles_intersecting_indonesia_aoi.geojson')\n"
   ]
  },
  {
   "cell_type": "markdown",
   "metadata": {},
   "source": [
    "# Get small tiles intersecting points"
   ]
  },
  {
   "cell_type": "code",
   "execution_count": null,
   "metadata": {},
   "outputs": [],
   "source": [
    "points = gpd.read_file(f'{ei_dir}demeter/geometry/tea_geometries_test_palm_samples.geojson')\n",
    "points.head()\n"
   ]
  },
  {
   "cell_type": "code",
   "execution_count": null,
   "metadata": {},
   "outputs": [],
   "source": [
    "points_with_tile_id = gpd.sjoin(points, df, how=\"left\", predicate=\"intersects\")\n",
    "\n",
    "# Optionally, you can keep only the relevant columns\n",
    "points_with_tile_id = points_with_tile_id[['probability', 'geometry', 'mgrs_id']]\n",
    "\n",
    "#Add unique ID for points\n",
    "points_with_tile_id['unique_point_id'] = points_with_tile_id.index\n"
   ]
  },
  {
   "cell_type": "code",
   "execution_count": 10,
   "metadata": {},
   "outputs": [],
   "source": [
    "# iterate over mgrs_ids and get tiles intersecting points\n",
    "\n",
    "intersecting_geometries = []\n",
    "\n",
    "# Group by mgrs_id\n",
    "for mgrs_id, group in points_with_tile_id.groupby('mgrs_id'):\n",
    "        # Construct the directory path\n",
    "    parquet_directory = f'{ei_dir}demeter/geometry/wgs84_tiles/tiles_intersecting_indonesia_aoi/'\n",
    "    # Find parquet files where the first part of the name matches the mgrs_id\n",
    "    parquet_file = [f for f in os.listdir(parquet_directory) if f.split('_')[0] == mgrs_id]\n",
    "    # Read the parquet file\n",
    "    tile_gdf = gpd.read_parquet(parquet_directory + parquet_file[0])\n",
    "    tile_gdf.to_crs('epsg:4326', inplace=True)\n",
    "    tile_gdf['tile_geometry'] = tile_gdf.geometry\n",
    "\n",
    " # Perform a spatial join to keep all points and add tile geometry if contained\n",
    "    joined = gpd.sjoin(group, tile_gdf, how='left', predicate='within')\n",
    "        \n",
    "        # Add the results to the list\n",
    "    intersecting_geometries.append(joined)\n",
    "# Concatenate all intersecting geometries into a single GeoDataFrame\n",
    "result_df = gpd.GeoDataFrame(pd.concat(intersecting_geometries, ignore_index=True))\n",
    "\n",
    "# save points with tile id\n",
    "result_df.drop(columns=['index_right'], inplace=True)\n",
    "result_df.drop('tile_geometry', axis=1).to_file('points_with_tile_id_intersecting_indonesia_aoi.geojson', driver='GeoJSON')\n",
    "\n",
    "# save tiles intersecting points \n",
    "tiles = result_df.drop('geometry', axis=1).rename(columns={'tile_geometry': 'geometry'}).drop_duplicates(subset=['tile_id'])\n",
    "tiles.to_file('tiles_intersecting_points.geojson', driver='GeoJSON')\n"
   ]
  }
 ],
 "metadata": {
  "kernelspec": {
   "display_name": "ei-nb",
   "language": "python",
   "name": "ei-nb"
  },
  "language_info": {
   "codemirror_mode": {
    "name": "ipython",
    "version": 3
   },
   "file_extension": ".py",
   "mimetype": "text/x-python",
   "name": "python",
   "nbconvert_exporter": "python",
   "pygments_lexer": "ipython3",
   "version": "3.9.20"
  }
 },
 "nbformat": 4,
 "nbformat_minor": 2
}
