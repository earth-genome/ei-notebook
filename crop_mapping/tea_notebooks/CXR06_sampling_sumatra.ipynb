{
 "cells": [
  {
   "cell_type": "markdown",
   "metadata": {},
   "source": [
    "## Some slightly strange operations in this notebook to sample negatives using ESRI LULC: \n",
    "\n",
    "### First we split the RA AOI into Sumatra only for sampling (Java is more complicated)"
   ]
  },
  {
   "cell_type": "code",
   "execution_count": 3,
   "metadata": {},
   "outputs": [],
   "source": [
    "import geopandas as gpd\n",
    "sumatra_bb = gpd.read_file(\n",
    "    'gs://demeter-labs/tea/geometries/sumatra_bounding_box.geojson')\n",
    "ra_aoi = gpd.read_file(\n",
    "    'gs://demeter-labs/tea/geometries/ra_aoi_indonesia.geojson')\n",
    "\n",
    "sumatra_aoi = gpd.overlay(ra_aoi, sumatra_bb, how='intersection')\n",
    "sumatra_aoi.to_file('gs://demeter-labs/tea/geometries/ra_sumatra_only_aoi.geojson')"
   ]
  },
  {
   "cell_type": "markdown",
   "metadata": {},
   "source": [
    "### We did some quick manual surveying of tea plantations in Sumatra using Google + Google Street View for the exploratory phase, and saved approximate bounding boxes. We combine these with the RA provided tea polygons to make sure we don't sample any tea in Sumatra accidentally into the negative dataset"
   ]
  },
  {
   "cell_type": "code",
   "execution_count": 7,
   "metadata": {},
   "outputs": [
    {
     "data": {
      "text/html": [
       "\n",
       "            <style>\n",
       "                .geemap-dark {\n",
       "                    --jp-widgets-color: white;\n",
       "                    --jp-widgets-label-color: white;\n",
       "                    --jp-ui-font-color1: white;\n",
       "                    --jp-layout-color2: #454545;\n",
       "                    background-color: #383838;\n",
       "                }\n",
       "\n",
       "                .geemap-dark .jupyter-button {\n",
       "                    --jp-layout-color3: #383838;\n",
       "                }\n",
       "\n",
       "                .geemap-colab {\n",
       "                    background-color: var(--colab-primary-surface-color, white);\n",
       "                }\n",
       "\n",
       "                .geemap-colab .jupyter-button {\n",
       "                    --jp-layout-color3: var(--colab-primary-surface-color, white);\n",
       "                }\n",
       "            </style>\n",
       "            "
      ],
      "text/plain": [
       "<IPython.core.display.HTML object>"
      ]
     },
     "metadata": {},
     "output_type": "display_data"
    },
    {
     "data": {
      "application/vnd.jupyter.widget-view+json": {
       "model_id": "5794d8afd9ec4b1eb42ac81f1993b37f",
       "version_major": 2,
       "version_minor": 0
      },
      "text/plain": [
       "Map(center=[-0.7893, 113.9213], controls=(WidgetControl(options=['position', 'transparent_bg'], widget=SearchD…"
      ]
     },
     "execution_count": 7,
     "metadata": {},
     "output_type": "execute_result"
    }
   ],
   "source": [
    "import ee\n",
    "credentials = ee.ServiceAccountCredentials(\n",
    "    '242968905260-compute@developer.gserviceaccount.com',\n",
    "    '/home/christopher.x.ren/.config/earthengine/earthindex-7d2c9b94c507.json'\n",
    ")\n",
    "ee.Initialize(project='earthindex', credentials=credentials)\n",
    "import geemap\n",
    "import pandas as pd\n",
    "import geopandas as gpd\n",
    "\n",
    "sumatra_aoi = gpd.read_file('gs://demeter-labs/tea/geometries/ra_sumatra_only_aoi.geojson')\n",
    "pos_gdf = gpd.read_parquet('/home/christopher.x.ren/datasets/ra_tea/pos_gdf_v1_sumatra_2024-11-10.parquet')\n",
    "\n",
    "m = geemap.Map(center=[-0.7893, 113.9213], zoom=5)\n",
    "\n",
    "# Add Google Maps hybrid layer\n",
    "url = 'https://mt1.google.com/vt/lyrs=y&x={x}&y={y}&z={z}'\n",
    "m.add_tile_layer(url, name='Google Hybrid', attribution='Google')\n",
    "\n",
    "lulc_viz = {\n",
    "    'names': ['Water', 'Trees', 'Flooded Vegetation', 'Crops', 'Built Area', \n",
    "              'Bare Ground', 'Snow/Ice', 'Clouds', 'Rangeland'],\n",
    "    'colors': ['#1A5BAB', '#358221', '#87D19E', '#FFDB5C', '#ED022A',\n",
    "               '#EDE9E4', '#F2FAFF', '#C8C8C8', '#800080']\n",
    "}\n",
    "\n",
    "def remap_lulc(image):\n",
    "    return image.remap([1,2,4,5,7,8,9,10,11], [1,2,3,4,5,6,7,8,9])\n",
    "\n",
    "esri_lulc = ee.ImageCollection(\"projects/sat-io/open-datasets/landcover/ESRI_Global-LULC_10m_TS\")\n",
    "lulc2023 = esri_lulc.filterDate('2023-01-01', '2023-12-31').mosaic()\n",
    "lulc2023_remapped = remap_lulc(lulc2023)\n",
    "m.addLayer(lulc2023_remapped, {'min': 1, 'max': 9, 'palette': lulc_viz['colors']}, 'ESRI LULC 2023')\n",
    "m.add_gdf(sumatra_aoi, layer_name='Sumatra Sampling AOI')\n",
    "m.addLayer(geemap.gdf_to_ee(pos_gdf), {'color': 'blue'}, 'Positive Points')\n",
    "m"
   ]
  },
  {
   "cell_type": "markdown",
   "metadata": {},
   "source": [
    "### Sample using ESRI LC: adjust number of samples. Here we are sampling the 'Tree' and 'Built' class. We could ostensibly also sample the 'crop' class since we've removed most of the tea areas, however we'll explicitly use the cocoa and coffee polygons provided by the RA for that for v0"
   ]
  },
  {
   "cell_type": "code",
   "execution_count": 8,
   "metadata": {},
   "outputs": [
    {
     "data": {
      "text/html": [
       "\n",
       "            <style>\n",
       "                .geemap-dark {\n",
       "                    --jp-widgets-color: white;\n",
       "                    --jp-widgets-label-color: white;\n",
       "                    --jp-ui-font-color1: white;\n",
       "                    --jp-layout-color2: #454545;\n",
       "                    background-color: #383838;\n",
       "                }\n",
       "\n",
       "                .geemap-dark .jupyter-button {\n",
       "                    --jp-layout-color3: #383838;\n",
       "                }\n",
       "\n",
       "                .geemap-colab {\n",
       "                    background-color: var(--colab-primary-surface-color, white);\n",
       "                }\n",
       "\n",
       "                .geemap-colab .jupyter-button {\n",
       "                    --jp-layout-color3: var(--colab-primary-surface-color, white);\n",
       "                }\n",
       "            </style>\n",
       "            "
      ],
      "text/plain": [
       "<IPython.core.display.HTML object>"
      ]
     },
     "metadata": {},
     "output_type": "display_data"
    }
   ],
   "source": [
    "import shapely\n",
    "ee_sumatra_aoi = ee.Geometry(shapely.geometry.mapping(sumatra_aoi.geometry.iloc[0]))\n",
    "lulc_samples = lulc2023_remapped.stratifiedSample(  \n",
    "    region=ee_sumatra_aoi,\n",
    "    scale=320,\n",
    "    numPoints=0,\n",
    "    classValues=[1, 2, 4, 5, 9], \n",
    "    classPoints=[200, 1000, 1000, 1000, 300],\n",
    "    seed=0,\n",
    "    geometries=True\n",
    ")\n",
    "\n",
    "\n",
    "m.addLayer(lulc_samples, {}, 'LULC Sampled Points')"
   ]
  },
  {
   "cell_type": "code",
   "execution_count": 9,
   "metadata": {},
   "outputs": [
    {
     "data": {
      "text/html": [
       "\n",
       "            <style>\n",
       "                .geemap-dark {\n",
       "                    --jp-widgets-color: white;\n",
       "                    --jp-widgets-label-color: white;\n",
       "                    --jp-ui-font-color1: white;\n",
       "                    --jp-layout-color2: #454545;\n",
       "                    background-color: #383838;\n",
       "                }\n",
       "\n",
       "                .geemap-dark .jupyter-button {\n",
       "                    --jp-layout-color3: #383838;\n",
       "                }\n",
       "\n",
       "                .geemap-colab {\n",
       "                    background-color: var(--colab-primary-surface-color, white);\n",
       "                }\n",
       "\n",
       "                .geemap-colab .jupyter-button {\n",
       "                    --jp-layout-color3: var(--colab-primary-surface-color, white);\n",
       "                }\n",
       "            </style>\n",
       "            "
      ],
      "text/plain": [
       "<IPython.core.display.HTML object>"
      ]
     },
     "metadata": {},
     "output_type": "display_data"
    },
    {
     "name": "stdout",
     "output_type": "stream",
     "text": [
      "Original number of samples: 3500\n"
     ]
    }
   ],
   "source": [
    "lulc_samples_gdf = geemap.ee_to_gdf(lulc_samples)\n",
    "print(f\"Original number of samples: {len(lulc_samples_gdf)}\")\n",
    "\n",
    "# Create buffer around positive points and remove samples within buffer\n",
    "# First convert to a projected CRS (UTM) for accurate distances in meters\n",
    "utm_zone = int(((pos_gdf.geometry.iloc[0].x + 180) / 6) + 1)\n",
    "utm_crs = f'EPSG:326{utm_zone:02d}' # Northern hemisphere\n",
    "\n",
    "# Project both dataframes to UTM\n",
    "pos_gdf_utm = pos_gdf.to_crs(utm_crs)\n",
    "lulc_samples_utm = lulc_samples_gdf.to_crs(utm_crs)\n",
    "\n",
    "# Create buffer in UTM coordinates (meters)\n",
    "pos_gdf_buffered = pos_gdf_utm.copy()\n",
    "pos_gdf_buffered.geometry = pos_gdf_utm.geometry.buffer(320)\n",
    "pos_union = pos_gdf_buffered.geometry.unary_union\n",
    "\n",
    "# Remove samples that intersect with buffered positive points\n",
    "lulc_samples_utm = lulc_samples_utm[~lulc_samples_utm.geometry.intersects(pos_union)]\n",
    "\n",
    "# Convert back to EPSG:4326\n",
    "lulc_samples_gdf_filtered = lulc_samples_utm.to_crs('EPSG:4326')\n",
    "\n",
    "# Create mapping dictionary\n",
    "class_mapping = {\n",
    "    1: 'Water',\n",
    "    2: 'Trees', \n",
    "    4: 'Crops',\n",
    "    5: 'Crops',\n",
    "    9: 'Rangeland'\n",
    "}\n",
    "\n",
    "# Add class column\n",
    "lulc_samples_gdf_filtered['class'] = lulc_samples_gdf_filtered['remapped'].map(class_mapping)\n",
    "\n",
    "\n",
    "\n",
    "\n"
   ]
  },
  {
   "cell_type": "code",
   "execution_count": 10,
   "metadata": {},
   "outputs": [
    {
     "data": {
      "text/html": [
       "\n",
       "            <style>\n",
       "                .geemap-dark {\n",
       "                    --jp-widgets-color: white;\n",
       "                    --jp-widgets-label-color: white;\n",
       "                    --jp-ui-font-color1: white;\n",
       "                    --jp-layout-color2: #454545;\n",
       "                    background-color: #383838;\n",
       "                }\n",
       "\n",
       "                .geemap-dark .jupyter-button {\n",
       "                    --jp-layout-color3: #383838;\n",
       "                }\n",
       "\n",
       "                .geemap-colab {\n",
       "                    background-color: var(--colab-primary-surface-color, white);\n",
       "                }\n",
       "\n",
       "                .geemap-colab .jupyter-button {\n",
       "                    --jp-layout-color3: var(--colab-primary-surface-color, white);\n",
       "                }\n",
       "            </style>\n",
       "            "
      ],
      "text/plain": [
       "<IPython.core.display.HTML object>"
      ]
     },
     "metadata": {},
     "output_type": "display_data"
    },
    {
     "name": "stdout",
     "output_type": "stream",
     "text": [
      "Number of samples after filtering: 3491\n"
     ]
    }
   ],
   "source": [
    "print(f\"Number of samples after filtering: {len(lulc_samples_gdf_filtered)}\")"
   ]
  },
  {
   "cell_type": "code",
   "execution_count": 11,
   "metadata": {},
   "outputs": [
    {
     "data": {
      "text/html": [
       "\n",
       "            <style>\n",
       "                .geemap-dark {\n",
       "                    --jp-widgets-color: white;\n",
       "                    --jp-widgets-label-color: white;\n",
       "                    --jp-ui-font-color1: white;\n",
       "                    --jp-layout-color2: #454545;\n",
       "                    background-color: #383838;\n",
       "                }\n",
       "\n",
       "                .geemap-dark .jupyter-button {\n",
       "                    --jp-layout-color3: #383838;\n",
       "                }\n",
       "\n",
       "                .geemap-colab {\n",
       "                    background-color: var(--colab-primary-surface-color, white);\n",
       "                }\n",
       "\n",
       "                .geemap-colab .jupyter-button {\n",
       "                    --jp-layout-color3: var(--colab-primary-surface-color, white);\n",
       "                }\n",
       "            </style>\n",
       "            "
      ],
      "text/plain": [
       "<IPython.core.display.HTML object>"
      ]
     },
     "metadata": {},
     "output_type": "display_data"
    }
   ],
   "source": [
    "lulc_samples_gdf_filtered.to_parquet(\n",
    "    '/home/christopher.x.ren/datasets/ra_tea/sumatra_neg_water_built_tree_rangeland_samples_3491.parquet')"
   ]
  },
  {
   "cell_type": "code",
   "execution_count": null,
   "metadata": {},
   "outputs": [],
   "source": []
  }
 ],
 "metadata": {
  "kernelspec": {
   "display_name": "ei-nb-v2",
   "language": "python",
   "name": "ei-nb-v2"
  },
  "language_info": {
   "codemirror_mode": {
    "name": "ipython",
    "version": 3
   },
   "file_extension": ".py",
   "mimetype": "text/x-python",
   "name": "python",
   "nbconvert_exporter": "python",
   "pygments_lexer": "ipython3",
   "version": "3.12.7"
  }
 },
 "nbformat": 4,
 "nbformat_minor": 2
}
