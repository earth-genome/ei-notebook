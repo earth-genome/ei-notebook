{
 "cells": [
  {
   "cell_type": "code",
   "execution_count": 2,
   "metadata": {},
   "outputs": [],
   "source": [
    "import geopandas as gpd\n",
    "import pandas as pd\n",
    "sumatra_bb = gpd.read_file(\n",
    "    'gs://demeter-labs/tea/geometries/sumatra_bounding_box.geojson')\n",
    "java_bb = gpd.read_file(\n",
    "    'gs://demeter-labs/tea/geometries/java_bounding_box.geojson')\n",
    "sumatra_detections = gpd.read_parquet(\n",
    "    '/home/christopher.x.ren/datasets/ra_tea/tile_classifier_predictions_v1_sumatra_prob_0.9_postprocess.parquet'\n",
    ")\n",
    "java_detections = gpd.read_parquet(\n",
    "    '/home/christopher.x.ren/datasets/ra_tea/tile_classifier_predictions_v1_java_2024-11-10_prob_0.9_postprocess.parquet'\n",
    ")\n",
    "sumatra_detections = gpd.overlay(sumatra_detections, sumatra_bb, how='intersection')\n",
    "java_detections = gpd.overlay(java_detections, java_bb, how='intersection')\n",
    "\n",
    "all_detections = gpd.GeoDataFrame(pd.concat([sumatra_detections, java_detections]), geometry='geometry')\n"
   ]
  },
  {
   "cell_type": "code",
   "execution_count": 6,
   "metadata": {},
   "outputs": [],
   "source": [
    "import os\n",
    "os.environ['GOOGLE_APPLICATION_CREDENTIALS'] = '/home/christopher.x.ren/.config/earthengine/earthindex-7d2c9b94c507.json'\n",
    "all_detections.to_parquet(\n",
    "    'gs://demeter-labs/tea/detections/detections_v1_frankenmodel_prob_0.9_postprocess.parquet')"
   ]
  },
  {
   "cell_type": "code",
   "execution_count": 7,
   "metadata": {},
   "outputs": [],
   "source": [
    "sumatra_detections.to_parquet(\n",
    "    'gs://demeter-labs/tea/detections/sumatra_detections_v1_prob_0.9_postprocess.parquet')\n",
    "java_detections.to_parquet(\n",
    "    'gs://demeter-labs/tea/detections/java_detections_v1_prob_0.9_postprocess.parquet')"
   ]
  },
  {
   "cell_type": "code",
   "execution_count": 8,
   "metadata": {},
   "outputs": [],
   "source": [
    "v2_detections = gpd.read_parquet(\n",
    "    \"/home/christopher.x.ren/datasets/ra_tea/tile_classifier_predictions_v2_java-sumatra_prob_0.9_postprocess.parquet\"\n",
    ")\n",
    "v2_detections.to_parquet(\n",
    "    'gs://demeter-labs/tea/detections/v2_detections_prob_0.9_postprocess.parquet'\n",
    ")"
   ]
  },
  {
   "cell_type": "code",
   "execution_count": 4,
   "metadata": {},
   "outputs": [],
   "source": [
    "import os\n",
    "import geopandas as gpd\n",
    "os.environ['GOOGLE_APPLICATION_CREDENTIALS'] = '/home/christopher.x.ren/.config/earthengine/earthindex-7d2c9b94c507.json'\n",
    "\n",
    "# Java files\n",
    "pos_gdf_java = gpd.read_parquet('/home/christopher.x.ren/datasets/ra_tea/pos_gdf_v1_java_2024-11-08.parquet')\n",
    "neg_gdf_java = gpd.read_parquet('/home/christopher.x.ren/datasets/ra_tea/neg_gdf_v1_java_2024-11-08.parquet')\n",
    "\n",
    "# Sumatra files\n",
    "pos_gdf_sumatra = gpd.read_parquet('/home/christopher.x.ren/datasets/ra_tea/pos_gdf_v1_sumatra_2024-11-10.parquet')\n",
    "neg_gdf_sumatra = gpd.read_parquet('/home/christopher.x.ren/datasets/ra_tea/neg_gdf_v1_sumatra_2024-11-10.parquet')\n",
    "\n",
    "# Java-Sumatra combined files\n",
    "pos_gdf_combined = gpd.read_parquet('/home/christopher.x.ren/datasets/ra_tea/pos_gdf_v2_java_sumatra_2024-11-11.parquet')\n",
    "neg_gdf_combined = gpd.read_parquet('/home/christopher.x.ren/datasets/ra_tea/neg_gdf_v2_java_sumatra_2024-11-11.parquet')\n",
    "\n",
    "# Save Java files\n",
    "pos_gdf_java.to_parquet('gs://demeter-labs/tea/ei-datasets/pos_gdf_v1_java_2024-11-08.parquet')\n",
    "neg_gdf_java.to_parquet('gs://demeter-labs/tea/ei-datasets/neg_gdf_v1_java_2024-11-08.parquet')\n",
    "\n",
    "# Save Sumatra files\n",
    "pos_gdf_sumatra.to_parquet('gs://demeter-labs/tea/ei-datasets/pos_gdf_v1_sumatra_2024-11-10.parquet')\n",
    "neg_gdf_sumatra.to_parquet('gs://demeter-labs/tea/ei-datasets/neg_gdf_v1_sumatra_2024-11-10.parquet')\n",
    "\n",
    "# Save combined files\n",
    "pos_gdf_combined.to_parquet('gs://demeter-labs/tea/ei-datasets/pos_gdf_v2_java_sumatra_2024-11-11.parquet')\n",
    "neg_gdf_combined.to_parquet('gs://demeter-labs/tea/ei-datasets/neg_gdf_v2_java_sumatra_2024-11-11.parquet')\n"
   ]
  },
  {
   "cell_type": "code",
   "execution_count": 5,
   "metadata": {},
   "outputs": [],
   "source": [
    "# Java-Sumatra water samples\n",
    "java_water = gpd.read_parquet('/home/christopher.x.ren/datasets/ra_tea/java_neg_water_built_tree_rangeland_samples_10090.parquet')\n",
    "sumatra_water = gpd.read_parquet('/home/christopher.x.ren/datasets/ra_tea/sumatra_neg_water_built_tree_rangeland_samples_3491.parquet')\n",
    "java_sumatra_water = gpd.read_parquet('/home/christopher.x.ren/datasets/ra_tea/java_sumatra_water_built_tree_rangeland_samples_76511.parquet')\n",
    "\n",
    "# Save water samples to GCS\n",
    "java_water.to_parquet('gs://demeter-labs/tea/samples/java_neg_water_built_tree_rangeland_samples_2024-11-08.parquet')\n",
    "sumatra_water.to_parquet('gs://demeter-labs/tea/ei-samples/sumatra_neg_water_built_tree_rangeland_samples_2024-11-10.parquet') \n",
    "java_sumatra_water.to_parquet('gs://demeter-labs/tea/ei-samples/java_sumatra_neg_water_built_tree_rangeland_samples_2024-11-11.parquet')\n"
   ]
  },
  {
   "cell_type": "code",
   "execution_count": null,
   "metadata": {},
   "outputs": [],
   "source": []
  }
 ],
 "metadata": {
  "kernelspec": {
   "display_name": "ei-nb-v2",
   "language": "python",
   "name": "ei-nb-v2"
  },
  "language_info": {
   "codemirror_mode": {
    "name": "ipython",
    "version": 3
   },
   "file_extension": ".py",
   "mimetype": "text/x-python",
   "name": "python",
   "nbconvert_exporter": "python",
   "pygments_lexer": "ipython3",
   "version": "3.12.7"
  }
 },
 "nbformat": 4,
 "nbformat_minor": 2
}
